{
 "cells": [
  {
   "cell_type": "markdown",
   "metadata": {},
   "source": [
    "<a id=\"topo\"></a>\n",
    "# Tópicos Básicos em Python\n",
    "0.  [Preliminares: Versão, Saída e Entrada de Dados, Constantes](#0.)\n",
    "1.\t<a href=\"#1.\">Variáveis, Operações e Funções Incorporadas</a>\n",
    "2.\t[Tipos de Dados e Conversões](#2.)\n",
    "3.\t<a href=\"#3.\">String</a>\n",
    "4.\t<a href=\"#4.\">Intervalo</a>\n",
    "5.\t<a href=\"#5.\">Lista</a>\n",
    "6.\t<a href=\"#6.\">Tupla</a>\n",
    "7.\t<a href=\"#7.\">Conjunto</a>\n",
    "8.\t<a href=\"#8.\">Dicionário</a>\n",
    "9.\t<a href=\"#9.\">Entrada de Dados</a>\n",
    "10.\t<a href=\"#10.\">Controle de Fluxo de Execução</a>\n",
    "11.\t<a href=\"#11.\">Funções Incorporadas</a>\n",
    "12.\t<a href=\"#12.\">Função Definida pelo Usuário</a>\n",
    "13.\t<a href=\"#13.\">Arquivos de E/S</a>\n",
    "14.\t<a href=\"#14.\">Exceções</a>"
   ]
  },
  {
   "cell_type": "code",
   "execution_count": 1,
   "metadata": {},
   "outputs": [
    {
     "data": {
      "text/html": [
       "<!-- Configuração para Tabelas -->\n",
       "<style>\n",
       "table td, table th, table tr {text-align:center !important; float:center}\n",
       "</style>\n"
      ],
      "text/plain": [
       "<IPython.core.display.HTML object>"
      ]
     },
     "metadata": {},
     "output_type": "display_data"
    }
   ],
   "source": [
    "%%html\n",
    "<!-- Configuração para Tabelas -->\n",
    "<style>\n",
    "table td, table th, table tr {text-align:center !important; float:center}\n",
    "</style>"
   ]
  },
  {
   "cell_type": "code",
   "execution_count": 39,
   "metadata": {},
   "outputs": [],
   "source": [
    "# Ao finalizar uma célula Jupyter com o nome de uma saída variável ou uma expressão, \n",
    "# o Jupyter exibirá essa variável ou resultado da expressão sem a necessidade de uma instrução print.\n",
    "# Isso é útil ao lidar com os Data Frames do 'Pandas', pois a saída é formatada em uma tabela.\n",
    "# Para tanto, basta alterar uma opção do kernel para que isso não só aconteça com a última linha.\n",
    "from IPython.core.interactiveshell import InteractiveShell\n",
    "InteractiveShell.ast_node_interactivity = \"all\""
   ]
  },
  {
   "cell_type": "markdown",
   "metadata": {},
   "source": [
    "<a id=\"0.\"></a>\n",
    "### Versão em Uso\n",
    "Para se certificar da versão do interpretador Python que está em uso, digite:"
   ]
  },
  {
   "cell_type": "code",
   "execution_count": 8,
   "metadata": {},
   "outputs": [
    {
     "name": "stdout",
     "output_type": "stream",
     "text": [
      "('Vers\\xc3\\xa3o Python em uso: ', '2.7.15')\n"
     ]
    }
   ],
   "source": [
    "# verificação da versão do interpretador Python em uso\n",
    "import sys\n",
    "versao = sys.version\n",
    "print('Versão Python em uso: ',versao.split(' ')[0])"
   ]
  },
  {
   "cell_type": "markdown",
   "metadata": {},
   "source": [
    "### Saída de Dados: `print`\n",
    "\n",
    "<u>Versão 2.7</u>:  é um comando de saída de dados no dispositivo `stdout`.\n",
    "\n",
    "<u>Versão 3.7</u>:  é uma função que realiza a saída de dados no dispositivo `stdout`"
   ]
  },
  {
   "cell_type": "code",
   "execution_count": 15,
   "metadata": {},
   "outputs": [
    {
     "name": "stdout",
     "output_type": "stream",
     "text": [
      "Help on built-in function print in module builtins:\n",
      "\n",
      "print(...)\n",
      "    print(value, ..., sep=' ', end='\\n', file=sys.stdout, flush=False)\n",
      "    \n",
      "    Prints the values to a stream, or to sys.stdout by default.\n",
      "    Optional keyword arguments:\n",
      "    file:  a file-like object (stream); defaults to the current sys.stdout.\n",
      "    sep:   string inserted between values, default a space.\n",
      "    end:   string appended after the last value, default a newline.\n",
      "    flush: whether to forcibly flush the stream.\n",
      "\n"
     ]
    }
   ],
   "source": [
    "help(print)"
   ]
  },
  {
   "cell_type": "code",
   "execution_count": 51,
   "metadata": {},
   "outputs": [
    {
     "name": "stdout",
     "output_type": "stream",
     "text": [
      "Object `str.replace()` not found.\n"
     ]
    }
   ],
   "source": [
    "?str.replace()"
   ]
  },
  {
   "cell_type": "markdown",
   "metadata": {},
   "source": [
    "### Entrada de Dados: `input()`\n"
   ]
  },
  {
   "cell_type": "code",
   "execution_count": 42,
   "metadata": {},
   "outputs": [
    {
     "name": "stdout",
     "output_type": "stream",
     "text": [
      "Entre o nome do funcionário: Margot Robbie\n",
      "Entre o salario:          R$ 2333.44\n",
      "Entre o nome da Empresa:    Australian Actress\n"
     ]
    },
    {
     "data": {
      "text/plain": [
       "(str, float)"
      ]
     },
     "execution_count": 42,
     "metadata": {},
     "output_type": "execute_result"
    }
   ],
   "source": [
    "nome    = input(\"Entre o nome do funcionário: \")\n",
    "salario = float(input(\"Entre o salario:          R$ \"))\n",
    "empresa = input(\"Entre o nome da Empresa:    \")\n",
    "type(nome), type(salario)"
   ]
  },
  {
   "cell_type": "code",
   "execution_count": 43,
   "metadata": {},
   "outputs": [
    {
     "name": "stdout",
     "output_type": "stream",
     "text": [
      "\n",
      "*** Dados do Funcionário ***\n",
      "Nome                      Salário   Empresa             \n",
      "Margot Robbie             2333.44   Australian Actress  \n"
     ]
    }
   ],
   "source": [
    "print(\"\\n*** Dados do Funcionário ***\")\n",
    "print(\"%-25s %7s   %-20s\" % (\"Nome\",\"Salário\",\"Empresa\"))\n",
    "print(\"%-25s %7.2f   %-20s\" % (nome, salario, empresa))"
   ]
  },
  {
   "cell_type": "markdown",
   "metadata": {},
   "source": [
    "### Tipos de Dados\n",
    "Python suporta quatro tipos de dados numéricos diferentes:\n",
    "- `int` (inteiros com sinal): Eles geralmente são chamados de inteiros ou _ints_, e são números inteiros (sem ponto decimal) positivos ou negativos. \n",
    "- `long` (inteiros longos): Também chamados de _longs_, são inteiros de tamanho \"ilimitado\". No python2 são escritos como inteiros seguidos da letra `L` (maiúscula ou minúscula). \n",
    "- `float` (valores reais de ponto flutuante): Também chamados de _floats_, eles representam números reais e são escritos com um ponto decimal dividindo as partes inteira e fracionária. Números _floats_ também podem ser escritos em notação científica, com `E` ou `e` indicando a potência de 10 ($2.5e2 = 2.5 x 10^2 = 250$). \n",
    "- `complex` (números complexos): são da forma `a + bj`, onde `a` e `b` são _floats_ e `j` (ou `J`) representa a raiz quadrada de -1, $\\sqrt{-1}$, (número imaginário). A parte real do número é `a`, e a parte imaginária é `b`.\n",
    "- `bool` (valores lógicos): admitem apenas dois valores (palavras-chave) - `True` (verdade) e `False` (falso)."
   ]
  },
  {
   "cell_type": "markdown",
   "metadata": {},
   "source": [
    "### Constantes"
   ]
  },
  {
   "cell_type": "markdown",
   "metadata": {},
   "source": [
    "|   int  | long                 |       float       | complex    |\n",
    "|:------:|----------------------|:-----------------:|:-----------|\n",
    "|   10   | 51924361             |        0.0        | 3.14j      |\n",
    "|   100  | -0x19323             |       15.20       | 45.j       |\n",
    "|  -786  | 122                  |       -21.9       | 9.322e-36j |\n",
    "| 0x80   | 0xDEFABCECBDA        | 32.3+e18          | .876j      |\n",
    "| 0o60   | 4897495739349        | 4897495739349e-12 | 2-2j       |\n",
    "| -490   | 535633629843         | -90.              | -.6545+0J  |\n",
    "| -0x260 | -052318172735        | -32.54e100        | 3e+26J     |\n",
    "| 0x69   | -4721885298529       | 70.2E-2           | 4.53e-7j   |"
   ]
  },
  {
   "cell_type": "code",
   "execution_count": 18,
   "metadata": {},
   "outputs": [
    {
     "data": {
      "text/plain": [
       "(15323030801370.0, 0.876j, (-0.6545+0j), 0.0, 3.23e+19, 48, 4.897495739349)"
      ]
     },
     "execution_count": 18,
     "metadata": {},
     "output_type": "execute_result"
    }
   ],
   "source": [
    "float(0xDEFABCECBDA), .876j, -.6545+0J, (4.53e-7j).real, 32.3e+18, 0o60, 4897495739349e-12"
   ]
  },
  {
   "cell_type": "markdown",
   "metadata": {},
   "source": [
    "<p style=\"text-align:right;\"><a href=\"#topo\">Volta ao topo</a></p>"
   ]
  },
  {
   "cell_type": "markdown",
   "metadata": {},
   "source": [
    "<a id=\"1.\"></a>\n",
    "## 1. Varíaveis, Operações e Funções Incorporadas"
   ]
  },
  {
   "cell_type": "markdown",
   "metadata": {},
   "source": [
    "###  Identificadores \n",
    "Existem regras que devem ser seguidas para nomear identificadores (nomes de variáveis, funções, classes etc.) em Python. \n",
    "1. Você não pode usar __palavras-chave__ como identificadores. \n",
    "\n",
    "2. Os identificadores são gerados a partir da combinação de caracteres alfabéticos (`'a-z'`e `'A-Z'`), algarismos decimais (`'0-9'`) e sublinhados (`'_'`). \n",
    "\n",
    "3. Um identificador __não pode__ começar com algarismo (dígito). \n",
    "\n",
    "4. Caracteres especiais (`'@'`, `'#'`, `'\\$'` etc.) não são permitidos.\n",
    "\n",
    "5. Identificadores podem ser de qualquer comprimento em Python. Porém, o guia de estilo padrão do Python, mais especificamente o __PEP-8__ (_Python Enhancement Proposal_ - Proposta de Aprimoramento do Python), limita o comprimento da linha de código a 79 caracteres..."
   ]
  },
  {
   "cell_type": "code",
   "execution_count": 19,
   "metadata": {},
   "outputs": [
    {
     "name": "stdout",
     "output_type": "stream",
     "text": [
      "['False', 'None', 'True', 'and', 'as', 'assert', 'async', 'await', 'break', 'class', 'continue', 'def', 'del', 'elif', 'else', 'except', 'finally', 'for', 'from', 'global', 'if', 'import', 'in', 'is', 'lambda', 'nonlocal', 'not', 'or', 'pass', 'raise', 'return', 'try', 'while', 'with', 'yield']\n"
     ]
    }
   ],
   "source": [
    "import keyword\n",
    "print(keyword.kwlist)"
   ]
  },
  {
   "cell_type": "code",
   "execution_count": 20,
   "metadata": {
    "scrolled": true
   },
   "outputs": [
    {
     "ename": "SyntaxError",
     "evalue": "invalid syntax (<ipython-input-20-326bd0e041aa>, line 1)",
     "output_type": "error",
     "traceback": [
      "\u001b[1;36m  File \u001b[1;32m\"<ipython-input-20-326bd0e041aa>\"\u001b[1;36m, line \u001b[1;32m1\u001b[0m\n\u001b[1;33m    1variavel = 6\u001b[0m\n\u001b[1;37m            ^\u001b[0m\n\u001b[1;31mSyntaxError\u001b[0m\u001b[1;31m:\u001b[0m invalid syntax\n"
     ]
    }
   ],
   "source": [
    "1variavel = 6 "
   ]
  },
  {
   "cell_type": "code",
   "execution_count": null,
   "metadata": {},
   "outputs": [],
   "source": [
    "True = 6 "
   ]
  },
  {
   "cell_type": "code",
   "execution_count": null,
   "metadata": {},
   "outputs": [],
   "source": [
    "variavel@ = 6 "
   ]
  },
  {
   "cell_type": "markdown",
   "metadata": {},
   "source": [
    "### Atribuição de Valor:   `<id_variável> [operador] <cte/expressão>`\n",
    "Um sinal de igualdade `=` é usado à direita de uma variável e à esquerda de uma expressão, como __operador de atribuição__ (armazenamento) de um valor a uma variável, tal como ocorre na grande maioria das linguagens de programação de computadores. Em Python, os tipos de dados numéricos são imutáveis, de forma que toda atribuição de um valor numérico a uma variável cria um novo objeto numérico.\n",
    "\n",
    "Sempre que pressionarmos qualquer tecla numérica, letra ou instrução no console do Python seguida da tecla [Enter], a resposta do interpretador Python ao comando será mostrada na linha seguinte. Mas, se atribuirmos um valor a uma variável, à esquerda do sinal de igual `=`, e pressionarmos [Enter], nenhuma informação será exibida na linha seguinte. Apenas o resultado da expressão digitada ao lado direito do sinal de igualdade será armazenada na variável. \n",
    "\n",
    "Uma variável pode ser vista como uma pequena caixa na memória do computador, na qual se armazena uma informação. Quando declaramos uma variável, o computador aloca determinada memória para armazenar essa variável. O endereço de memória de cada variável é único. No Python a declaração explícita de variáveis não existe pois a linguagem faz a declaração automática da variável sempre que uma atribuição é realizada (tipificação dinâmica)."
   ]
  },
  {
   "cell_type": "markdown",
   "metadata": {},
   "source": [
    "Exemplos de atribuição de valores a variáveis (criação de variáveis) e apresentação de seus conteúdos usando o comando (2.x) ou função (3.x) `print`:"
   ]
  },
  {
   "cell_type": "code",
   "execution_count": null,
   "metadata": {},
   "outputs": [],
   "source": [
    "x = 'Python + Machine Learning = Sucesso'    # criação da var. 'x' e atribuição de valor para var. 'x'\n",
    "print(x)                                     # apresentação do conteúdo da var. 'x'\n",
    "ML = 2019                                    # criação da var. 'ML' e atribuição de valor (cte) à var. 'ML'\n",
    "xl = ML + 10                                 # criação da var. 'xL' e atribuição de valor (expressão) à var. 'xl'\n",
    "print(ML)                                    # apresentação do conteúdo da var. 'ML'\n",
    "print(xl)                                    # apresentação do conteúdo da var. 'xl'"
   ]
  },
  {
   "cell_type": "markdown",
   "metadata": {},
   "source": [
    "#### Atribuição Múltipla\n",
    "O Python nos permite atribuir a várias variáveis um mesmo valor numa mesma expressão. Para isso, devemos separar as variáveis que receberam o mesmo valor com vírgulas."
   ]
  },
  {
   "cell_type": "code",
   "execution_count": null,
   "metadata": {},
   "outputs": [],
   "source": [
    "a = 1\n",
    "b, c, d = 2, 9, a\n",
    "print(a,b,c,d)"
   ]
  },
  {
   "cell_type": "markdown",
   "metadata": {},
   "source": [
    "No código acima, declaramos 3 variáveis. À variável `a` é atribuído o valor `1`. Às var.s `b` e `c`, separadas por vírgula, são atribuídos o valor `2`."
   ]
  },
  {
   "cell_type": "markdown",
   "metadata": {},
   "source": [
    "No exemplo anterior, a string <tt>'Python + Machine Learning = Sucesso'</tt> é armazenada numa variável chamada `x`. No código seguinte, o comando (a função, Vs.>3) **print** apresenta o valor armazenado na variável `x`. Depois foi atribuído o valor 2019 à variável `ML`, e então mostrado na tela. Na linha seguinte foi feito uma operação aritmética de soma <tt>ML + 10</tt> e o resultado atribuído à variável `xl`, e então o resultado é mostrado na linha seguinte...\n",
    "\n",
    "Você pode excluir um único objeto (variável) ou vários objetos (variáveis) usando a instrução `del`. Por exemplo:"
   ]
  },
  {
   "cell_type": "code",
   "execution_count": null,
   "metadata": {},
   "outputs": [],
   "source": [
    "del ML\n",
    "del x, xl\n",
    "print(x)"
   ]
  },
  {
   "cell_type": "markdown",
   "metadata": {},
   "source": [
    "### Operadores Aritméticos\n",
    "Soma (+), subtração (-), multiplicação (\\*), divisão (/), resto da divisão inteira (%), divisão inteira (//), potenciação (\\*\\*). A prioridade de execução segue os padrões matemáticos. Usando parênteses pode-se definir que parte da operação será feita antes da operação."
   ]
  },
  {
   "cell_type": "markdown",
   "metadata": {},
   "source": [
    "<table>\n",
    "  <tr>\n",
    "    <th text-align:center;vertical-align:top>Operador</th> <th>Exemplo</th> <th text-align:left>Descrição</th>\n",
    "  </tr>\n",
    "  <tr>\n",
    "    <td>+</td> <td align=center>a + b</td><td align=\"left\">Soma os operandos em ambos lados do operador.</td>\n",
    "  </tr>\n",
    "  <tr>\n",
    "    <td>-</td><td>a - b</td><td>Subtrai o operando do lado direito do operando do lado esquerdo.<td>\n",
    "  </tr>\n",
    "  <tr>\n",
    "    <td>\\*</td><td>a \\* b</td><td>Multiplica os operandos em ambos lados do operador.</td>\n",
    "  </tr>\n",
    "  <tr>\n",
    "    <td>/</td><td>a / b</td><td>Divide o operando do lado esquerdo pelo operando do lado direito do operador (python2: retorna valor inteiro se operandos são inteiros).</td>\n",
    "  </tr>\n",
    "  <tr>\n",
    "    <td>%</td><td>a % b</td><td>Retorna o resto da divisão inteira do operando do lado esquerdo pelo operando do lado direito do operador.</td>\n",
    "  </tr>\n",
    "  <tr>\n",
    "    <td>**</td><td>a ** b</td><td>Retorna a potenciação do operador do lado esquerdo elevado ao operador do lado direito do operador.</td>\n",
    "  </tr>\n",
    "  <tr>\n",
    "    <td>//</td><td>a // b</td><td>Retorna o quociente da divisão dos operandos, onde o resultado é do tipo inteiro. Mas se um dos operandos for negativo, o resultado é flutuante, isto é, arredondado para longe de zero (em direção ao infinito negativo).</td>\n",
    "  </tr>\n",
    "</table>"
   ]
  },
  {
   "cell_type": "code",
   "execution_count": null,
   "metadata": {},
   "outputs": [],
   "source": [
    "12-4*9, (12-4)*9, 12-(4*9), 8 % 3, 1/7"
   ]
  },
  {
   "cell_type": "markdown",
   "metadata": {},
   "source": [
    "**Atenção**: Divisão com operandos inteiros apresenta resultado também inteiro no python2. Naquele caso, para se obter resultado fracionário um dos operandos deve ser do tipo real (*float*)."
   ]
  },
  {
   "cell_type": "code",
   "execution_count": null,
   "metadata": {},
   "outputs": [],
   "source": [
    "8/6, 8./6, 12.5/3, 12.5//3, 13 % 5, 2**10"
   ]
  },
  {
   "cell_type": "markdown",
   "metadata": {},
   "source": [
    "**Operadores Relacionais**\n",
    "<table>\n",
    "  <tr>\n",
    "      <th>Operador</th><th>Exemplo</th><th align=\"left\">Descrição</th>\n",
    "  </tr>\n",
    "  <tr>\n",
    "    <td><center>==</center></td><td>a == b</td><td>Retorna True se os operandos são iguais, e retorna False caso contrário.</td>\n",
    "  </tr>\n",
    "  <tr>\n",
    "    <td><center>!=, <></center></td><td>a != b</td><td>Retorna True se os operandos são diferentes, e retorna False caso contrário.</td>\n",
    "  </tr>\n",
    "  <tr>\n",
    "    <td><center>></center></td><td>a > b</td><td>Retorna True se o operando do lado esquerdo do operador for maior que o operando do lado direito, e retorna False caso contrário.</td>\n",
    "  </tr>\n",
    "  <tr>\n",
    "    <td><center> < </center></td><td>a < b</td><td>Retorna True se o operando do lado esquerdo do operador for menor que o operando do lado direito, e retorna False caso contrário.</td>\n",
    "  </tr>\n",
    "  <tr>\n",
    "    <td><center>>=</center></td><td>a >= b</td><td>Retorna True se o operando do lado esquerdo do operador for maior ou igual ao operando do lado direito, e retorna False caso contrário.</td>\n",
    "  </tr>\n",
    "  <tr>\n",
    "    <td><center> <= </center></td><td>a <= b</td><td>Retorna True se o operando do lado esquerdo do operador for menor ou igual ao operando do lado direito, e retorna False caso contrário.</td>\n",
    "  </tr>\n",
    "</table>"
   ]
  },
  {
   "cell_type": "markdown",
   "metadata": {},
   "source": [
    "**Operadores Lógicos**\n",
    "<table>\n",
    "  <tr>\n",
    "    <th text-align: center;>Operador</th><th>Exemplo</th><th text-align: center;>Descrição</th>\n",
    "  </tr>\n",
    "  <tr>\n",
    "    <td><center> and </center></td><td>a and b</td><td>Retorna True se os operandos são True, e retorna False caso contrário.</td>\n",
    "  </tr>\n",
    "  <tr>\n",
    "    <td><center> or </center></td><td>a or b</td><td>Retorna True se qq. um dos operandos, ou ambos, são True, e retorna False caso contrário.</td>\n",
    "  </tr>\n",
    "  <tr>\n",
    "    <td><center> not </center></td><td> not a </td><td>Complementa o valor do operando lógico 'a'.</td>\n",
    "  </tr>\n",
    "</table>"
   ]
  },
  {
   "cell_type": "markdown",
   "metadata": {},
   "source": [
    "**Operadores bit a bit**: atua nos operandos no nível de bits.\n",
    "\n",
    "<table>\n",
    "  <tr>\n",
    "    <th><center> Operador </center></th><th>Exemplo</th><th>Descrição</th>\n",
    "  </tr>\n",
    "  <tr>\n",
    "    <td><center> & </center></td><td>a & b</td><td>Operação E: copia um bit para o resultado se ele existe em ambos operandos.</td>\n",
    "  </tr>\n",
    "  <tr>\n",
    "    <td><center> | </center></td><td>a | b</td><td>Operação OU: copia um bit para o resultado se ele existe em pelo menos um dos operandos.</td>\n",
    "  </tr>\n",
    "  <tr>\n",
    "    <td><center> ^ </center></td><td>a ^ b</td><td>Operação XOU: copia um bit para o resultado se ele estiver ligado (1) em um dos operandos, mas não em ambos.</td>\n",
    "  </tr>\n",
    "  <tr>\n",
    "    <td><center> ~ </center></td><td>~a</td><td>Operação Complemento 1: comuta os bits do operando 'a'.</td>\n",
    "  </tr>\n",
    "  <tr>\n",
    "    <td><center> << </center></td><td>a << b</td><td>Operação Deslocamento à Esquerda: desloca p/ esq. os bits do operando 'a' da quantidade de bits indicada pelo operando 'b'.</td>\n",
    "  </tr>\n",
    "  <tr>\n",
    "    <td><center> >> </center></td><td>a >> b</td><td>Operação Deslocamento à Direita: desloca p/ dir. os bits do operando 'a' da quantidade de bits indicada pelo operando 'b'.</td>\n",
    "  </tr>\n",
    "</table>"
   ]
  },
  {
   "cell_type": "markdown",
   "metadata": {},
   "source": [
    "**Operadores de Pertinência**: indica a existência/pertinência de um elemento num iterável.\n",
    "<table>\n",
    "  <tr>\n",
    "    <th><center> Operador </center></th><th>Exemplo</th><th text-align: center;>Descrição</th>\n",
    "  </tr>\n",
    "  <tr>\n",
    "    <td><center> in </center></td><td>a in b</td><td>Retorna True se o operando 'a' estiver presente na sequência 'b'.</td>\n",
    "  </tr>\n",
    "  <tr>\n",
    "    <td><center> not in </center></td><td>a not in b</td><td>Retorna True se o operando 'a' não estiver presente na sequência 'b'.</td>\n",
    "  </tr>\n",
    "</table>"
   ]
  },
  {
   "cell_type": "markdown",
   "metadata": {},
   "source": [
    "**Operadores de Identidade**: indica a existência/pertinência de um elemento num iterável.\n",
    "\n",
    "<table>\n",
    "  <tr>\n",
    "    <th><center> Operador </center></th><th>Exemplo</th><th>Descrição</th>\n",
    "  </tr>\n",
    "  <tr>\n",
    "    <td><center> is </center></td><td>x is &lt;tipo&gt;</td><td>Retorna True se  se ambos os operandos se referirem ao mesmo tipo de objeto.</td>\n",
    "  </tr>\n",
    "  <tr>\n",
    "    <td><center> is not </center></td><td>x is not &lt;tipo&gt;</td><td>Retorna False se as variáveis de cada lado do operador apontarem para o mesmo tipo de objeto e True de outra forma.</td>\n",
    "  </tr>\n",
    "</table>"
   ]
  },
  {
   "cell_type": "markdown",
   "metadata": {},
   "source": [
    "#### Funções Matemáticas\n",
    "\n",
    "| Função    | Descrição                                                     |       float       | complex    |\n",
    "|-----------|---------------------------------------------------------------|:-----------------:|------------|\n",
    "| abs(x)    | O valor absoluto de x: a distância (positiva) entre x e zero. |        0.0        | 3.14j      |\n",
    "| ceil(x)   | O teto de x: o menor inteiro não menor que x                  |       15.20       | 45.j       |\n",
    "| cmp(x, y) | -1 se x < y; 0 se x == y ou 1 se x > y                        |         y         | 9.322e-36j |\n",
    "| exp(x)    | O exponencial de x: $e^x$                                     | 32.3+e18          | .876j      |\n",
    "| fabs(x)   | O valor absoluto de x.                                        | 4897495739349e-12 | 2-2j       |\n",
    "| floor(x)  | O piso de x: o maior número inteiro não maior que x           | -90.              | -.6545+0J  |\n",
    "| log(x)    | O logaritmo natural de x, para x> 0                           | -32.54e100        | 3e+26J     |\n",
    "| log10(x)  | O logaritmo de base 10 de x para x> 0                         | 70.2E-2           | 4.53e-7j   |\n",
    "\n",
    "| Função                           | Descrição                                                               |\n",
    "|----------------------------------|-------------------------------------------------------------------------|\n",
    "| choice(seq)                      | Um item aleatório de uma lista, tupla ou string.                        |\n",
    "| randrange([start,] stop [,step]) | Um elemento selecionado aleatoriamente do intervalo (iniciar, parar, passo)|\n",
    "| random()                         |  Retorna um float r aleatório, tal que 0 <= r < 1                       |\n",
    "| seed([x])                        | Define o valor inicial do inteiro usado na geração de números aleatórios. Sem retorno.|\n",
    "| shuffle(lst)                     | Randomiza os itens de uma lista no lugar. Sem retorno.                  |\n",
    "\n",
    "| Função      | Descrição                                         |\n",
    "|-------------|---------------------------------------------------|\n",
    "| acos(x)     | Retorna o arco cosseno de x, em radianos.         |\n",
    "| asin(x)     | Retorne o arco seno de x, em radianos.            |\n",
    "| atan(x)     | Retorna o arco tangente de x, em radianos.        |\n",
    "| atan2(y, x) | Retorna atan (y / x), em radianos.                |\n",
    "| cos(x)      | Retorna o cosseno de x radianos.                  |\n",
    "| hypot(x, y) | Retorna a norma euclidiana, sqrt (x * x + y * y). |\n",
    "| sin(x)      | Devolve o seno de x radianos.                     |\n",
    "| tan(x)      | Retorna a tangente de x radianos.                 |\n",
    "| degrees(x)  | Converte o ângulo x de radianos para graus.       |\n",
    "| radians(x)  | Converte o ângulo x de graus para radianos.       |"
   ]
  },
  {
   "cell_type": "markdown",
   "metadata": {},
   "source": [
    "***"
   ]
  },
  {
   "cell_type": "markdown",
   "metadata": {},
   "source": [
    "### Funções Incorporadas (_Built in_)\n",
    "O interpretador Python possui várias funções e tipos de dados integrados que estão sempre disponíveis, e são listados em ordem alfabética na seguinte tabela:"
   ]
  },
  {
   "cell_type": "markdown",
   "metadata": {},
   "source": [
    "<style type=\"text/css\">\n",
    ".tg  {border-collapse:collapse;border-spacing:0;}\n",
    ".tg td{font-family:Arial, sans-serif;font-size:14px;padding:10px 5px;border-style:solid;border-width:1px;overflow:hidden;word-break:normal;border-color:black;}\n",
    ".tg th{font-family:Arial, sans-serif;font-size:14px;font-weight:normal;padding:10px 5px;border-style:solid;border-width:1px;overflow:hidden;word-break:normal;border-color:black;}\n",
    ".tg .tg-baqh{text-align:center;vertical-align:top}\n",
    ".tg .tg-uys7{border-color:inherit;text-align:center}\n",
    ".tg .tg-s8ju{font-size:15px;border-color:inherit;text-align:center}\n",
    "</style>\n",
    "<table class=\"tg\">\n",
    "  <tr>\n",
    "    <th class=\"tg-s8ju\" colspan=\"5\"><center><span style=\"font-weight:bold\">Funções Incorporadas (3.x)</span></center></th>\n",
    "  </tr>\n",
    "  <tr>\n",
    "    <td class=\"tg-uys7\">abs()</td>\n",
    "    <td class=\"tg-uys7\">delattr()</td>\n",
    "    <td class=\"tg-uys7\">hash()</td>\n",
    "    <td class=\"tg-uys7\">memoryview()</td>\n",
    "    <td class=\"tg-uys7\">set()</td>\n",
    "  </tr>\n",
    "  <tr>\n",
    "    <td class=\"tg-uys7\">all()</td>\n",
    "    <td class=\"tg-uys7\">dict()</td>\n",
    "    <td class=\"tg-uys7\">help()</td>\n",
    "    <td class=\"tg-uys7\">min()</td>\n",
    "    <td class=\"tg-uys7\">setattr()</td>\n",
    "  </tr>\n",
    "  <tr>\n",
    "    <td class=\"tg-uys7\">any()</td>\n",
    "    <td class=\"tg-uys7\">dir()</td>\n",
    "    <td class=\"tg-uys7\">hex()</td>\n",
    "    <td class=\"tg-uys7\">next()</td>\n",
    "    <td class=\"tg-uys7\">slice()</td>\n",
    "  </tr>\n",
    "  <tr>\n",
    "    <td class=\"tg-uys7\">ascii()</td>\n",
    "    <td class=\"tg-uys7\">divmod()</td>\n",
    "    <td class=\"tg-uys7\">id()</td>\n",
    "    <td class=\"tg-uys7\">object()</td>\n",
    "    <td class=\"tg-uys7\">sorted()</td>\n",
    "  </tr>\n",
    "  <tr>\n",
    "    <td class=\"tg-uys7\">bin()</td>\n",
    "    <td class=\"tg-uys7\">enumerate()</td>\n",
    "    <td class=\"tg-uys7\">input()</td>\n",
    "    <td class=\"tg-uys7\">oct()</td>\n",
    "    <td class=\"tg-uys7\">staticmethod()</td>\n",
    "  </tr>\n",
    "  <tr>\n",
    "    <td class=\"tg-uys7\">bool()</td>\n",
    "    <td class=\"tg-uys7\">eval()</td>\n",
    "    <td class=\"tg-uys7\">int()</td>\n",
    "    <td class=\"tg-uys7\">open()</td>\n",
    "    <td class=\"tg-uys7\">str()</td>\n",
    "  </tr>\n",
    "  <tr>\n",
    "    <td class=\"tg-baqh\">breakpoint()</td>\n",
    "    <td class=\"tg-baqh\">exec()</td>\n",
    "    <td class=\"tg-baqh\">isinstance()</td>\n",
    "    <td class=\"tg-baqh\">ord()</td>\n",
    "    <td class=\"tg-baqh\">sum()</td>\n",
    "  </tr>\n",
    "  <tr>\n",
    "    <td class=\"tg-baqh\">bytearray()</td>\n",
    "    <td class=\"tg-baqh\">filter()</td>\n",
    "    <td class=\"tg-baqh\">issubclass()</td>\n",
    "    <td class=\"tg-baqh\">pow()</td>\n",
    "    <td class=\"tg-baqh\">super()</td>\n",
    "  </tr>\n",
    "  <tr>\n",
    "    <td class=\"tg-baqh\">bytes()</td>\n",
    "    <td class=\"tg-baqh\">float()</td>\n",
    "    <td class=\"tg-baqh\">iter()</td>\n",
    "    <td class=\"tg-baqh\">print()</td>\n",
    "    <td class=\"tg-baqh\">tuple()</td>\n",
    "  </tr>\n",
    "  <tr>\n",
    "    <td class=\"tg-baqh\">callable()</td>\n",
    "    <td class=\"tg-baqh\">format()</td>\n",
    "    <td class=\"tg-baqh\">len()</td>\n",
    "    <td class=\"tg-baqh\">property()</td>\n",
    "    <td class=\"tg-baqh\">type()</td>\n",
    "  </tr>\n",
    "  <tr>\n",
    "    <td class=\"tg-baqh\">chr()</td>\n",
    "    <td class=\"tg-baqh\">frozenset()</td>\n",
    "    <td class=\"tg-baqh\">list()</td>\n",
    "    <td class=\"tg-baqh\">range()</td>\n",
    "    <td class=\"tg-baqh\">vars()</td>\n",
    "  </tr>\n",
    "  <tr>\n",
    "    <td class=\"tg-baqh\">classmethod()</td>\n",
    "    <td class=\"tg-baqh\">getattr()</td>\n",
    "    <td class=\"tg-baqh\">locals()</td>\n",
    "    <td class=\"tg-baqh\">repr()</td>\n",
    "    <td class=\"tg-baqh\">zip()</td>\n",
    "  </tr>\n",
    "  <tr>\n",
    "    <td class=\"tg-baqh\">compile()</td>\n",
    "    <td class=\"tg-baqh\">globals()</td>\n",
    "    <td class=\"tg-baqh\">map()</td>\n",
    "    <td class=\"tg-baqh\">reversed()</td>\n",
    "    <td class=\"tg-baqh\">__import__()</td>\n",
    "  </tr>\n",
    "  <tr>\n",
    "    <td class=\"tg-baqh\">complex()</td>\n",
    "    <td class=\"tg-baqh\">hasattr()</td>\n",
    "    <td class=\"tg-baqh\">max()</td>\n",
    "    <td class=\"tg-baqh\">round()</td>\n",
    "    <td class=\"tg-baqh\"></td>\n",
    "  </tr>\n",
    "</table>"
   ]
  },
  {
   "cell_type": "markdown",
   "metadata": {},
   "source": [
    "<p style=\"text-align:right;\"><a href=\"#topo\">Volta ao topo</a></p>"
   ]
  },
  {
   "cell_type": "markdown",
   "metadata": {},
   "source": [
    "<a id=\"2.\"></a>\n",
    "## 2. Tipos de Dado e Conversões de Tipos (*casting*)"
   ]
  },
  {
   "cell_type": "markdown",
   "metadata": {},
   "source": [
    "Os Dados em Python podem ser manipulados via um dos cinco tipos citados a seguir: Números, None, Sequências (listas, tuplas), Conjuntos ou Mapeamentos.\n",
    "\n",
    "Exemplos:"
   ]
  },
  {
   "cell_type": "code",
   "execution_count": null,
   "metadata": {},
   "outputs": [],
   "source": [
    "# Inteiro:\n",
    "print(1 + 1)\n",
    "a = 4\n",
    "print(type(a))"
   ]
  },
  {
   "cell_type": "code",
   "execution_count": null,
   "metadata": {},
   "outputs": [],
   "source": [
    "# Real   -->   python2: <type 'float'>      python3: <class 'float'>\n",
    "c = 2.1\n",
    "print(type(c))"
   ]
  },
  {
   "cell_type": "code",
   "execution_count": null,
   "metadata": {},
   "outputs": [],
   "source": [
    "# Complexo   -->   python2: <type 'complex'>      python3: <class 'complex'> \n",
    "a = 1.5 + 0.5j\n",
    "print(a.real, a.imag)\n",
    "print(type(1. + 0j))"
   ]
  },
  {
   "cell_type": "code",
   "execution_count": null,
   "metadata": {},
   "outputs": [],
   "source": [
    "# Lógico   -->   python2: <type 'bool'>      python3: <class 'bool'>\n",
    "continua = True\n",
    "print(3 > 4)\n",
    "teste = (3 > 4)\n",
    "print(teste, type(teste), '\\n', continua, type(continua))      # 'type()' é uma função da biblioteca padrão"
   ]
  },
  {
   "cell_type": "code",
   "execution_count": null,
   "metadata": {},
   "outputs": [],
   "source": [
    "# Aviso   -->    python2: divisão inteira    python3: divisão real\n",
    "3/2"
   ]
  },
  {
   "cell_type": "code",
   "execution_count": null,
   "metadata": {},
   "outputs": [],
   "source": [
    "# Dica python2: use operandos reais, ou pelo menos um dos operandos do tipo real\n",
    "3 / 2."
   ]
  },
  {
   "cell_type": "code",
   "execution_count": null,
   "metadata": {},
   "outputs": [],
   "source": [
    "a = 3\n",
    "b = 2\n",
    "print(a // b, a / float(b))"
   ]
  },
  {
   "cell_type": "markdown",
   "metadata": {},
   "source": [
    "Identificadores podem ser de qualquer tamanho em python. Mas o guia de estilo padrão do Python, o PEP-8 (_Python Enhancement Proposal_ - Proposta de aprimoramento do Python), limita o comprimento da linha a um máximo de 79 caracteres."
   ]
  },
  {
   "cell_type": "markdown",
   "metadata": {},
   "source": [
    "### Conversão de Tipo (*casting*)\n",
    "Permite a conversão de variáveis de um tipo de dado em outro. O Python possui algumas funções internas que se prestam à conversão de tipos. Vimos exemplos de variáveis de dados numéricos (inteiros e reais/ponto flutuante), de dados literais  *string* (cadeias de caracteres) e dos tipos lógico e complexo. \n",
    "\n",
    "Funções de conversão de tipo de dados: <tt>int(), float(), str(), bool(), complex()</tt>."
   ]
  },
  {
   "cell_type": "markdown",
   "metadata": {},
   "source": [
    "### Conversão para Inteiros\n",
    "A função <tt>int()</tt> é usada para converter *strings* ou *floats* em números inteiros. Observe que se a *string* não resultar num valor inteiro então uma mensagem de **erro de valor** será mostrada ao se solicitar a conversão de tipo para inteiro."
   ]
  },
  {
   "cell_type": "code",
   "execution_count": null,
   "metadata": {},
   "outputs": [],
   "source": [
    "int('2553')"
   ]
  },
  {
   "cell_type": "code",
   "execution_count": null,
   "metadata": {},
   "outputs": [],
   "source": [
    "int('2553.49')"
   ]
  },
  {
   "cell_type": "code",
   "execution_count": null,
   "metadata": {},
   "outputs": [],
   "source": [
    "int(2553.49)"
   ]
  },
  {
   "cell_type": "markdown",
   "metadata": {},
   "source": [
    "### Conversão para Strings\n",
    "Use a função <tt>str()</tt> sem qualquer restrição de valor para gerar uma cadeia de caracteres (*string*)."
   ]
  },
  {
   "cell_type": "code",
   "execution_count": null,
   "metadata": {},
   "outputs": [],
   "source": [
    "str(2553.45)"
   ]
  },
  {
   "cell_type": "markdown",
   "metadata": {},
   "source": [
    "<hr size=5 width=500 color=\"blue\">"
   ]
  },
  {
   "cell_type": "markdown",
   "metadata": {},
   "source": [
    "### <a style=\"color: red\">Exercício</a>\n",
    "Qual é a explicação para a seguinte mensagem de erro?"
   ]
  },
  {
   "cell_type": "code",
   "execution_count": null,
   "metadata": {},
   "outputs": [],
   "source": [
    "str(2.334,45)"
   ]
  },
  {
   "cell_type": "markdown",
   "metadata": {},
   "source": [
    "Quando escrevemos múltiplas variáveis na instrução ***print***, conversões de *strings* devem ser usadas."
   ]
  },
  {
   "cell_type": "code",
   "execution_count": null,
   "metadata": {},
   "outputs": [],
   "source": [
    "print('Real = ' + str(255.45) + '   Inteiro = ' + str(54))"
   ]
  },
  {
   "cell_type": "markdown",
   "metadata": {},
   "source": [
    "### Conversão para Reais\n",
    "A função <tt>float()</tt> é usada para converter *strings* ou inteiros em valores reais."
   ]
  },
  {
   "cell_type": "code",
   "execution_count": null,
   "metadata": {},
   "outputs": [],
   "source": [
    "print(float(54), float('54.221'))"
   ]
  },
  {
   "cell_type": "markdown",
   "metadata": {},
   "source": [
    "<p style=\"text-align:right;\"><a href=\"#topo\">Volta ao topo</a></p>"
   ]
  },
  {
   "cell_type": "markdown",
   "metadata": {},
   "source": [
    "<a id=\"3.\"></a>\n",
    "## 3. String"
   ]
  },
  {
   "cell_type": "markdown",
   "metadata": {},
   "source": [
    "As *strings* são usadas para armazenar informações de texto, tais como nome, endereço, mensagem etc. O Python monitora todos os elementos da *string* como uma sequência de caracteres. Por exemplo, o Python entende que a *string* \"IFG\" é uma sequência de letras numa ordem específica. Isso significa que podemos usar a indexação para acessar letras específicas (como a primeira ou a última letra, por exemplo).\n",
    "<img src=\"img/string.png\" alt=\"img/string.png\" class=\"align-right\" style=\"width: 500.0px; height: 150.0px;\">\n",
    "\n",
    "- **Criando *Strings***\n",
    "Para criar uma *string* em Python você precisa usar aspas simples ou aspas duplas para delimitar a sequência de caracteres. \n",
    "Por exemplo (usando comentário na primeira linha):"
   ]
  },
  {
   "cell_type": "code",
   "execution_count": null,
   "metadata": {},
   "outputs": [],
   "source": [
    "# palavra única\n",
    "'IFG'"
   ]
  },
  {
   "cell_type": "code",
   "execution_count": null,
   "metadata": {},
   "outputs": [],
   "source": [
    "# -*- coding: utf-8 -*-\n",
    "# uma frase\n",
    "u'Bem-vindos ao Curso de Extensão do IFG 2019-1'"
   ]
  },
  {
   "cell_type": "code",
   "execution_count": null,
   "metadata": {},
   "outputs": [],
   "source": [
    "# erro de sintaxe\n",
    "'Valor de 'x' no programa?'"
   ]
  },
  {
   "cell_type": "markdown",
   "metadata": {},
   "source": [
    "A causa do erro na *string* definida logo acima é a aspa simples delimitando duas *strings* e o caractere 'x' ficou entre elas sem delimitação. <style color=red>Solução</style>: use combinações de aspas duplas e simples para obter a declaração correta."
   ]
  },
  {
   "cell_type": "code",
   "execution_count": null,
   "metadata": {},
   "outputs": [],
   "source": [
    "\"Valor de 'x' no programa?\""
   ]
  },
  {
   "cell_type": "markdown",
   "metadata": {},
   "source": [
    "- **Imprimindo *Strings***\n",
    "Usar a sequência de caracteres (*string*) no prompt (<tt>>>></tt>) do interpretador mostrará automaticamente seu valor, mas a maneira correta de exibir as *strings* na saída padrão (monitor de vídeo) é usar a instrução de impressão: ***print***.\n"
   ]
  },
  {
   "cell_type": "code",
   "execution_count": null,
   "metadata": {},
   "outputs": [],
   "source": [
    "u\"Aprendizado de Máquina\""
   ]
  },
  {
   "cell_type": "code",
   "execution_count": null,
   "metadata": {
    "scrolled": true
   },
   "outputs": [],
   "source": [
    "print(u\"Aprendizado de Máquina\")"
   ]
  },
  {
   "cell_type": "markdown",
   "metadata": {},
   "source": [
    "- Diferenças na Impressão em Python 2 e 3\n",
    "Na versão 2.x a impressão é realizada por uma instrução (sentença, comando) enquanto que na versão 3.x a impressão é feita por uma função: ***print( )***.\n"
   ]
  },
  {
   "cell_type": "code",
   "execution_count": null,
   "metadata": {},
   "outputs": [],
   "source": [
    "print(\"Vamos aprender mais sobre strings!\")"
   ]
  },
  {
   "cell_type": "code",
   "execution_count": null,
   "metadata": {},
   "outputs": [],
   "source": [
    "print(\"Use \\\\n para imprimir em uma nova linha. \\n--> \\\\n equivale a CR + NL (Carriage Return + New Line)\")"
   ]
  },
  {
   "cell_type": "code",
   "execution_count": null,
   "metadata": {},
   "outputs": [],
   "source": [
    "print('\\nEntendeu?')"
   ]
  },
  {
   "cell_type": "markdown",
   "metadata": {},
   "source": [
    "Na versão 3.x a saída de dados no dispositivo padrão é feita da seguinte forma: **print('Olá Mundo!')**. Se você quer usar esta funcionalidade na versão 2.x, você pode importar o formulário do módulo futuro. \n",
    "\n",
    "**Atenção**: Depois de importar esse módulo, você não poderá mais escolher o método de declaração de impressão. Então, escolha o que você preferir, dependendo da sua instalação do Python e continue com ele."
   ]
  },
  {
   "cell_type": "code",
   "execution_count": null,
   "metadata": {},
   "outputs": [],
   "source": [
    "from __future__ import print_function\n",
    "print('Função print da Vs. 3.4')"
   ]
  },
  {
   "cell_type": "code",
   "execution_count": null,
   "metadata": {},
   "outputs": [],
   "source": [
    "print(\"Entendeu?\")"
   ]
  },
  {
   "cell_type": "markdown",
   "metadata": {},
   "source": [
    "Uma instrução **\\__future\\__** é uma diretiva do interpretador que avisa sobre um módulo específico que deve ser traduzido usando a sintaxe ou a semântica que estará disponível em uma versão futura do Python. A declaração **\\__future\\__** destina-se a facilitar a migração para versões futuras do Python que introduzem alterações incompatíveis à linguagem. Ela permite o uso dos novos recursos por módulo antes do lançamento no qual o recurso se torna padrão.\n",
    "\n",
    "É como dizer: \"Como essa é a versão Python v2.7, use a função ***print( )*** que também foi adicionada ao Python v2.7, depois que ela foi adicionada no Python 3.4\". Então, o ***'print'*** não será mais uma instrução: ***print \"mensagem\"***, mas uma função: ***print(\"mensagem\")***. Dessa forma, quando seu código for executado na versão Python 3.x, ***print( )*** não interromperá o _script_.\n",
    "\n",
    "- **Tamanho de uma String**\n",
    "Usamos a função nativa chamada <tt>len()</tt> para verificar o tamanho de uma *string*."
   ]
  },
  {
   "cell_type": "code",
   "execution_count": null,
   "metadata": {},
   "outputs": [],
   "source": [
    "len(\"Entendeu?\")"
   ]
  },
  {
   "cell_type": "markdown",
   "metadata": {},
   "source": [
    "- **Indexação e Fatiamento de Strings**\n",
    "Sabemos que *strings* são sequências de caracteres, o que significa que o Python pode usar índices para acessar partes da sequência. \n",
    "\n",
    "Em Python, usamos colchetes <tt>[ ]</tt> depois de um objeto para acessar o conteúdo indicado pelo índice. Também devemos notar que, para o Python, a indexação começa em 0 (zero), ou seja, o primeiro caractere de uma *string* é referenciado pelo índice 0. Vamos criar um novo objeto chamado <tt>s</tt> e fazer alguns exemplos de indexação. "
   ]
  },
  {
   "cell_type": "code",
   "execution_count": 2,
   "metadata": {},
   "outputs": [
    {
     "data": {
      "text/plain": [
       "'Bom dia Bia!'"
      ]
     },
     "execution_count": 2,
     "metadata": {},
     "output_type": "execute_result"
    }
   ],
   "source": [
    "# atribuindo uma seq. de caracteres a um objeto 's'\n",
    "s = 'Bom dia Bia!'\n",
    "# verificando\n",
    "s"
   ]
  },
  {
   "cell_type": "code",
   "execution_count": null,
   "metadata": {},
   "outputs": [],
   "source": [
    "# imprimindo o objeto\n",
    "print(s)"
   ]
  },
  {
   "cell_type": "markdown",
   "metadata": {},
   "source": [
    "- **Acessando apenas um caractere** da sequência de caracteres..."
   ]
  },
  {
   "cell_type": "code",
   "execution_count": null,
   "metadata": {},
   "outputs": [],
   "source": [
    "# primeiro caracter da string\n",
    "s[0]"
   ]
  },
  {
   "cell_type": "code",
   "execution_count": null,
   "metadata": {},
   "outputs": [],
   "source": [
    "# segundo e sétimo caracteres da string\n",
    "s[1], s[6]"
   ]
  },
  {
   "cell_type": "code",
   "execution_count": null,
   "metadata": {},
   "outputs": [],
   "source": [
    "# último caracter da string\n",
    "s[-1]"
   ]
  },
  {
   "cell_type": "code",
   "execution_count": null,
   "metadata": {},
   "outputs": [],
   "source": [
    "# penúltimo caracter da string\n",
    "s[-2]"
   ]
  },
  {
   "cell_type": "markdown",
   "metadata": {},
   "source": [
    "- **Fatiamento** (*slicing*): acessando partes da sequência de caracteres... "
   ]
  },
  {
   "cell_type": "code",
   "execution_count": null,
   "metadata": {},
   "outputs": [],
   "source": [
    "# Acessando os três primeiros caracteres da string\n",
    "s[0:3]"
   ]
  },
  {
   "cell_type": "code",
   "execution_count": null,
   "metadata": {},
   "outputs": [],
   "source": [
    "# ou\n",
    "s[:3]"
   ]
  },
  {
   "cell_type": "code",
   "execution_count": null,
   "metadata": {},
   "outputs": [],
   "source": [
    "s[4:len(s)]"
   ]
  },
  {
   "cell_type": "code",
   "execution_count": null,
   "metadata": {},
   "outputs": [],
   "source": [
    "s[4:]"
   ]
  },
  {
   "cell_type": "markdown",
   "metadata": {},
   "source": [
    "Observe o primeiro fatiamento acima: **<tt>s[0:3]</tt>**. Aqui estamos dizendo ao Python para acessar os caracteres de <tt>s</tt>, do índice 0 até 3, não incluindo o índice 3 (quarta posição). Você notará esse comportamento muitas vezes em Python, onde as declarações geralmente estão no contexto \"até, mas não incluindo\".\n",
    "\n",
    "Também podemos usar a notação de índice e fatia para acessar elementos de uma sequência com um determinado incremento (o padrão é passo unitário). Por exemplo, podemos usar dois dois-pontos em uma linha e, em seguida, um número especificando a frequência para acessar os elementos. Por exemplo:"
   ]
  },
  {
   "cell_type": "code",
   "execution_count": 3,
   "metadata": {},
   "outputs": [
    {
     "data": {
      "text/plain": [
       "'BmdaBa'"
      ]
     },
     "execution_count": 3,
     "metadata": {},
     "output_type": "execute_result"
    }
   ],
   "source": [
    "# usando passo dois no acesso aos caracteres da string\n",
    "s[::2]"
   ]
  },
  {
   "cell_type": "markdown",
   "metadata": {},
   "source": [
    "Acessando os caracteres da *string* de trás para frente (em ordem inversa):"
   ]
  },
  {
   "cell_type": "code",
   "execution_count": 4,
   "metadata": {},
   "outputs": [
    {
     "data": {
      "text/plain": [
       "'!aiB aid moB'"
      ]
     },
     "execution_count": 4,
     "metadata": {},
     "output_type": "execute_result"
    }
   ],
   "source": [
    "s[::-1]"
   ]
  },
  {
   "cell_type": "markdown",
   "metadata": {},
   "source": [
    "- **Propriedades da Strings**\n",
    "\n",
    "É importante notar que as *strings* são imutáveis. Isso significa que uma vez criada a *string*, os elementos dela não podem ser alterados ou suprimidos. Por exemplo:"
   ]
  },
  {
   "cell_type": "code",
   "execution_count": 5,
   "metadata": {},
   "outputs": [
    {
     "data": {
      "text/plain": [
       "'Bom dia Bia!'"
      ]
     },
     "execution_count": 5,
     "metadata": {},
     "output_type": "execute_result"
    }
   ],
   "source": [
    "s"
   ]
  },
  {
   "cell_type": "code",
   "execution_count": 6,
   "metadata": {},
   "outputs": [
    {
     "ename": "TypeError",
     "evalue": "'str' object does not support item assignment",
     "output_type": "error",
     "traceback": [
      "\u001b[1;31m---------------------------------------------------------------------------\u001b[0m",
      "\u001b[1;31mTypeError\u001b[0m                                 Traceback (most recent call last)",
      "\u001b[1;32m<ipython-input-6-9e42fc928522>\u001b[0m in \u001b[0;36m<module>\u001b[1;34m\u001b[0m\n\u001b[1;32m----> 1\u001b[1;33m \u001b[0ms\u001b[0m\u001b[1;33m[\u001b[0m\u001b[1;36m0\u001b[0m\u001b[1;33m]\u001b[0m \u001b[1;33m=\u001b[0m \u001b[1;34m'C'\u001b[0m\u001b[1;33m\u001b[0m\u001b[1;33m\u001b[0m\u001b[0m\n\u001b[0m",
      "\u001b[1;31mTypeError\u001b[0m: 'str' object does not support item assignment"
     ]
    }
   ],
   "source": [
    "s[0] = 'C'"
   ]
  },
  {
   "cell_type": "markdown",
   "metadata": {},
   "source": [
    "Observe como o erro nos diz diretamente o que não podemos fazer: **objeto 'str' não admite atribuição ao item!**.\n",
    "O que podemos fazer é concatenar strings!"
   ]
  },
  {
   "cell_type": "code",
   "execution_count": 10,
   "metadata": {},
   "outputs": [
    {
     "data": {
      "text/plain": [
       "'Bom dia Bia! Vamos tomar um cafezinho?'"
      ]
     },
     "execution_count": 10,
     "metadata": {},
     "output_type": "execute_result"
    }
   ],
   "source": [
    "s + ' Vamos tomar um cafezinho?'"
   ]
  },
  {
   "cell_type": "code",
   "execution_count": 11,
   "metadata": {},
   "outputs": [],
   "source": [
    "t = _           # variável com o resultado da última execução realizada pelo interpretador Python"
   ]
  },
  {
   "cell_type": "code",
   "execution_count": 12,
   "metadata": {},
   "outputs": [
    {
     "name": "stdout",
     "output_type": "stream",
     "text": [
      "Bom dia Bia! Vamos tomar um cafezinho?\n"
     ]
    }
   ],
   "source": [
    "print(t)"
   ]
  },
  {
   "cell_type": "markdown",
   "metadata": {},
   "source": [
    "Podemos usar o símbolo de multiplicação para criar repetição de caracteres!"
   ]
  },
  {
   "cell_type": "code",
   "execution_count": 7,
   "metadata": {},
   "outputs": [
    {
     "data": {
      "text/plain": [
       "'////\\\\\\\\////\\\\\\\\////\\\\\\\\////\\\\\\\\////\\\\\\\\////\\\\\\\\////\\\\\\\\////\\\\\\\\////\\\\\\\\////\\\\\\\\'"
      ]
     },
     "execution_count": 7,
     "metadata": {},
     "output_type": "execute_result"
    }
   ],
   "source": [
    "marcador = '////\\\\\\\\'\n",
    "10 * marcador"
   ]
  },
  {
   "cell_type": "code",
   "execution_count": 9,
   "metadata": {},
   "outputs": [
    {
     "data": {
      "text/plain": [
       "'PythonPythonPythonPython'"
      ]
     },
     "execution_count": 9,
     "metadata": {},
     "output_type": "execute_result"
    }
   ],
   "source": [
    "p = 'Python'\n",
    "4*p"
   ]
  },
  {
   "cell_type": "markdown",
   "metadata": {},
   "source": [
    "- **Ajuntando (concatenando) Strings**:"
   ]
  },
  {
   "cell_type": "code",
   "execution_count": 13,
   "metadata": {},
   "outputs": [
    {
     "name": "stdout",
     "output_type": "stream",
     "text": [
      "Terça - Quinta - Sábado\n"
     ]
    }
   ],
   "source": [
    "dias = ['Terça', 'Quinta', 'Sábado']\n",
    "concat = ' - '.join(dias)\n",
    "print(concat)"
   ]
  },
  {
   "cell_type": "markdown",
   "metadata": {},
   "source": [
    "**Métodos Nativos de Strings **\n",
    "\n",
    "Objetos em Python geralmente possuem métodos internos. Esses métodos são funções associadas ao objeto que podem executar ações ou comandos no próprio objeto.\n",
    "\n",
    "Nós acessamos os métodos de um objeto usando um ponto '.' e depois o nome do método: **objeto.método(parâmetros)**, onde os parâmetros são argumentos extras que podemos passar ao método. Não se preocupe com os detalhes se não fazem sentido nesse momento para você. Mais tarde criaremos nossos próprios objetos e métodos! \n",
    "\n",
    "Aqui estão exemplos de métodos internos dos objetos *strings*:"
   ]
  },
  {
   "cell_type": "code",
   "execution_count": 14,
   "metadata": {},
   "outputs": [
    {
     "data": {
      "text/plain": [
       "'Bom dia Bia!'"
      ]
     },
     "execution_count": 14,
     "metadata": {},
     "output_type": "execute_result"
    }
   ],
   "source": [
    "s"
   ]
  },
  {
   "cell_type": "code",
   "execution_count": 15,
   "metadata": {},
   "outputs": [
    {
     "data": {
      "text/plain": [
       "'BOM DIA BIA!'"
      ]
     },
     "execution_count": 15,
     "metadata": {},
     "output_type": "execute_result"
    }
   ],
   "source": [
    "s.upper()"
   ]
  },
  {
   "cell_type": "code",
   "execution_count": 16,
   "metadata": {},
   "outputs": [
    {
     "data": {
      "text/plain": [
       "'bom dia bia!'"
      ]
     },
     "execution_count": 16,
     "metadata": {},
     "output_type": "execute_result"
    }
   ],
   "source": [
    "s.lower()"
   ]
  },
  {
   "cell_type": "code",
   "execution_count": 17,
   "metadata": {},
   "outputs": [
    {
     "data": {
      "text/plain": [
       "['Bom', 'dia', 'Bia!']"
      ]
     },
     "execution_count": 17,
     "metadata": {},
     "output_type": "execute_result"
    }
   ],
   "source": [
    "# quebra de uma string nos espaços em branco (caracter padrão)\n",
    "s.split()"
   ]
  },
  {
   "cell_type": "code",
   "execution_count": 18,
   "metadata": {},
   "outputs": [
    {
     "data": {
      "text/plain": [
       "['Bom ', ' Bia!']"
      ]
     },
     "execution_count": 18,
     "metadata": {},
     "output_type": "execute_result"
    }
   ],
   "source": [
    "# quebra de uma string na sequência 'dia'\n",
    "s.split('dia')"
   ]
  },
  {
   "cell_type": "markdown",
   "metadata": {},
   "source": [
    "Existem muitos mais métodos para objetos strings do que os abordados aqui."
   ]
  },
  {
   "cell_type": "markdown",
   "metadata": {},
   "source": [
    "O Python tem dois estilos de formatação de dados, geralmente, denominados <u>moda antiga</u> e <u>moda nova</u>.\n",
    "\n",
    "- **Impressão Formatada**\n",
    "Python tem formatadores de *string* interessantes. Vamos mostrar os casos de uso mais comuns aceitos pelas API’s de estilo de formatação de *strings*, [antiga e nova](https://pyformat.info/#conversion_flags).\n",
    "\n",
    "> <p style=\"color: blue\">À Moda Antiga</p>"
   ]
  },
  {
   "cell_type": "code",
   "execution_count": 19,
   "metadata": {},
   "outputs": [
    {
     "name": "stdout",
     "output_type": "stream",
     "text": [
      "Matheus, o Programador\n"
     ]
    }
   ],
   "source": [
    "nome = \"Matheus\"\n",
    "prof = \"Programador\"\n",
    "titulo = \"%s, o %s\" % (nome, prof)\n",
    "print(titulo)"
   ]
  },
  {
   "cell_type": "markdown",
   "metadata": {},
   "source": [
    "- **Formatação à Moda Antiga**: A formatação posicional simples é provavelmente o caso de uso mais comum. Seu uso é mais indicado quando a ordem dos argumentos não precisa ser alterada e quando você tem poucos elementos que queira concatenar. \n",
    "\n",
    "Como os elementos não são representados por algo tão descritivo quanto um nome, esse estilo simples deve ser usado apenas para formatar uma quantidade relativamente pequena de elementos.\n"
   ]
  },
  {
   "cell_type": "code",
   "execution_count": 21,
   "metadata": {},
   "outputs": [
    {
     "name": "stdout",
     "output_type": "stream",
     "text": [
      "Fleury, Cláudio.\n",
      "Fleury, Cláudio.\n"
     ]
    }
   ],
   "source": [
    "print('%s, %s.' % ('Fleury', 'Cláudio'))              # à moda antiga\n",
    "print('{}, {}.'.format('Fleury', 'Cláudio'))          # à moda nova"
   ]
  },
  {
   "cell_type": "code",
   "execution_count": 22,
   "metadata": {
    "scrolled": true
   },
   "outputs": [
    {
     "name": "stdout",
     "output_type": "stream",
     "text": [
      "Fleury, C.\n",
      "Fleury, C.\n"
     ]
    }
   ],
   "source": [
    "print('%s, %.1s.' % ('Fleury', 'Cláudio'))            # à moda antiga\n",
    "print('{}, {:.1}.'.format('Fleury', 'Cláudio'))       # à moda nova"
   ]
  },
  {
   "cell_type": "markdown",
   "metadata": {},
   "source": [
    "> <p style=\"color: blue\">À Moda Nova"
   ]
  },
  {
   "cell_type": "code",
   "execution_count": 23,
   "metadata": {},
   "outputs": [
    {
     "name": "stdout",
     "output_type": "stream",
     "text": [
      "Matheus, o Programador\n"
     ]
    }
   ],
   "source": [
    "nome = \"Matheus\"\n",
    "prof = \"Programador\"\n",
    "titulo = \"{}, o {}\".format(nome, prof)\n",
    "print(titulo)"
   ]
  },
  {
   "cell_type": "markdown",
   "metadata": {},
   "source": [
    "- **Formatação à Moda Nova**: Com a nova formatação de estilo, é possível (e obrigatório no Python 2.6) dar aos espaços reservados um índice posicional explícito. Isso permite reorganizar a ordem de exibição sem alterar os argumentos (esta operação não é possível na formatação à moda antiga)."
   ]
  },
  {
   "cell_type": "code",
   "execution_count": null,
   "metadata": {
    "scrolled": true
   },
   "outputs": [],
   "source": [
    "# à moda nova\n",
    "print('{1}, {0}.'.format('Cláudio', 'Fleury'))\n",
    "print('{1}, {0:7.1}.'.format('Cláudio', 'Fleury'))"
   ]
  },
  {
   "cell_type": "markdown",
   "metadata": {},
   "source": [
    "- **Formatação de números inteiros** (%d) **e reais** (%f):"
   ]
  },
  {
   "cell_type": "code",
   "execution_count": 25,
   "metadata": {},
   "outputs": [
    {
     "name": "stdout",
     "output_type": "stream",
     "text": [
      "54 2.334343\n",
      "  54  2.334\n"
     ]
    }
   ],
   "source": [
    "# à moda antiga\n",
    "print('%d %f'     % (54, 2.334343))\n",
    "print('%4d %6.3f' % (54, 2.334343))"
   ]
  },
  {
   "cell_type": "code",
   "execution_count": 26,
   "metadata": {},
   "outputs": [
    {
     "name": "stdout",
     "output_type": "stream",
     "text": [
      "2.334343 54\n",
      "002.33\n"
     ]
    }
   ],
   "source": [
    "# à moda nova\n",
    "print('{1:f} {0:d}'.format(54, 2.334343))\n",
    "print('{:06.2f}'.format(2.334343))"
   ]
  },
  {
   "cell_type": "markdown",
   "metadata": {},
   "source": [
    "**Código Pythonico**:"
   ]
  },
  {
   "cell_type": "code",
   "execution_count": null,
   "metadata": {},
   "outputs": [],
   "source": [
    "usuario = 'Maria'\n",
    "if usuario == 'Maria':\n",
    "  print('{0}\\n{1}\\n{0}'.format('-'*30, usuario))"
   ]
  },
  {
   "cell_type": "markdown",
   "metadata": {},
   "source": [
    "**Código Convencional Equivalente** (comumente encontrado nas outras linguagens):"
   ]
  },
  {
   "cell_type": "code",
   "execution_count": null,
   "metadata": {},
   "outputs": [],
   "source": [
    "usuario = 'Maria'\n",
    "if usuario == 'Maria':\n",
    "  print('------------------------------')\n",
    "  print(usuario)\n",
    "  print('------------------------------')"
   ]
  },
  {
   "cell_type": "markdown",
   "metadata": {},
   "source": [
    "Mais detalhes sobre esses dois métodos de formatação podem ser encontrados na documentação oficial do Python:  \n",
    "- [Moda Antiga](https://docs.python.org/2/library/stdtypes.html#string-formatting) \n",
    "- [Moda Nova](https://docs.python.org/3/library/string.html#string-formatting)"
   ]
  },
  {
   "cell_type": "markdown",
   "metadata": {},
   "source": [
    "### Trocando Caracteres numa String\n",
    "Exemplo de criação da tabela de valores numéricos usadas nesse caderno, no item **1. Variáveis e Operações**:"
   ]
  },
  {
   "cell_type": "code",
   "execution_count": 33,
   "metadata": {},
   "outputs": [
    {
     "name": "stdout",
     "output_type": "stream",
     "text": [
      "Tabela (formatada em Markdown):\n",
      "|int|long|float|complex|\n",
      "|:---:|:---:|:---:|:---:|\n",
      "|10|51924361|0.0|3.14j|\n",
      "|100|-0x19323|15.20|45.j|\n",
      "|-786|122|-21.9|9.322e-36j|\n",
      "|0x80|0xDEFABCECBDAECBFBAE|32.3+e18|.876j|\n",
      "|-490|535633629843|-90.|-.6545+0J|\n",
      "|-0x260|-052318172735|-32.54e100|3e+26J|\n",
      "|0x69|-4721885298529|70.2-E12|4.53e-7j|\n"
     ]
    }
   ],
   "source": [
    "a = 'int\tlong\tfloat\tcomplex\\n10\t51924361L\t0.0\t3.14j\\n100\t-0x19323L\t15.20\t45.j\\n-786\t122L\t-21.9\t9.322e-36j\\n0x80\t0xDEFABCECBDAECBFBAEL\t32.3+e18\t.876j\\n-490\t535633629843L\t-90.\t-.6545+0J\\n-0x260\t-052318172735L\t-32.54e100\t3e+26J\\n0x69\t-4721885298529L\t70.2-E12\t4.53e-7j'\n",
    "b = '|'+a.replace('L','').replace('\t','|').replace('\\n','|\\n|')+'|'\n",
    "c = b.find('x|')+2\n",
    "d = b[:c] + \"\\n|:---:|:---:|:---:|:---:|\\n\" + b[c+1:]\n",
    "print(\"Tabela (formatada em Markdown):\")\n",
    "print(d)"
   ]
  },
  {
   "cell_type": "markdown",
   "metadata": {},
   "source": [
    "|int|long|float|complex|\n",
    "|:---:|:---:|:---:|:---:|\n",
    "|10|51924361|0.0|3.14j|\n",
    "|100|-0x19323|15.20|45.j|\n",
    "|-786|122|-21.9|9.322e-36j|\n",
    "|0x80|0xDEFABCECBDAECBFBAE|32.3+e18|.876j|\n",
    "|-490|535633629843|-90.|-.6545+0J|\n",
    "|-0x260|-052318172735|-32.54e100|3e+26J|\n",
    "|0x69|-4721885298529|70.2-E12|4.53e-7j|"
   ]
  },
  {
   "cell_type": "markdown",
   "metadata": {},
   "source": [
    "### Representação Unicode\n",
    "O Python2 requer que você marque uma _string_ com o prefixo `u` se quiser armazená-la como Unicode (caracteres universais). O Python3 armazena as _strings_ como Unicode, por padrão. Portanto no Python3 passamos a ter três classes de _strings_: _strings_ de caracteres Unicode (utf-8) e mais duas classes `bytes`: bytes e matrizes de bytes."
   ]
  },
  {
   "cell_type": "markdown",
   "metadata": {},
   "source": [
    "<p style=\"text-align:right;\"><a href=\"#topo\">Volta ao topo</a></p>"
   ]
  },
  {
   "cell_type": "markdown",
   "metadata": {},
   "source": [
    "<a id=\"4.\"></a>\n",
    "## 4. Intervalo"
   ]
  },
  {
   "cell_type": "markdown",
   "metadata": {},
   "source": [
    "A função `range([início,] final [,passo])` (intervalo de valores) faz parte da biblioteca padrão do Python e gera uma sequência imutável de números inteiros de acordo com o intervalo determinado pelos argumentos. A série retornada é um objeto iterável tipo ***range*** e os elementos da série serão gerados sob demanda.\n",
    "\n",
    "É comum o uso da função ***range()*** com a estrutura de repetição ***for***. Neste caso temos que a cada ciclo de repetição o próximo elemento da sequência será utilizado de tal forma que é possível partirmos de um ponto e ir incrementando, decrementando conforme o **passo** adotado.\n",
    "\n",
    "Os argumentos para o construtor do objeto ***range*** devem ser do tipo **inteiro** (podendo ser do tipo **int** nativo ou qualquer outro tipo/objeto que implemente o método especial **\\_\\_index__**). Se o argumento <u>passo</u> for omitido, é assumido o passo unitário (um). Se o argumento <u>início</u> for omitido, é assumido o valor 0 (zero). Se o passo for zero, um erro do tipo **ValueError** será gerado.\n",
    "\n",
    "- Para <u>passo</u> positivo, o conteúdo de um intervalo <tt>r</tt> é determinado pela fórmula:\n",
    "\n",
    "  <tt>r[i] = inicio + passo * i,   onde  i &ge; 0   e    r[i] &lt; final</tt>\n",
    "  \n",
    "\n",
    "- Para <u>passo</u> negativo, o conteúdo de um intervalo <tt>r</tt> é determinado pela fórmula:\n",
    "\n",
    "  <tt>r[i] = inicio + passo * i,   onde  i &ge; 0   e    r[i] &gt; final</tt>\n",
    "  \n",
    "\n",
    "Os intervalos podem ser construídos das seguintes formas:\n",
    "- <tt>*range(final)*: 0, 1, 2, ..., final-1</tt>\n",
    "- <tt>*range(início, final)*: início, início+1, início+2, ..., final-1</tt>\n",
    "- <tt>*range(início, final, passo)*: início, início+passo, início+2*passo, ..., final-1</tt>\n",
    "\n",
    "Um objeto ***range*** estará vazio se <tt>r[0]</tt> não atender à restrição de valor. Os intervalos suportam índices negativos, mas estes são interpretados como indexação a partir do final da sequênc\n",
    "ia determinada pelos índices positivos."
   ]
  },
  {
   "cell_type": "markdown",
   "metadata": {},
   "source": [
    "Exemplos:\n",
    "![range(6).png](img/range(6).png)"
   ]
  },
  {
   "cell_type": "code",
   "execution_count": 27,
   "metadata": {},
   "outputs": [
    {
     "name": "stdout",
     "output_type": "stream",
     "text": [
      "** Exemplo da função range() **\n",
      "Mostrando o resultado da função range(6): \n",
      "0, 1, 2, 3, 4, 5."
     ]
    }
   ],
   "source": [
    "print(\"** Exemplo da função range() **\")\n",
    "print(\"Mostrando o resultado da função range(6): \")\n",
    "for i in range(5):\n",
    "    print(i, end=', ')\n",
    "print(5, end='.')"
   ]
  },
  {
   "cell_type": "code",
   "execution_count": 43,
   "metadata": {
    "scrolled": true
   },
   "outputs": [
    {
     "name": "stdout",
     "output_type": "stream",
     "text": [
      "0 2 4 6 8 10 12 14 16 18 "
     ]
    }
   ],
   "source": [
    "for r in range(0,20,2):\n",
    "    print(r, end=' ')"
   ]
  },
  {
   "cell_type": "code",
   "execution_count": 34,
   "metadata": {},
   "outputs": [
    {
     "data": {
      "text/plain": [
       "(False, True, True, False, False)"
      ]
     },
     "execution_count": 34,
     "metadata": {},
     "output_type": "execute_result"
    }
   ],
   "source": [
    "11 in r, 10 in r, 18 in r, 19 in r, 20 in r"
   ]
  },
  {
   "cell_type": "code",
   "execution_count": null,
   "metadata": {},
   "outputs": [],
   "source": [
    "r.index(10)"
   ]
  },
  {
   "cell_type": "code",
   "execution_count": null,
   "metadata": {},
   "outputs": [],
   "source": [
    "r[5]"
   ]
  },
  {
   "cell_type": "code",
   "execution_count": 64,
   "metadata": {},
   "outputs": [
    {
     "name": "stdout",
     "output_type": "stream",
     "text": [
      "[0, 2, 4, 6, 8]\n"
     ]
    }
   ],
   "source": [
    "r = range(0,20,2)\n",
    "print(list(r[:5]))"
   ]
  },
  {
   "cell_type": "code",
   "execution_count": null,
   "metadata": {},
   "outputs": [],
   "source": [
    "r[-1], r[-1:-4:-1]"
   ]
  },
  {
   "cell_type": "markdown",
   "metadata": {},
   "source": [
    "Comparação de objetos do tipo ***range*** para igualdade '==' ou diferença '!=' são realizados como na comparação de sequências. Ou seja, dois objetos de intervalo são considerados iguais se eles representam a mesma sequência de valores. Observe que dois objetos de intervalo que se comparam como iguais podem ter diferentes atributos de início, final e passo, por exemplo: range(0) == range(2,1,3) ou range(0,3,2) == range(0,4,2)."
   ]
  },
  {
   "cell_type": "markdown",
   "metadata": {},
   "source": [
    "<p style=\"text-align:right;\"><a href=\"#topo\">Volta ao topo</a></p>"
   ]
  },
  {
   "cell_type": "markdown",
   "metadata": {},
   "source": [
    "<a id=\"5.\"></a>\n",
    "## 5. Lista\n",
    "\n",
    "Uma lista em Python é uma coleção de **objetos heterogêneos** que podem ser de qualquer tipo, inclusive outras listas. As listas podem ser homogêneas (dados de um mesmo tipo) ou heterogêneas, o que faz delas ferramentas poderosas no armazenamento e manipulação de dados. Uma lista pode conter números inteiros, números reais (ponto flutuante), strings ou qualquer outro objeto. As listas também são muito úteis na implementação de estruturas de dados, tais como pilhas e filas. As listas são mutáveis, ou seja, podem ser alteradas a qualquer instante após sua criação.\n",
    "\n",
    "No Python, `list` é um recipiente _(container)_ usado no armazenamento de vários dados ao mesmo tempo. Ao contrário dos conjuntos _(sets)_ , a uma <tt>list</tt> é ordenada e tem uma contagem definida. Os elementos em uma lista são indexados de acordo com uma sequência definida e a indexação da lista tem índice 0 (zero) para o primeiro valor armazenado. Cada elemento da lista tem seu lugar definido na lista, o que permite a existência de elementos duplicados na lista, com cada elemento tendo seu próprio lugar na memória.\n",
    "\n",
    "A lista é uma ferramenta útil quando se deseja preservar a ordem (sequência) dos dados e \"iterar\" sobre os elementos da estrutura de dados (acesso a cada um de seus elementos)."
   ]
  },
  {
   "cell_type": "code",
   "execution_count": 49,
   "metadata": {},
   "outputs": [
    {
     "name": "stdout",
     "output_type": "stream",
     "text": [
      "RPi Arduino\n",
      "['RPi', 'BeagleBone', 'Arduino']\n"
     ]
    }
   ],
   "source": [
    "# exemplo de lista em Python\n",
    "placas = ['RPi', 'BeagleBone', 'Arduino']\n",
    "# acessando para exibição, o primeiro e o terceiro elementos da lista 'placas'\n",
    "print(placas[0], placas[2])\n",
    "# exibindo todos os elementos da lista\n",
    "print(placas)"
   ]
  },
  {
   "cell_type": "markdown",
   "metadata": {},
   "source": [
    "### <tt>Percorrendo os Elementos de uma Lista</tt>\n",
    "\n",
    "#### Ordem Natural"
   ]
  },
  {
   "cell_type": "code",
   "execution_count": 50,
   "metadata": {},
   "outputs": [
    {
     "name": "stdout",
     "output_type": "stream",
     "text": [
      "branco, vermelho, azul, verde, amarelo, preto, "
     ]
    }
   ],
   "source": [
    "# Python 3 - programa convencional\n",
    "cores = ['branco', 'vermelho', 'azul', 'verde', 'amarelo', 'preto']\n",
    "for i in range(len(cores)):\n",
    "    print(cores[i], end=', ')"
   ]
  },
  {
   "cell_type": "code",
   "execution_count": 51,
   "metadata": {},
   "outputs": [
    {
     "name": "stdout",
     "output_type": "stream",
     "text": [
      "branco, vermelho, azul, verde, amarelo, preto, "
     ]
    }
   ],
   "source": [
    "# Python 3 - programa pythônico\n",
    "cores = ['branco', 'vermelho', 'azul', 'verde', 'amarelo', 'preto']\n",
    "for cor in cores:\n",
    "    print(cor, end=', ')"
   ]
  },
  {
   "cell_type": "markdown",
   "metadata": {},
   "source": [
    "#### Ordem Reversa"
   ]
  },
  {
   "cell_type": "code",
   "execution_count": 3,
   "metadata": {},
   "outputs": [
    {
     "name": "stdout",
     "output_type": "stream",
     "text": [
      "preto, amarelo, verde, azul, vermelho, branco, "
     ]
    }
   ],
   "source": [
    "# Python 3 - programa convencional\n",
    "cores = ['branco', 'vermelho', 'azul', 'verde', 'amarelo', 'preto']\n",
    "for i in range(len(cores)-1, -1, -1):\n",
    "    print(cores[i], end=', ')"
   ]
  },
  {
   "cell_type": "code",
   "execution_count": 4,
   "metadata": {},
   "outputs": [
    {
     "name": "stdout",
     "output_type": "stream",
     "text": [
      "preto, amarelo, verde, azul, vermelho, branco, "
     ]
    }
   ],
   "source": [
    "# Python 3 - programa pythônico\n",
    "cores = ['branco', 'vermelho', 'azul', 'verde', 'amarelo', 'preto']\n",
    "for cor in reversed(cores):\n",
    "    print(cor, end=', ')"
   ]
  },
  {
   "cell_type": "markdown",
   "metadata": {},
   "source": [
    "### <tt>Lista Vazia</tt>"
   ]
  },
  {
   "cell_type": "code",
   "execution_count": 55,
   "metadata": {
    "scrolled": true
   },
   "outputs": [
    {
     "name": "stdout",
     "output_type": "stream",
     "text": [
      "[]\n"
     ]
    }
   ],
   "source": [
    "lista_compra = []\n",
    "print(lista_compra)"
   ]
  },
  {
   "cell_type": "markdown",
   "metadata": {},
   "source": [
    "### <tt>Lista Misturada (heterogênea)</tt>"
   ]
  },
  {
   "cell_type": "code",
   "execution_count": 56,
   "metadata": {},
   "outputs": [
    {
     "name": "stdout",
     "output_type": "stream",
     "text": [
      "[3.141592653589, -5, 'Tudo certo?', True, '*']\n"
     ]
    }
   ],
   "source": [
    "mist = [3.141592653589, -5, 'Tudo certo?', True, '*']\n",
    "print(mist)"
   ]
  },
  {
   "cell_type": "markdown",
   "metadata": {},
   "source": [
    "### <tt>Lista 2D</tt>"
   ]
  },
  {
   "cell_type": "code",
   "execution_count": 59,
   "metadata": {},
   "outputs": [
    {
     "name": "stdout",
     "output_type": "stream",
     "text": [
      "[['12', 3], [0.1, 'ok', 22], [-5, 'Tudo certo?', True]]\n",
      "ok\n",
      "12, 3, \b\b\n",
      "0.1, ok, 22, \b\b\n",
      "-5, Tudo certo?, True, \b\b\n"
     ]
    }
   ],
   "source": [
    "lista2D = [['12',3],\n",
    "           [0.1, 'ok',22],\n",
    "           [-5, 'Tudo certo?', True]]\n",
    "print(lista2D)\n",
    "\n",
    "print(lista2D[1][1])\n",
    "\n",
    "for linha in lista2D:\n",
    "    for elem in linha:\n",
    "        print(elem,end=', ')\n",
    "    print('\\b'*2)                       # dois caracteres 'backspace': para apagar a última vírgula da linha..."
   ]
  },
  {
   "cell_type": "markdown",
   "metadata": {},
   "source": [
    "### <tt>Fatiamento de Lista</tt>"
   ]
  },
  {
   "cell_type": "code",
   "execution_count": 1,
   "metadata": {},
   "outputs": [
    {
     "name": "stdout",
     "output_type": "stream",
     "text": [
      "[1, 2, 3, 4, 5, 6, 7, 8, 9]\n",
      "[1, 2, 3]\n",
      "[3, 4, 5, 6, 7]\n"
     ]
    }
   ],
   "source": [
    "# listadec = range(1,10)        # python2: o resultado da função 'range' é uma lista de valores\n",
    "listadec = list(range(1,10))    # python3: o resultado da função 'range' é um ojbeto 'range', precisa ser convertido em lista\n",
    "print(listadec)\n",
    "print(listadec[0:3])            # acessa do 1o. ao 3o. elementos\n",
    "print(listadec[2:-2])           # acessa do 3o. ao penúltimo elementos"
   ]
  },
  {
   "cell_type": "markdown",
   "metadata": {},
   "source": [
    "### <tt>Soma dos Elementos da Lista (_loop_)</tt>"
   ]
  },
  {
   "cell_type": "code",
   "execution_count": null,
   "metadata": {},
   "outputs": [],
   "source": [
    "pesos = [56, 73, 92, 32, 45]    # lista homogênea - só valores inteiros\n",
    "soma = 0\n",
    "for peso in pesos:\n",
    "  soma += peso                  # operação equivalente: soma = soma + peso   (como em Ling. C)\n",
    "print('Soma dos Pesos: ', soma)"
   ]
  },
  {
   "cell_type": "markdown",
   "metadata": {},
   "source": [
    "E se a lista contiver elementos não numéricos? O interpretador Python indica erro para a tentativa de se somar elemento do tipo `str` com `int`."
   ]
  },
  {
   "cell_type": "code",
   "execution_count": 3,
   "metadata": {},
   "outputs": [
    {
     "ename": "TypeError",
     "evalue": "unsupported operand type(s) for +: 'int' and 'str'",
     "output_type": "error",
     "traceback": [
      "\u001b[1;31m---------------------------------------------------------------------------\u001b[0m",
      "\u001b[1;31mTypeError\u001b[0m                                 Traceback (most recent call last)",
      "\u001b[1;32m<ipython-input-3-3c3a07261f84>\u001b[0m in \u001b[0;36m<module>\u001b[1;34m\u001b[0m\n\u001b[0;32m      2\u001b[0m \u001b[1;33m\u001b[0m\u001b[0m\n\u001b[0;32m      3\u001b[0m \u001b[1;32mfor\u001b[0m \u001b[0mpeso\u001b[0m \u001b[1;32min\u001b[0m \u001b[0mpesos\u001b[0m\u001b[1;33m:\u001b[0m\u001b[1;33m\u001b[0m\u001b[1;33m\u001b[0m\u001b[0m\n\u001b[1;32m----> 4\u001b[1;33m     \u001b[0mprint\u001b[0m\u001b[1;33m(\u001b[0m\u001b[1;34m'Soma dos Pesos: '\u001b[0m\u001b[1;33m,\u001b[0m \u001b[0msum\u001b[0m\u001b[1;33m(\u001b[0m\u001b[0mpesos\u001b[0m\u001b[1;33m)\u001b[0m\u001b[1;33m)\u001b[0m\u001b[1;33m\u001b[0m\u001b[1;33m\u001b[0m\u001b[0m\n\u001b[0m",
      "\u001b[1;31mTypeError\u001b[0m: unsupported operand type(s) for +: 'int' and 'str'"
     ]
    }
   ],
   "source": [
    "pesos = [56, 73, 92, 'ok', 32, 45, True, \"vida\"]\n",
    "\n",
    "for peso in pesos:\n",
    "    print('Soma dos Pesos: ', sum(pesos))"
   ]
  },
  {
   "cell_type": "markdown",
   "metadata": {},
   "source": [
    "Prevenindo-se da possível ocorrência do erro: <tt>TypeError</tt>"
   ]
  },
  {
   "cell_type": "code",
   "execution_count": 6,
   "metadata": {
    "scrolled": true
   },
   "outputs": [
    {
     "name": "stdout",
     "output_type": "stream",
     "text": [
      "Soma dos Pesos:  253\n"
     ]
    }
   ],
   "source": [
    "pesos = [56, 73, 92, 'ok', 32, 4.5, True, \"vida\"]\n",
    "soma = 0\n",
    "for peso in pesos:\n",
    "  if type(peso) == (int or float):         # verificação do conteúdo do elemento\n",
    "    soma += peso\n",
    "print('Soma dos Pesos: ', soma)"
   ]
  },
  {
   "cell_type": "markdown",
   "metadata": {},
   "source": [
    "### <tt>Apresentação da Lista com _loop_</tt>"
   ]
  },
  {
   "cell_type": "code",
   "execution_count": 8,
   "metadata": {},
   "outputs": [
    {
     "name": "stdout",
     "output_type": "stream",
     "text": [
      "azul\n",
      "amarelo --> minha cor favorita!\n",
      "vermelho\n",
      "verde\n",
      "roxo\n"
     ]
    }
   ],
   "source": [
    "cores = [\"azul\",\"amarelo\",\"vermelho\",\"verde\",\"roxo\"]\n",
    "for cor in cores:\n",
    "  print(cor,end='')\n",
    "  if cor == \"amarelo\":\n",
    "    print(\" --> minha cor favorita!\")\n",
    "  else:\n",
    "    print()"
   ]
  },
  {
   "cell_type": "code",
   "execution_count": 23,
   "metadata": {},
   "outputs": [
    {
     "name": "stdout",
     "output_type": "stream",
     "text": [
      "(õ)\n",
      " | \n",
      "/|\\\n",
      " | \n",
      "/ \\\n"
     ]
    }
   ],
   "source": [
    "# Exercício: print do bonequinho da Forca\n",
    "\n",
    "palavras = ['amem','fleury','amazonia','amelie','elefante','morango','nike']\n",
    "\n",
    "\n",
    "print('(õ)')\n",
    "print(' | ')\n",
    "print('/|\\\\')\n",
    "print(' | ')\n",
    "print('/ \\\\')\n",
    "\n",
    "\n"
   ]
  },
  {
   "cell_type": "markdown",
   "metadata": {},
   "source": [
    "### <tt>Abrangência de Lista</tt> \n",
    "(_List Comprehension_)\n",
    "\n",
    "Trata-se de uma forma concisa de se criar e manipular listas.\n",
    "Sua sintaxe é: \n",
    "```python\n",
    "[expr for item in iteravel]\n",
    "```\n",
    "A expressão `expr` é aplicada para cada item do `iteravel`. Como a sintaxe está entre colchetes então todo elemento iterado comporá uma lista ao final.\n",
    "\n",
    "Exemplo: "
   ]
  },
  {
   "cell_type": "code",
   "execution_count": 10,
   "metadata": {},
   "outputs": [
    {
     "data": {
      "text/plain": [
       "[0, 1, 4, 9, 16, 25, 36, 49, 64, 81]"
      ]
     },
     "execution_count": 10,
     "metadata": {},
     "output_type": "execute_result"
    }
   ],
   "source": [
    "lista = []\n",
    "for item in range(10):\n",
    "    lista.append(item**2)   \n",
    "lista"
   ]
  },
  {
   "cell_type": "markdown",
   "metadata": {},
   "source": [
    "Podemos reescrever o exemplo anterior usando _list comprehension_, da seguinte forma:"
   ]
  },
  {
   "cell_type": "code",
   "execution_count": 11,
   "metadata": {},
   "outputs": [
    {
     "data": {
      "text/plain": [
       "[0, 1, 4, 9, 16, 25, 36, 49, 64, 81]"
      ]
     },
     "execution_count": 11,
     "metadata": {},
     "output_type": "execute_result"
    }
   ],
   "source": [
    "lista = [item**2 for item in range(10)]  # potência de 2 a cada elemento da lista\n",
    "lista"
   ]
  },
  {
   "cell_type": "markdown",
   "metadata": {},
   "source": [
    "Outro Exemplo: transforme os itens da lista `nomes` em maiúsculos:"
   ]
  },
  {
   "cell_type": "markdown",
   "metadata": {},
   "source": [
    "#### Modo Convencional"
   ]
  },
  {
   "cell_type": "code",
   "execution_count": 12,
   "metadata": {},
   "outputs": [
    {
     "name": "stdout",
     "output_type": "stream",
     "text": [
      "['JOÃO', 'MARIA', 'JOSÉ', 'SUZY']\n"
     ]
    }
   ],
   "source": [
    "#Solução 1\n",
    "\n",
    "nomes = ['joão','maria','josé','suzy']\n",
    "maiusc = []\n",
    "for minusc in nomes:\n",
    "    maiusc.append(str(minusc).upper())\n",
    "print(maiusc)"
   ]
  },
  {
   "cell_type": "markdown",
   "metadata": {},
   "source": [
    "Podemos reescrevê-lo da seguinte forma:"
   ]
  },
  {
   "cell_type": "code",
   "execution_count": 13,
   "metadata": {
    "scrolled": true
   },
   "outputs": [
    {
     "name": "stdout",
     "output_type": "stream",
     "text": [
      "['JOÃO', 'MARIA', 'JOSÉ', 'SUZY']\n"
     ]
    }
   ],
   "source": [
    "#Solução 2\n",
    "\n",
    "print([str(item).upper() for item in nomes])"
   ]
  },
  {
   "cell_type": "markdown",
   "metadata": {},
   "source": [
    "#### Modo Pythônico"
   ]
  },
  {
   "cell_type": "code",
   "execution_count": 28,
   "metadata": {},
   "outputs": [
    {
     "name": "stdout",
     "output_type": "stream",
     "text": [
      "['JOÃO', 'MARIA', 'JOSE', 'SUZY']\n"
     ]
    }
   ],
   "source": [
    "#Solução 3\n",
    "\n",
    "nomes = ['joão','maria','jose','suzy']\n",
    "print([item.upper() for item in nomes])"
   ]
  },
  {
   "cell_type": "markdown",
   "metadata": {},
   "source": [
    "#### _List Comprehension_ com `if` \n",
    "As expressões das _Lists Comprehensions_ podem ser condicionais para se criar listas com critérios ou até mesmo modificar listas existentes.\n",
    "\n",
    "Sua sintaxe básica é:\n",
    "```python\n",
    "[expr for item in iteravel if cond]\n",
    "```"
   ]
  },
  {
   "cell_type": "markdown",
   "metadata": {},
   "source": [
    "Exemplo: Transformar para letras maiúsculas somente os nomes que começarem com a letra 'j'."
   ]
  },
  {
   "cell_type": "code",
   "execution_count": 15,
   "metadata": {},
   "outputs": [
    {
     "data": {
      "text/plain": [
       "['JOÃO', 'JOSÉ']"
      ]
     },
     "execution_count": 15,
     "metadata": {},
     "output_type": "execute_result"
    }
   ],
   "source": [
    "[item.upper() for item in nomes if item[0] == 'j']"
   ]
  },
  {
   "cell_type": "markdown",
   "metadata": {},
   "source": [
    "Outro Exemplo: Transformar para letras maiúsculas somente os nomes que começarem com a letra 'j' e terminarem com 'o'."
   ]
  },
  {
   "cell_type": "code",
   "execution_count": 16,
   "metadata": {},
   "outputs": [
    {
     "data": {
      "text/plain": [
       "['JOÃO']"
      ]
     },
     "execution_count": 16,
     "metadata": {},
     "output_type": "execute_result"
    }
   ],
   "source": [
    "[item.upper() for item in nomes if item[0] == 'j' if item[-1] == 'o']"
   ]
  },
  {
   "cell_type": "markdown",
   "metadata": {},
   "source": [
    "### <tt>Enumerando os Elementos de uma Lista</tt>"
   ]
  },
  {
   "cell_type": "code",
   "execution_count": 6,
   "metadata": {},
   "outputs": [
    {
     "name": "stdout",
     "output_type": "stream",
     "text": [
      "1 - branco\n",
      "2 - vermelho\n",
      "3 - azul\n",
      "4 - verde\n",
      "5 - amarelo\n",
      "6 - preto\n"
     ]
    }
   ],
   "source": [
    "# Python 3 - programa convencional\n",
    "cores = ['branco', 'vermelho', 'azul', 'verde', 'amarelo', 'preto']\n",
    "for i in range(len(cores)):\n",
    "    print(i+1,\"-\",cores[i])"
   ]
  },
  {
   "cell_type": "code",
   "execution_count": 8,
   "metadata": {
    "scrolled": true
   },
   "outputs": [
    {
     "name": "stdout",
     "output_type": "stream",
     "text": [
      "1 - branco\n",
      "2 - vermelho\n",
      "3 - azul\n",
      "4 - verde\n",
      "5 - amarelo\n",
      "6 - preto\n"
     ]
    }
   ],
   "source": [
    "# Python 3 - programa pythônico\n",
    "cores = ['branco', 'vermelho', 'azul', 'verde', 'amarelo', 'preto']\n",
    "for i, cor in enumerate(cores,1):\n",
    "    print(i,\"-\",cor)"
   ]
  },
  {
   "cell_type": "markdown",
   "metadata": {},
   "source": [
    "### <tt>Classificando os Elementos de uma Lista</tt>"
   ]
  },
  {
   "cell_type": "code",
   "execution_count": 12,
   "metadata": {},
   "outputs": [
    {
     "name": "stdout",
     "output_type": "stream",
     "text": [
      "amarelo, azul, branco, preto, verde, vermelho, \b\b\n"
     ]
    }
   ],
   "source": [
    "# Python 3 - Ordem alfabética\n",
    "cores = ['branco', 'vermelho', 'azul', 'verde', 'amarelo', 'preto']\n",
    "for cor in sorted(cores):\n",
    "    print(cor, end=', ')\n",
    "print('\\b\\b')"
   ]
  },
  {
   "cell_type": "code",
   "execution_count": 13,
   "metadata": {},
   "outputs": [
    {
     "name": "stdout",
     "output_type": "stream",
     "text": [
      "vermelho, verde, preto, branco, azul, amarelo, \b\b\n"
     ]
    }
   ],
   "source": [
    "# Python 3 - Ordem alfabética reversa\n",
    "cores = ['branco', 'vermelho', 'azul', 'verde', 'amarelo', 'preto']\n",
    "for cor in sorted(cores, reverse=True):\n",
    "    print(cor, end=', ')\n",
    "print('\\b\\b')"
   ]
  },
  {
   "cell_type": "code",
   "execution_count": null,
   "metadata": {},
   "outputs": [],
   "source": [
    "# Exercício\n",
    "## Fazer uma lista com nome e média de vários alunos\n",
    "\n",
    "\n",
    "aluno = input('Nome: ')\n",
    "lista = []\n",
    "\n",
    "while aluno != 'fim':\n",
    "    media = input('Média: ')\n",
    "    lista.append(aluno)\n",
    "    lista.append(media)\n",
    "    aluno = input('Nome: ')\n",
    "    \n",
    "print(lista)"
   ]
  },
  {
   "cell_type": "markdown",
   "metadata": {},
   "source": [
    "### <a style=\"color: red\">Exercícios</a>\n",
    "1. Escreva um _script_ para gerar uma lista de todos os números primos menores que 20. Mas antes de começar, é importante definir **número primo**...  \n",
    "\n",
    "**Um número primo tem que ser um inteiro positivo divisível apenas por dois outros números inteiros: 1 e ele mesmo.** Portanto, o número 1 não é um número primo."
   ]
  },
  {
   "cell_type": "code",
   "execution_count": 29,
   "metadata": {},
   "outputs": [
    {
     "name": "stdout",
     "output_type": "stream",
     "text": [
      "Primos (< 20): [2, 3, 5, 7, 11, 13, 17, 19]\n"
     ]
    },
    {
     "data": {
      "text/html": [
       "<script> code_show=true; \n",
       "  function code_toggle() {\n",
       "    if (code_show) {\n",
       "        $('div.cell.code_cell.rendered.selected div.input').hide(); } \n",
       "    else {\n",
       "        $('div.cell.code_cell.rendered.selected div.input').show(); }\n",
       "    code_show = !code_show\n",
       "  } \n",
       "$( document ).ready(code_toggle);\n",
       "</script>\n",
       "Para mostrar/esconder o código de entrada desta célula, \n",
       "clique <a href=\"javascript:code_toggle()\">aqui</a>."
      ],
      "text/plain": [
       "<IPython.core.display.HTML object>"
      ]
     },
     "execution_count": 29,
     "metadata": {},
     "output_type": "execute_result"
    }
   ],
   "source": [
    "# Cria uma lista de números primos menores que 20\n",
    "primos = []\n",
    "for candidato in range(2, 21):\n",
    "    # Assumindo que 'n' é primo até prova em contrário! \n",
    "    Primo = True\n",
    "    for n in range(2, int(candidato ** 0.5) + 1):\n",
    "        if candidato % n == 0:\n",
    "            Primo = False\n",
    "            break\n",
    "    if Primo:\n",
    "        primos.append(candidato)\n",
    "print(\"Primos (< 20):\",primos)\n",
    "\n",
    "from IPython.display import HTML\n",
    "HTML('''<script> code_show=true; \n",
    "  function code_toggle() {\n",
    "    if (code_show) {\n",
    "        $('div.cell.code_cell.rendered.selected div.input').hide(); } \n",
    "    else {\n",
    "        $('div.cell.code_cell.rendered.selected div.input').show(); }\n",
    "    code_show = !code_show\n",
    "  } \n",
    "$( document ).ready(code_toggle);\n",
    "</script>\n",
    "Para mostrar/esconder o código de entrada desta célula, \n",
    "clique <a href=\"javascript:code_toggle()\">aqui</a>.''')"
   ]
  },
  {
   "cell_type": "markdown",
   "metadata": {},
   "source": [
    "2.\tDada uma lista de chamada dos alunos (máx. 99 alunos) de uma turma, pede-se mostrar a lista com a seguinte aparência:\n",
    "> 01 - JOAO  \n",
    "02 - ANA  \n",
    "03 - RUBENS  \n",
    "04 - OTACILIO  \n",
    "05 - ...  \n",
    "\n",
    "3.\tConsidere a lista do exercício 1 contendo também a idade de cada aluno: [\"Joao\",22,\"Ana\",19,...]. Mostre a lista com a mesma aparência, porém listando apenas os alunos com mais de 20 anos.\n",
    "\n",
    "4.\tConsidere uma lista de preços de frutas e verduras em reais (`R$`), de uma feira de rua: [\"Pepino\",5.5,\"Tomate\",8.3,\"Banana\",4.5,\"Laranja\",3.0,\"Café Jacú\",990.5,...]. Mostre a lista com preços convertidos para dólar americano (use câmbio `R$` 3,80/`US$`) com a seguinte aparência: \n",
    "> 01\tPepino \t1.33  \n",
    "02\tTomate \t2.43  \n",
    "03\tBanana\t1.21  \n",
    "04\tLaranja\t0.91  \n",
    "05\tCafé Jacú\t20.23  "
   ]
  },
  {
   "cell_type": "markdown",
   "metadata": {},
   "source": [
    "<p style=\"text-align:right;\"><a href=\"#topo\">Volta ao topo</a>"
   ]
  },
  {
   "cell_type": "markdown",
   "metadata": {},
   "source": [
    "<a id=\"6.\"></a>\n",
    "## 6.\tTupla: \n",
    "\n",
    "Uma tupla é uma coleção ordenada e imutável de objetos Python. Tuplas são sequências, assim como as listas. As diferenças entre tuplas e listas são: as tuplas não podem ser alteradas diferentemente das listas, e as tuplas usam parênteses como delimitadores enquanto as listas usam colchetes. Criar uma tupla é tão simples quanto colocar diferentes valores separados por vírgulas e delimitados por parênteses.\n",
    "\n",
    "### <tt>Criando Tuplas</tt>\n",
    "A construção de uma tupla usa elementos separados por vírgulas e delimitados por `( )`. Por exemplo:"
   ]
  },
  {
   "cell_type": "code",
   "execution_count": null,
   "metadata": {},
   "outputs": [],
   "source": [
    "tup = (15, 34, 92, 22)\n",
    "print(tup)"
   ]
  },
  {
   "cell_type": "code",
   "execution_count": null,
   "metadata": {},
   "outputs": [],
   "source": [
    "# uma forma para se criar uma tupla\n",
    "tup = 'python', 'geeks'\n",
    "print(tup) \n",
    "  \n",
    "# outra forma de se fazer o mesmo...\n",
    "tup = ('python', 'geeks') \n",
    "print(tup) "
   ]
  },
  {
   "cell_type": "markdown",
   "metadata": {},
   "source": [
    "Assim como para as listas, a quantidade de elementos pode ser obtida com a função `len()`:"
   ]
  },
  {
   "cell_type": "code",
   "execution_count": null,
   "metadata": {},
   "outputs": [],
   "source": [
    "print(len(tup))"
   ]
  },
  {
   "cell_type": "markdown",
   "metadata": {},
   "source": [
    "Tupla com objetos de tipos de dados diversos:"
   ]
  },
  {
   "cell_type": "code",
   "execution_count": 31,
   "metadata": {},
   "outputs": [
    {
     "name": "stdout",
     "output_type": "stream",
     "text": [
      "Total de Alunos:  16    Diário Id:  34323787\n"
     ]
    }
   ],
   "source": [
    "turma = ('CTIELT.4M',True,16,6.3,34323787,'10/02/2019')\n",
    "print(\"Total de Alunos: \",turma[2],\"   Diário Id: \",turma[4])"
   ]
  },
  {
   "cell_type": "markdown",
   "metadata": {},
   "source": [
    "Todas as formas de acesso aos elementos das listas também valem para as tuplas:"
   ]
  },
  {
   "cell_type": "code",
   "execution_count": 32,
   "metadata": {},
   "outputs": [
    {
     "data": {
      "text/plain": [
       "'10/02/2019'"
      ]
     },
     "execution_count": 32,
     "metadata": {},
     "output_type": "execute_result"
    }
   ],
   "source": [
    "turma[-1]"
   ]
  },
  {
   "cell_type": "code",
   "execution_count": null,
   "metadata": {},
   "outputs": [],
   "source": [
    "turma[::-1]"
   ]
  },
  {
   "cell_type": "markdown",
   "metadata": {},
   "source": [
    "Concatenação de Tuplas: "
   ]
  },
  {
   "cell_type": "code",
   "execution_count": 37,
   "metadata": {},
   "outputs": [
    {
     "name": "stdout",
     "output_type": "stream",
     "text": [
      "(0, 1, 2, 3, 'python', 'geek')\n"
     ]
    }
   ],
   "source": [
    "# concatenação de duas tuplas \n",
    "tupla1, tupla2 = (0, 1, 2, 3), ('python', 'geek') \n",
    "print(tupla1 + tupla2)"
   ]
  },
  {
   "cell_type": "markdown",
   "metadata": {},
   "source": [
    "Repetição de tupla:"
   ]
  },
  {
   "cell_type": "code",
   "execution_count": 34,
   "metadata": {},
   "outputs": [
    {
     "name": "stdout",
     "output_type": "stream",
     "text": [
      "('python', 'python', 'python')\n"
     ]
    }
   ],
   "source": [
    "# criando uma tupla com repetição de tupla \n",
    "tupla3 = ('python',) * 3 \n",
    "print(tupla3)"
   ]
  },
  {
   "cell_type": "markdown",
   "metadata": {},
   "source": [
    "Conversão de lista em Tupla usando a função `tuple()`:"
   ]
  },
  {
   "cell_type": "code",
   "execution_count": null,
   "metadata": {},
   "outputs": [],
   "source": [
    "lista1 = [0, 1, 2] \n",
    "print(tuple(lista1)) \n",
    "print(tuple('python'))     # string 'python' "
   ]
  },
  {
   "cell_type": "markdown",
   "metadata": {},
   "source": [
    "A função `tuple()` recebe um único parâmetro que pode ser uma lista, uma string, um conjunto ou até mesmo um dicionário (somente as chaves são recebidas como elementos) e as converte em uma tupla."
   ]
  },
  {
   "cell_type": "markdown",
   "metadata": {},
   "source": [
    "### <tt>Métodos de Tupla</tt>\n",
    "Tuplas têm métodos embutidos, mas não tantos quanto os métodos disponíveis para listas."
   ]
  },
  {
   "cell_type": "code",
   "execution_count": 38,
   "metadata": {},
   "outputs": [
    {
     "data": {
      "text/plain": [
       "(0, 1)"
      ]
     },
     "execution_count": 38,
     "metadata": {},
     "output_type": "execute_result"
    }
   ],
   "source": [
    "# contagem de ocorrências de um dado elemento na tupla\n",
    "turma.count(10), turma.count(16)"
   ]
  },
  {
   "cell_type": "markdown",
   "metadata": {},
   "source": [
    "### <tt>Imutabilidade </tt>\n",
    "Relembrando: as tuplas são imutáveis, não se pode modificar uma tupla depois que ela for definida..."
   ]
  },
  {
   "cell_type": "code",
   "execution_count": null,
   "metadata": {},
   "outputs": [],
   "source": [
    "turma[2]"
   ]
  },
  {
   "cell_type": "code",
   "execution_count": null,
   "metadata": {},
   "outputs": [],
   "source": [
    "turma[2] = 19"
   ]
  },
  {
   "cell_type": "code",
   "execution_count": null,
   "metadata": {},
   "outputs": [],
   "source": [
    "turma.append('encerrada')"
   ]
  },
  {
   "cell_type": "markdown",
   "metadata": {},
   "source": [
    "### <tt>Quando usar tuplas</tt>\n",
    "Você pode estar se perguntando: _\"Por que se preocupar em usar tuplas quando elas têm menos métodos disponíveis que as listas?\"_ Na verdade, as tuplas não são usadas tão frequentemente quanto as listas, mas são usadas quando a imutabilidade é necessária. Se no seu programa você está passando um objeto e precisa ter certeza de que ele não será alterado, então a tupla será a solução. Ela fornece uma forma conveniente de se obter integridade de dados."
   ]
  },
  {
   "cell_type": "code",
   "execution_count": 40,
   "metadata": {},
   "outputs": [
    {
     "name": "stdout",
     "output_type": "stream",
     "text": [
      "('python', 'geek')\n"
     ]
    },
    {
     "data": {
      "text/plain": [
       "'python'"
      ]
     },
     "execution_count": 40,
     "metadata": {},
     "output_type": "execute_result"
    }
   ],
   "source": [
    "print(tupla2)\n",
    "max(tupla2)"
   ]
  },
  {
   "cell_type": "code",
   "execution_count": 41,
   "metadata": {},
   "outputs": [
    {
     "name": "stdout",
     "output_type": "stream",
     "text": [
      "Diferentes!\n",
      "Maiores elementos nas tuplas 1,2: python,ok\n",
      "Menores elementos nas tuplas 1,2: geek,codificador\n"
     ]
    }
   ],
   "source": [
    "# comparação de tuplas\n",
    "tupla1 = ('python', 'geek') \n",
    "tupla2 = ('codificador', 'ok') \n",
    "  \n",
    "# if cmp(tupla1, tupla2) != 0:              # python2\n",
    "   # cmp() retorna 0 se os argumentos se casam (são iguais), 1 quando a tupla1 não  \n",
    "   # é a maior das tuplas e -1 quando a tupla1 é menor que a tupla2 \n",
    "if (tupla1 > tupla2)-(tupla1 < tupla2):     # python3\n",
    "   print('Diferentes!') \n",
    "else: \n",
    "   print('Idênticas!') \n",
    "print ('Maiores elementos nas tuplas 1,2: ' + str(max(tupla1)) +  ',' + str(max(tupla2))) \n",
    "print ('Menores elementos nas tuplas 1,2: ' + str(min(tupla1)) + ','  + str(min(tupla2))) "
   ]
  },
  {
   "cell_type": "markdown",
   "metadata": {},
   "source": [
    "Obs.: \n",
    "- `max()` e `min()` verificam os valores baseados no código ASCII. Se houver duas strings em uma tupla, o primeiro caractere diferente nas strings será verificado.\n",
    "- `cmp()` é uma função embutida no Python, usada para comparar dois objetos e não retorna `True` ou `False` mas sim um valor negativo, zero ou positivo, com base nos objetos dados."
   ]
  },
  {
   "cell_type": "markdown",
   "metadata": {},
   "source": [
    "### <a style=\"color: red\">Exercício</a>\n",
    "1. Dada uma lista de tuplas, some e mostre as tuplas que tenha o primeiro valor iguais.\n",
    "\n",
    "Exemplos:\n",
    "\n",
    "    Entrada: [(1, 13), (2, 190), (3, 82), (1, 12)] \n",
    "    Saída:   [(1, 25), (2, 190), (3, 82)] \n",
    "    Entrada: [(1, 13), (1, 190), (3, 25), (1, 12)] \n",
    "    Saída:   [(1, 215), (3, 25)]"
   ]
  },
  {
   "cell_type": "code",
   "execution_count": null,
   "metadata": {},
   "outputs": [],
   "source": [
    "Input = [(1, 13), (3, -2), (1, 190), (3, 25), (1, 12)] \n",
    "d = {x:0 for x, _ in Input} \n",
    "for nome, num in Input: d[nome] += num \n",
    " \n",
    "# using map \n",
    "Output = list(map(tuple, d.items())) \n",
    "print(Output)\n",
    "\n",
    "from IPython.display import HTML\n",
    "HTML('''<script> code_show=true; \n",
    "  function code_toggle() {\n",
    "    if (code_show) {\n",
    "        $('div.cell.code_cell.rendered.selected div.input').hide(); } \n",
    "    else {\n",
    "        $('div.cell.code_cell.rendered.selected div.input').show(); }\n",
    "    code_show = !code_show\n",
    "  } \n",
    "$( document ).ready(code_toggle);\n",
    "</script>\n",
    "Para mostrar/esconder o código de entrada desta célula, \n",
    "clique <a href=\"javascript:code_toggle()\">aqui</a>.''')"
   ]
  },
  {
   "cell_type": "markdown",
   "metadata": {},
   "source": [
    "<p style=\"text-align:right;\"><a href=\"#topo\">Volta ao topo</a>"
   ]
  },
  {
   "cell_type": "markdown",
   "metadata": {},
   "source": [
    "<a id=\"7.\"></a>\n",
    "## 7.\tConjunto\n",
    "\n",
    "O conteiner __conjunto__ (_set_ , em inglês) pode ser usado na execução de operações de conjuntos matemáticos, tais como: união, interseção, diferença simétrica etc. \n",
    "\n",
    "Um **conjunto** é uma **coleção não ordenada de elementos únicos** e que podem ser alterados, acrescentados ou excluídos.\n",
    "\n",
    "### <tt>Criando um Conjunto</tt> \n",
    "\n",
    "Podemos usar a função `set()` ou um par de chaves `{ }` para criar um conjunto vazio, ou podemos ainda criá-los com elementos a partir de outras estruturas iteráveis (lista, tupla, dicionário etc). \n",
    "\n",
    "Exemplo: Criação e inserção de elementos num conjunto."
   ]
  },
  {
   "cell_type": "code",
   "execution_count": 45,
   "metadata": {},
   "outputs": [
    {
     "name": "stdout",
     "output_type": "stream",
     "text": [
      "set()\n"
     ]
    }
   ],
   "source": [
    "# criando um conjunto vazio: A = { }  ou\n",
    "A = set()\n",
    "A"
   ]
  },
  {
   "cell_type": "markdown",
   "metadata": {},
   "source": [
    "### <tt>Acrescentando Elemento(s) ao Conjunto</tt>"
   ]
  },
  {
   "cell_type": "code",
   "execution_count": 46,
   "metadata": {},
   "outputs": [
    {
     "name": "stdout",
     "output_type": "stream",
     "text": [
      "{'ok'}\n"
     ]
    }
   ],
   "source": [
    "A.add('ok')\n",
    "A"
   ]
  },
  {
   "cell_type": "code",
   "execution_count": 47,
   "metadata": {},
   "outputs": [
    {
     "data": {
      "text/plain": [
       "{1, 'ok'}"
      ]
     },
     "execution_count": 47,
     "metadata": {},
     "output_type": "execute_result"
    }
   ],
   "source": [
    "A.add(1)\n",
    "A.add(1)          # elementos repetidos não são incluídos...\n",
    "A"
   ]
  },
  {
   "cell_type": "code",
   "execution_count": 48,
   "metadata": {},
   "outputs": [
    {
     "data": {
      "text/plain": [
       "{-8, 1, 'ok'}"
      ]
     },
     "execution_count": 48,
     "metadata": {},
     "output_type": "execute_result"
    }
   ],
   "source": [
    "A.add(-8)\n",
    "A"
   ]
  },
  {
   "cell_type": "code",
   "execution_count": 49,
   "metadata": {},
   "outputs": [
    {
     "data": {
      "text/plain": [
       "{-8, 1, 5, 'ok'}"
      ]
     },
     "execution_count": 49,
     "metadata": {},
     "output_type": "execute_result"
    }
   ],
   "source": [
    "A.add(5)\n",
    "A                 # coleção não ordenada"
   ]
  },
  {
   "cell_type": "markdown",
   "metadata": {},
   "source": [
    "Observe que os elementos não guardam, obrigatoriamente, qualquer ordem no conjunto e que elementos já existentes não são repetidos ao serem adicionados mais de uma vez ao conjunto."
   ]
  },
  {
   "cell_type": "markdown",
   "metadata": {},
   "source": [
    "Exemplo:  Supressão de elementos repetidos de uma lista ou tupla:"
   ]
  },
  {
   "cell_type": "code",
   "execution_count": 50,
   "metadata": {},
   "outputs": [
    {
     "name": "stdout",
     "output_type": "stream",
     "text": [
      "{22, 23, 25, 26, 27, 28}\n"
     ]
    }
   ],
   "source": [
    "lista = [22,22,23,25,25,25,26,26,27,28,28]\n",
    "print(set(lista))"
   ]
  },
  {
   "cell_type": "code",
   "execution_count": 51,
   "metadata": {},
   "outputs": [
    {
     "data": {
      "text/plain": [
       "(22, 22, 23, 25, 25, 25, 26, 26, 27, 28, 28)"
      ]
     },
     "execution_count": 51,
     "metadata": {},
     "output_type": "execute_result"
    }
   ],
   "source": [
    "tupla = tuple(lista)\n",
    "tupla"
   ]
  },
  {
   "cell_type": "code",
   "execution_count": 52,
   "metadata": {},
   "outputs": [
    {
     "name": "stdout",
     "output_type": "stream",
     "text": [
      "{22, 23, 25, 26, 27, 28}\n"
     ]
    }
   ],
   "source": [
    "B = set(tupla)\n",
    "print(B)"
   ]
  },
  {
   "cell_type": "markdown",
   "metadata": {},
   "source": [
    "### <tt>Removendo Elemento(s) de um Conjunto</tt>\n",
    "\n",
    "Um item específico pode ser removido do conjunto usando os métodos: `discard()` e `remove()`. A diferença entre esses métodos é que, ao usar o __discard(item)__ se o __item__ não existir no conjunto, então ocorre uma ação, enquanto o método __remove(item)__ gerará um erro nessa situação."
   ]
  },
  {
   "cell_type": "code",
   "execution_count": 53,
   "metadata": {},
   "outputs": [
    {
     "data": {
      "text/plain": [
       "{22, 25, 26, 27, 28}"
      ]
     },
     "execution_count": 53,
     "metadata": {},
     "output_type": "execute_result"
    }
   ],
   "source": [
    "B.discard(23)\n",
    "B"
   ]
  },
  {
   "cell_type": "code",
   "execution_count": 58,
   "metadata": {},
   "outputs": [
    {
     "ename": "KeyError",
     "evalue": "23",
     "output_type": "error",
     "traceback": [
      "\u001b[1;31m---------------------------------------------------------------------------\u001b[0m",
      "\u001b[1;31mKeyError\u001b[0m                                  Traceback (most recent call last)",
      "\u001b[1;32m<ipython-input-58-185476ceff8e>\u001b[0m in \u001b[0;36m<module>\u001b[1;34m\u001b[0m\n\u001b[0;32m      1\u001b[0m \u001b[0mB\u001b[0m\u001b[1;33m.\u001b[0m\u001b[0mdiscard\u001b[0m\u001b[1;33m(\u001b[0m\u001b[1;36m23\u001b[0m\u001b[1;33m)\u001b[0m\u001b[1;33m\u001b[0m\u001b[1;33m\u001b[0m\u001b[0m\n\u001b[1;32m----> 2\u001b[1;33m \u001b[0mB\u001b[0m\u001b[1;33m.\u001b[0m\u001b[0mremove\u001b[0m\u001b[1;33m(\u001b[0m\u001b[1;36m23\u001b[0m\u001b[1;33m)\u001b[0m\u001b[1;33m\u001b[0m\u001b[1;33m\u001b[0m\u001b[0m\n\u001b[0m\u001b[0;32m      3\u001b[0m \u001b[0mB\u001b[0m\u001b[1;33m\u001b[0m\u001b[1;33m\u001b[0m\u001b[0m\n",
      "\u001b[1;31mKeyError\u001b[0m: 23"
     ]
    }
   ],
   "source": [
    "B.discard(23)\n",
    "B.remove(23)\n",
    "B"
   ]
  },
  {
   "cell_type": "markdown",
   "metadata": {},
   "source": [
    "### <tt>União de Conjuntos</tt>\n",
    "\n",
    "A união dos conjuntos **A e B** é um conjunto de todos os elementos de ambos os conjuntos. União é realizada usando operador ‘|’ ou o método **union()**.\n"
   ]
  },
  {
   "cell_type": "code",
   "execution_count": 67,
   "metadata": {},
   "outputs": [
    {
     "name": "stdout",
     "output_type": "stream",
     "text": [
      "{3, 4, 5} {4, 5, 6}\n",
      "{3, 4, 5, 6}\n",
      "{3, 4, 5, 6}\n"
     ]
    }
   ],
   "source": [
    "A = {4,3,5,4}\n",
    "B = {5,4,6}\n",
    "print(A, B)\n",
    "print(A | B)            # união dos conjuntos A e B\n",
    "print(A.union(B))       # união dos conjuntos A e B"
   ]
  },
  {
   "cell_type": "markdown",
   "metadata": {},
   "source": [
    "### <tt>Interseção entre Conjuntos </tt>\n",
    "A interseção entre __A e B__ é um conjunto de elementos comuns a ambos os conjuntos. A interseção é realizada usando o operador '&' ou o método __intersection()__."
   ]
  },
  {
   "cell_type": "code",
   "execution_count": 60,
   "metadata": {
    "scrolled": false
   },
   "outputs": [
    {
     "name": "stdout",
     "output_type": "stream",
     "text": [
      "{4, 5}\n"
     ]
    }
   ],
   "source": [
    "B.intersection(A)\n",
    "print(B & A)"
   ]
  },
  {
   "cell_type": "markdown",
   "metadata": {},
   "source": [
    "### <tt>Diferença de Conjuntos</tt>\n",
    "A diferença entre os conjuntos __A e B__ é representada por __A – B__, e é um conjunto formado pelos elementos que estão apenas em __A__, mas não em __B__. Da mesma forma, __B – A__ é um conjunto formado pelos elementos que estão em __B__ e que não estão em __A__. A diferença de conjuntos é realizada em Python pelo operador `-` ou pelo método __difference()__."
   ]
  },
  {
   "cell_type": "code",
   "execution_count": 61,
   "metadata": {},
   "outputs": [
    {
     "name": "stdout",
     "output_type": "stream",
     "text": [
      "A: {3, 4, 5} B: {4, 5, 6}\n",
      "A - B: {3}\n",
      "B - A: {6}\n"
     ]
    }
   ],
   "source": [
    "print(\"A:\",A,\"B:\",B)\n",
    "print(\"A - B:\",A - B)               # ou:  A.difference(B)\n",
    "print(\"B - A:\",B - A)               # ou:  B.difference(A)"
   ]
  },
  {
   "cell_type": "code",
   "execution_count": 62,
   "metadata": {},
   "outputs": [
    {
     "data": {
      "text/plain": [
       "{'Ana', 'Camila', 'Matheus', 'Pedro'}"
      ]
     },
     "execution_count": 62,
     "metadata": {},
     "output_type": "execute_result"
    }
   ],
   "source": [
    "homens = {\"Pedro\", \"Matheus\"}\n",
    "mulheres = {\"Ana\", \"Camila\"}\n",
    "familia = homens | mulheres\n",
    "familia"
   ]
  },
  {
   "cell_type": "code",
   "execution_count": 63,
   "metadata": {},
   "outputs": [
    {
     "data": {
      "text/plain": [
       "{'Camila', 'Matheus'}"
      ]
     },
     "execution_count": 63,
     "metadata": {},
     "output_type": "execute_result"
    }
   ],
   "source": [
    "empregado = {\"Pedro\",\"Ana\"}\n",
    "desempregado = familia - empregado\n",
    "desempregado"
   ]
  },
  {
   "cell_type": "markdown",
   "metadata": {},
   "source": [
    "### <tt>Diferença Simétrica entre Conjuntos</tt>\n",
    "A diferença simétrica entre os conjuntos __A e B__, representada por __A ^ B__, é um conjunto de elementos em __A e B__, exceto aqueles que são comuns a ambos. A diferença simétrica é realizada usando o operador ‘^’ou usando o método __symmetric_difference()__."
   ]
  },
  {
   "cell_type": "code",
   "execution_count": 66,
   "metadata": {},
   "outputs": [
    {
     "name": "stdout",
     "output_type": "stream",
     "text": [
      "{3, 6, 7} {3, 6, 7}\n",
      "{'Camila', 'Matheus'}\n",
      "{'Camila', 'Matheus'}\n"
     ]
    }
   ],
   "source": [
    "A.symmetric_difference(B)\n",
    "print(A ^ B, B ^ A)\n",
    "print(familia ^ empregado)\n",
    "print(familia - empregado)"
   ]
  },
  {
   "cell_type": "markdown",
   "metadata": {},
   "source": [
    "### <a style=\"color: red\">Exercício</a>\n",
    "Mostre os números incomuns dos conjuntos `lista_a = [0, 1, 2, 3, 4]`  e `lista_b = [2, 3, 4, 5]`.\n",
    "Dica: use a função `set()`."
   ]
  },
  {
   "cell_type": "code",
   "execution_count": 69,
   "metadata": {},
   "outputs": [
    {
     "name": "stdout",
     "output_type": "stream",
     "text": [
      "{0, 1, 5}\n",
      "{3, 6}\n"
     ]
    }
   ],
   "source": [
    "lista_a = [0, 1, 2, 3, 4]\n",
    "lista_b = [2, 3, 4, 5]\n",
    "print((set(lista_a) - set(lista_b)) | (set(lista_b) - set(lista_a)))\n",
    "A.symmetric_difference(B)\n",
    "print(A ^ B)"
   ]
  },
  {
   "cell_type": "markdown",
   "metadata": {},
   "source": [
    "### <tt>Acessando Elementos do Conjunto</tt>\n",
    "Diferentemente das estruturas de dados __Lista__ e __Tupla__, os elementos de um __Conjunto__ não podem ser acessados via indexação:"
   ]
  },
  {
   "cell_type": "code",
   "execution_count": null,
   "metadata": {},
   "outputs": [],
   "source": [
    "B"
   ]
  },
  {
   "cell_type": "code",
   "execution_count": null,
   "metadata": {},
   "outputs": [],
   "source": [
    "B[0]"
   ]
  },
  {
   "cell_type": "code",
   "execution_count": null,
   "metadata": {},
   "outputs": [],
   "source": [
    "for elemento in B:\n",
    "   print(elemento,end=', ')\n",
    "print('\\b\\b')                     # '\\b' caracter Backspace"
   ]
  },
  {
   "cell_type": "markdown",
   "metadata": {},
   "source": [
    "Funções incorporadas aplicáveis aos conjuntos: <tt>all(), any(), enumerate(), len(), max(), min(), sorted() e sum()</tt>."
   ]
  },
  {
   "cell_type": "code",
   "execution_count": null,
   "metadata": {},
   "outputs": [],
   "source": [
    "B, sum(B), max(B), min(B), len(B)"
   ]
  },
  {
   "cell_type": "markdown",
   "metadata": {},
   "source": [
    "### <tt>Conjuntos Imutáveis: frozenset()</tt> \n",
    "\n",
    "É uma estrutura que possui características de um conjunto, mas seus elementos não podem ser alterados/acrescidos/removidos depois de atribuídos. Enquanto as tuplas são listas imutáveis, os __frozensets__ são conjuntos imutáveis. \n",
    "\n",
    "Conjuntos não podem ser usados como chaves de dicionário, por serem mutáveis. Por outro lado, os __frozensets__ podem ser usados como chaves de um dicionário.  Podem ser criados usando a função `frozenset()`."
   ]
  },
  {
   "cell_type": "code",
   "execution_count": null,
   "metadata": {},
   "outputs": [],
   "source": [
    "A = frozenset([1, 2, 3, 4])\n",
    "B = frozenset([3, 4, 5, 6])\n",
    "A, B"
   ]
  },
  {
   "cell_type": "code",
   "execution_count": null,
   "metadata": {},
   "outputs": [],
   "source": [
    "A ^ B, A | B"
   ]
  },
  {
   "cell_type": "code",
   "execution_count": null,
   "metadata": {
    "scrolled": true
   },
   "outputs": [],
   "source": [
    "A.add(5)"
   ]
  },
  {
   "cell_type": "markdown",
   "metadata": {},
   "source": [
    "### <a style=\"color: red\">Exercício</a>\n",
    "Mostre a quantidade de vogais existente numa string, usando conjunto(s) ou não."
   ]
  },
  {
   "cell_type": "code",
   "execution_count": null,
   "metadata": {
    "scrolled": true
   },
   "outputs": [],
   "source": [
    "# usando conjuntos\n",
    "vogais = set(\"AEIOUaeiou\")\n",
    "nome = \"Ana Claudia\"\n",
    "print(\"Qtde de vogais:\", len(nome) - len(set(nome) - vogais))"
   ]
  },
  {
   "cell_type": "code",
   "execution_count": null,
   "metadata": {},
   "outputs": [],
   "source": [
    "# não usando conjuntos\n",
    "s = \"Ana Claudia\"                 # raw_input(\"Entre uma string: \")\n",
    "cont = 0\n",
    "vogais = set(\"AEIOUaeiou\")\n",
    "for letra in s:\n",
    "    if letra in vogais:\n",
    "        cont += 1\n",
    "print(\"Qtde de vogais:\", cont)"
   ]
  },
  {
   "cell_type": "markdown",
   "metadata": {},
   "source": [
    "<p style=\"text-align:right;\"><a href=\"#topo\">Volta ao topo</a>"
   ]
  },
  {
   "cell_type": "markdown",
   "metadata": {},
   "source": [
    "<a id=\"8.\"></a>\n",
    "## 8.\tDicionário\n",
    "Trata-se de uma estrutura de dados útil na implementação de mapeamentos. __Mapeamento__ é uma coleção de associações entre pares de valores. De certa forma, um mapeamento é uma <u>generalização</u> do acesso de dados por índices, comumente usado em arranjos (vetores e matrizes), com a diferença dos índices (ou chaves) num mapeamento poder ser de qualquer tipo de dado imutável, inclusive _string_.\n",
    "\n",
    "O dicionário é uma coleção não ordenada de itens. Enquanto outros tipos de dados compostos (arranjos) têm apenas um valor para cada índice, um dicionário tem um par __chave:valor__. Os dicionários são otimizados para recuperar valores quando a __chave__ for conhecida. \n",
    "\n",
    "Se você estiver familiarizado com outras linguagens, pode pensar em dicionários como tabelas de mapeamento (_hash tables_).\n",
    "\n",
    "### <tt>Criando um Dicionário</tt> \n",
    "Um dicionário em Python consiste de entradas compostas por uma chave e um valor associado, separados por um `:`. Esse valor pode ser praticamente qualquer objeto do Python.\n",
    "\n",
    "Criar um dicionário é tão simples quanto colocar pares (chave:valor) separados por vírgula e delimitados por chaves { }. \n",
    "Cada item do dicionário tem uma __chave__ e um __valor__ correspondente, e é expresso por um par `chave : valor`. Embora o __valor__ possa ser de qualquer tipo de dado e possa se repetir, a __chave__ deve ser de um tipo imutável (string, número ou tupla) e deve ser exclusiva dentro do dicionário."
   ]
  },
  {
   "cell_type": "code",
   "execution_count": null,
   "metadata": {},
   "outputs": [],
   "source": [
    "# criando um dicionário vazio\n",
    "dici = { }\n",
    "print(dici)\n",
    "dici['hoje'] = '19/06/2019'\n",
    "print(dici)\n",
    "# dicionário com chaves do tipo numérico 'inteiro'\n",
    "z = { 1 : 'manga', 2 : 'bola', 3 : 1220 }\n",
    "z[1]"
   ]
  },
  {
   "cell_type": "code",
   "execution_count": null,
   "metadata": {},
   "outputs": [],
   "source": [
    "z[1] = 'banana'\n",
    "print(z)\n",
    "print(z[3])"
   ]
  },
  {
   "cell_type": "code",
   "execution_count": null,
   "metadata": {},
   "outputs": [],
   "source": [
    "# criando dicionário com chaves mistas (vários tipos de dados)\n",
    "y = { 'nome': 'Maria', 'notas': [6,7,4], 5: 'ok' }\n",
    "y[5]"
   ]
  },
  {
   "cell_type": "code",
   "execution_count": null,
   "metadata": {},
   "outputs": [],
   "source": [
    "y['nome']"
   ]
  },
  {
   "cell_type": "code",
   "execution_count": null,
   "metadata": {},
   "outputs": [],
   "source": [
    "print(y['notas'], y['notas'][0])"
   ]
  },
  {
   "cell_type": "markdown",
   "metadata": {},
   "source": [
    "Também podemos criar um dicionário usando a função incorporada `dict()` que requer como parâmetro uma lista de tuplas, cada uma com um par __chave:valor__, ou usando uma sequência de itens no formato `chave=valor`."
   ]
  },
  {
   "cell_type": "code",
   "execution_count": null,
   "metadata": {},
   "outputs": [],
   "source": [
    "# criando dicionário com a função dict()\n",
    "w = dict([('nome','Maria'), ('notas',[6,7,4]), (5,'ok')])\n",
    "w"
   ]
  },
  {
   "cell_type": "code",
   "execution_count": null,
   "metadata": {},
   "outputs": [],
   "source": [
    "# criando dicionário com uma sequência de itens\n",
    "a = dict(x=1, y=2, w=3)\n",
    "print(a)\n",
    "a['x']"
   ]
  },
  {
   "cell_type": "markdown",
   "metadata": {},
   "source": [
    "Também podemos criar __chave__ via operador de atribuição. Por exemplo, se começássemos com um dicionário vazio, poderíamos adicionar elementos continuamente:"
   ]
  },
  {
   "cell_type": "code",
   "execution_count": null,
   "metadata": {},
   "outputs": [],
   "source": [
    "d = { }                # dicionário vazio\n",
    "d['animal'] = 'gato'   # acrescenta o elemento 'animal':'gato'\n",
    "d['idade'] = 6         # acrescenta o elemento 'idade':6\n",
    "d"
   ]
  },
  {
   "cell_type": "markdown",
   "metadata": {},
   "source": [
    "### <tt>Acessando Elementos de um Dicionário</tt>\n",
    "Dicionário são estruturas mutáveis. Podemos adicionar novos itens ou alterar o valor dos itens existentes usando o operador de atribuição. Se a chave já estiver presente no dicionário, então o __valor__ atribuído atualizará a __chave__, caso contrário, um novo par __chave:valor__ será adicionado ao dicionário."
   ]
  },
  {
   "cell_type": "code",
   "execution_count": null,
   "metadata": {},
   "outputs": [],
   "source": [
    "print(d)\n",
    "d['idade'] = 5\n",
    "d['cor'] = 'branco'\n",
    "d['nome'] = 'Teo'\n",
    "d"
   ]
  },
  {
   "cell_type": "markdown",
   "metadata": {},
   "source": [
    "### <tt>Excluindo Elementos de um Dicionário</tt>\n",
    "Podemos remover um par específico de um dicionário usando o método `pop()`. Este método remove o item com a __chave__ fornecida e retorna o __valor__ associado. \n",
    "\n",
    "O método `popitem()` pode ser usado para remover e retornar um determinado item (chave, valor) do dicionário. Todos os itens podem ser removidos de uma só vez usando o método `clear()`. Também podemos usar a função incorporada `del()` para remover itens individuais ou o dicionário inteiro."
   ]
  },
  {
   "cell_type": "code",
   "execution_count": null,
   "metadata": {},
   "outputs": [],
   "source": [
    "print(y)\n",
    "y.pop(5)"
   ]
  },
  {
   "cell_type": "code",
   "execution_count": null,
   "metadata": {},
   "outputs": [],
   "source": [
    "y"
   ]
  },
  {
   "cell_type": "code",
   "execution_count": null,
   "metadata": {},
   "outputs": [],
   "source": [
    "del y['notas']\n",
    "y"
   ]
  },
  {
   "cell_type": "code",
   "execution_count": null,
   "metadata": {},
   "outputs": [],
   "source": [
    "print(d)\n",
    "del d\n",
    "d"
   ]
  },
  {
   "cell_type": "markdown",
   "metadata": {},
   "source": [
    "Outros tantos métodos estão disponíveis para uso com dicionários: `clear(), copy(), \n",
    "fromkeys(seq[, v]), get(key[,d]), items(), keys(), pop(key[,d]), popitem(), update([other]), values()`."
   ]
  },
  {
   "cell_type": "code",
   "execution_count": null,
   "metadata": {},
   "outputs": [],
   "source": [
    "notas = {}.fromkeys(['matematica','espanhol','portugues'],2)\n",
    "notas"
   ]
  },
  {
   "cell_type": "code",
   "execution_count": null,
   "metadata": {},
   "outputs": [],
   "source": [
    "for disciplina in notas.items():\n",
    "  print(disciplina, end=', ')\n",
    "print('\\b'*2)"
   ]
  },
  {
   "cell_type": "code",
   "execution_count": null,
   "metadata": {
    "scrolled": true
   },
   "outputs": [],
   "source": [
    "for disciplina in notas:\n",
    "  print(\"Nota (\" + disciplina + \") = \", notas[disciplina], end=', ')\n",
    "print('\\b'*2)"
   ]
  },
  {
   "cell_type": "code",
   "execution_count": null,
   "metadata": {},
   "outputs": [],
   "source": [
    "list(sorted(notas.keys()))"
   ]
  },
  {
   "cell_type": "markdown",
   "metadata": {},
   "source": [
    "### <tt>Aninhamento de Dicionários</tt>\n",
    "O Python é bastante flexível em termos de aninhamento de objetos e na chamada de métodos. Vamos ver um dicionário aninhado dentro de outro dicionário:"
   ]
  },
  {
   "cell_type": "code",
   "execution_count": null,
   "metadata": {},
   "outputs": [],
   "source": [
    "d = {'chave1':{'ch_aninh':{'ch_sub_aninh':1000}}}\n",
    "d"
   ]
  },
  {
   "cell_type": "code",
   "execution_count": null,
   "metadata": {},
   "outputs": [],
   "source": [
    "d['chave1']['ch_aninh']['ch_sub_aninh']"
   ]
  },
  {
   "cell_type": "code",
   "execution_count": null,
   "metadata": {},
   "outputs": [],
   "source": [
    "pessoas = {1: {'nome':'Maria', 'idade':25, 'sexo':'Fem.','cor':'branca'}, 2: {'nome':'Luiz', 'idade':35, 'sexo':'Masc.'} }\n",
    "print(pessoas)\n",
    "print(pessoas[1]['nome'] + ', ', pessoas[2]['nome'])\n",
    "pessoas[3] = {'nome':'Ana','idade':19,'sexo':'Fem.','casada':False}\n",
    "print(pessoas)"
   ]
  },
  {
   "cell_type": "code",
   "execution_count": null,
   "metadata": {},
   "outputs": [],
   "source": [
    "for chave, reg_pessoal in pessoas.items():\n",
    "  print(\"\\nIdentificação:\", chave)\n",
    "  for caracteristica in reg_pessoal:\n",
    "      print(\"%10s: %-8s\" % (caracteristica, reg_pessoal[caracteristica]))"
   ]
  },
  {
   "cell_type": "code",
   "execution_count": null,
   "metadata": {},
   "outputs": [],
   "source": [
    "'d' in dir()"
   ]
  },
  {
   "cell_type": "markdown",
   "metadata": {},
   "source": [
    "### <tt>Abrangência de Dicionário</tt>\n",
    "A abrangência do dicionário é uma maneira elegante e concisa de criar um novo dicionário a partir de um __objeto iterável__ em Python. A abrangência do dicionário consiste num par __chave:valor__ seguido por uma instrução entre chaves `{ }`. Aqui está um exemplo para criar um dicionário em que cada item será um par formado por um número e o valor do seu cubo."
   ]
  },
  {
   "cell_type": "code",
   "execution_count": null,
   "metadata": {},
   "outputs": [],
   "source": [
    "cubos = {x : x**3 for x in range(10)}\n",
    "print(cubos)"
   ]
  },
  {
   "cell_type": "code",
   "execution_count": null,
   "metadata": {},
   "outputs": [],
   "source": [
    "# Código equivalente usando a sentença 'for':\n",
    "cubos = { }\n",
    "for x in range(10):\n",
    "   cubos[x] = x**3\n",
    "print(cubos)"
   ]
  },
  {
   "cell_type": "markdown",
   "metadata": {},
   "source": [
    "Uma abrangência de dicionário, opcionalmente, pode conter mais instruções `for` ou `if`. Uma instrução `if` pode filtrar itens na formação do novo dicionário. Veja um exemplo para criar um dicionário com apenas chaves ímpares."
   ]
  },
  {
   "cell_type": "code",
   "execution_count": null,
   "metadata": {
    "scrolled": false
   },
   "outputs": [],
   "source": [
    "quadrados_imp = {x: x*x for x in range(11) if x%2 == 1}\n",
    "print(quadrados_imp)"
   ]
  },
  {
   "cell_type": "markdown",
   "metadata": {},
   "source": [
    "### <tt>Teste de Associação ao Dicionário</tt>\n",
    "Podemos testar se uma chave está num dicionário ou não usando a palavra-chave `in`. Observe que o teste de associação é válido somente para chaves, não para valores. Para investigar a associação de um valor deve-se explicitar o acesso aos valores com o método `values()`."
   ]
  },
  {
   "cell_type": "code",
   "execution_count": null,
   "metadata": {},
   "outputs": [],
   "source": [
    "print(quadrados_imp)\n",
    "print(1 in quadrados_imp)\n",
    "print(2 in quadrados_imp)\n",
    "print(7 in quadrados_imp)\n",
    "print(49 in quadrados_imp.values())"
   ]
  },
  {
   "cell_type": "markdown",
   "metadata": {},
   "source": [
    "### <tt>Iterando pelos Itens de um Dicionário </tt>\n",
    "Usando um laço `for`, podemos iterar por cada uma das chaves do dicionário"
   ]
  },
  {
   "cell_type": "code",
   "execution_count": null,
   "metadata": {},
   "outputs": [],
   "source": [
    "print(quadrados_imp)\n",
    "for i in quadrados_imp:\n",
    "   print(i,\":\",quadrados_imp[i])"
   ]
  },
  {
   "cell_type": "markdown",
   "metadata": {},
   "source": [
    "Funções incorporadas aplicáveis aos dicionários:`all(), any(), len(), cmp(), sorted()` etc.\n",
    "\n",
    "|     Função     |    Descrição                                                                                               |\n",
    "|:--------------:|:-----------------------------------------------------------------------------------------------------------|\n",
    "|      all()     |    Retorna True   se todas as chaves do dicionário são verdadeiras (ou se o dicionário está   vazio)       |\n",
    "|      any()     |    Retorna True   se qualquer chave do dicionário é verdadeira. Se o dicionário está vazio,   retorna False|\n",
    "|      len()     |    Retorna o comprimento (a   quantidade de itens) do dicionário                                           |\n",
    "|      cmp()     |    Compara os itens de dois   dicionários                                                                  |\n",
    "|    sorted()    |    Retorna uma nova lista   ordenada de chaves/valores do dicionário                                       |\n",
    "\n",
    "|      Método      |    Descrição                                                                                             |\n",
    "|:----------------:|----------------------------------------------------------------------------------------------------------|\n",
    "|      copy()      |    Retorna uma cópia profunda   do dicionário, um novo objeto é criado na memória contendo todos os pares do   dicionário fonte da cópia |\n",
    "|    fromkeys()    |    Retorna um novo dicionário   cujas chaves são os elementos de lista (prim. Parâmetro) e cujos valores são   todos iguais a valor (seg. parâmetro)   |\n",
    "|     update()     |    Atualiza um dicionário com   os elementos de outro. Os itens do outro dic são adicionados um a um ao   dicionário original                           |\n"
   ]
  },
  {
   "cell_type": "code",
   "execution_count": null,
   "metadata": {},
   "outputs": [],
   "source": [
    "print(quadrados_imp)\n",
    "print(len(quadrados_imp))\n",
    "print(sorted(quadrados_imp))\n",
    "print(sorted(quadrados_imp.values()))"
   ]
  },
  {
   "cell_type": "code",
   "execution_count": null,
   "metadata": {},
   "outputs": [],
   "source": [
    "antonimos = {'sobe':'desce', 'certo':'errado', 'verdadeiro':'falso'}\n",
    "antonimos"
   ]
  },
  {
   "cell_type": "code",
   "execution_count": null,
   "metadata": {},
   "outputs": [],
   "source": [
    "opostos = antonimos              # cópia superficial (shallow)\n",
    "opostos"
   ]
  },
  {
   "cell_type": "code",
   "execution_count": null,
   "metadata": {},
   "outputs": [],
   "source": [
    "opostos['certo'] = 'incerto'\n",
    "print(antonimos)\n",
    "copia = antonimos.copy()          # cópia profunda (deep)\n",
    "copia"
   ]
  },
  {
   "cell_type": "code",
   "execution_count": null,
   "metadata": {},
   "outputs": [],
   "source": [
    "copia['certo'] = 'duvidoso'\n",
    "print(antonimos)\n",
    "print(copia)\n",
    "print(opostos)"
   ]
  },
  {
   "cell_type": "markdown",
   "metadata": {},
   "source": [
    "<hr>"
   ]
  },
  {
   "cell_type": "code",
   "execution_count": 19,
   "metadata": {},
   "outputs": [
    {
     "name": "stdout",
     "output_type": "stream",
     "text": [
      "{'Carla': [1, 2], 'Maria': [10, 11]}\n",
      "{'Carla': [0], 'Maria': [3, 4]}\n",
      "{'Carla': [1, 2], 'Maria': [10, 11]} {'Carla': [1, 2], 'Maria': [10, 11]}\n"
     ]
    }
   ],
   "source": [
    "x = {\"Carla\":[1,2], \"Maria\":[3,4]}\n",
    "y = x.copy()                        # cópia profunda\n",
    "y['Carla'] = [0]\n",
    "z = x                               # cópia rasa\n",
    "z['Maria'] =[10,11]\n",
    "print(x)\n",
    "print(y)\n",
    "print(z,x)"
   ]
  },
  {
   "cell_type": "code",
   "execution_count": null,
   "metadata": {},
   "outputs": [],
   "source": [
    "y[\"Mariana\"] = [5,6]\n",
    "y"
   ]
  },
  {
   "cell_type": "code",
   "execution_count": null,
   "metadata": {},
   "outputs": [],
   "source": [
    "x[\"Carla\"] = x[\"Carla\"] + [3]        # anexação de elemento a uma lista\n",
    "x"
   ]
  },
  {
   "cell_type": "code",
   "execution_count": null,
   "metadata": {},
   "outputs": [],
   "source": [
    "print(y)\n",
    "# print(id(x), id(y))"
   ]
  },
  {
   "cell_type": "code",
   "execution_count": null,
   "metadata": {},
   "outputs": [],
   "source": [
    "z = {\"a\":1, \"b\":2, \"c\":3}\n",
    "q = {\"z\":9, \"b\":7}\n",
    "z.update(q)\n",
    "print(z, q)"
   ]
  },
  {
   "cell_type": "markdown",
   "metadata": {},
   "source": [
    "### <tt>Matriz Esparsa e Dicionário</tt>\n",
    "Considere a seguinte matriz esparsa:"
   ]
  },
  {
   "cell_type": "markdown",
   "metadata": {},
   "source": [
    "<img src=\"img/matriz_esparsa.png\" alt=\"figura de uma matriz esparsa\">\n",
    "\n",
    "Uma representação dessa matriz usando uma lista terá muitos zeros:"
   ]
  },
  {
   "cell_type": "code",
   "execution_count": null,
   "metadata": {},
   "outputs": [],
   "source": [
    "matriz = [ [0, 0, 0, 1, 0],\n",
    "           [0, 0, 0, 0, 0],\n",
    "           [0, 2, 0, 0, 0],\n",
    "           [0, 0, 0, 0, 0],\n",
    "           [0, 0, 0, 3, 0] ]"
   ]
  },
  {
   "cell_type": "markdown",
   "metadata": {},
   "source": [
    "Uma alternativa para economizar memória é usarmos um dicionário. Para as chaves usaremos tuplas com os índices da linha e da coluna:"
   ]
  },
  {
   "cell_type": "code",
   "execution_count": null,
   "metadata": {},
   "outputs": [],
   "source": [
    "esparsa = {(0,3): 1, (2, 1): 2, (4, 3): 3}"
   ]
  },
  {
   "cell_type": "markdown",
   "metadata": {},
   "source": [
    "Nós precisamos apenas de três itens __chave:valor__ para armazenar os valores diferentes de zero da matriz. Cada __chave__ é uma tupla com informação da linha e coluna do elemento não nulo, e cada __valor__ é o valor não nulo (número inteiro) a ser armazenado.\n",
    "\n",
    "Para acessarmos um elemento da matriz armazenada na __lista__ utilizamos o operador de indexação [ ]. Por exemplo, para acessar o primeiro elemento não nulo da matriz: "
   ]
  },
  {
   "cell_type": "code",
   "execution_count": null,
   "metadata": {},
   "outputs": [],
   "source": [
    "matriz[0][3]"
   ]
  },
  {
   "cell_type": "markdown",
   "metadata": {},
   "source": [
    "Note que a sintaxe da representação de um dicionário não é a mesma usada na representação das listas. Em vez de usarmos dois índices inteiros, nós usamos apenas um índice, que nesse caso, é uma tupla formada a partir dos dois valores inteiros referentes à linha e coluna dos elementos não nulos.\n",
    "\n",
    "Mas temos um problema com essa alternativa... Se tentarmos buscar um elemento zero, obteremos um erro, pois não existe uma entrada no dicionário para a chave especificada, 0 (zero):"
   ]
  },
  {
   "cell_type": "code",
   "execution_count": null,
   "metadata": {},
   "outputs": [],
   "source": [
    "print(matriz[1][3])\n",
    "print(esparsa[0,3])\n",
    "print(esparsa[1,3])"
   ]
  },
  {
   "cell_type": "markdown",
   "metadata": {},
   "source": [
    "Podemos usar o método `get()` para resolver essa questão:"
   ]
  },
  {
   "cell_type": "code",
   "execution_count": null,
   "metadata": {},
   "outputs": [],
   "source": [
    "esparsa.get((0,3), 0)"
   ]
  },
  {
   "cell_type": "markdown",
   "metadata": {},
   "source": [
    "O primeiro parâmetro do `get()` é a __chave__ buscada, e o segundo parâmetro é o __valor__ que o `get()` retornará caso a chave não exista no dicionário. Exemplo:"
   ]
  },
  {
   "cell_type": "code",
   "execution_count": null,
   "metadata": {
    "scrolled": true
   },
   "outputs": [],
   "source": [
    "esparsa.get((1,3),0)"
   ]
  },
  {
   "cell_type": "markdown",
   "metadata": {},
   "source": [
    "### <a style=\"color: red\">Exercícios</a>\n",
    "1.\tDada uma palavra, só com letras minúsculas, entrada pelo usuário, mostre a quantidade de letras na palavra."
   ]
  },
  {
   "cell_type": "code",
   "execution_count": null,
   "metadata": {},
   "outputs": [],
   "source": [
    "s = input(\"Digite um nome com letras minúsculas: \")   #'ana claudia maria'\n",
    "len(s)"
   ]
  },
  {
   "cell_type": "markdown",
   "metadata": {},
   "source": [
    "2.\tDada uma palavra, só com letras minúsculas, entrada pelo usuário, mostre a ocorrência de cada letra da palavra (histograma = contagem de frequência), usando lista.v"
   ]
  },
  {
   "cell_type": "code",
   "execution_count": null,
   "metadata": {},
   "outputs": [],
   "source": [
    "c = []; L = []\n",
    "S = list(s)\n",
    "print(S)\n",
    "for letra in S:\n",
    "    if letra not in L:\n",
    "        c = c + [S.count(letra)]\n",
    "        L = L + [letra]\n",
    "        S.remove(letra)\n",
    "print(c,L)"
   ]
  },
  {
   "cell_type": "markdown",
   "metadata": {},
   "source": [
    "3.\tDada uma palavra, só com letras minúsculas, entrada pelo usuário, mostre a ocorrência de cada letra da palavra (histograma = contagem de frequência), usando dicionário."
   ]
  },
  {
   "cell_type": "code",
   "execution_count": null,
   "metadata": {},
   "outputs": [],
   "source": [
    "dic = { }\n",
    "for letra in s:\n",
    "    if letra != ' ':\n",
    "        if letra in dic:\n",
    "            dic[letra] += 1\n",
    "        else:\n",
    "            dic[letra] = 1\n",
    "print(dic)"
   ]
  },
  {
   "cell_type": "markdown",
   "metadata": {},
   "source": [
    "<p style=\"text-align:right;\"><a href=\"#topo\">Volta ao topo</a>"
   ]
  },
  {
   "cell_type": "markdown",
   "metadata": {},
   "source": [
    "<a id=\"9.\"></a>\n",
    "## 9.\tEntrada de Dados\n",
    "Python fornece funções nativas que recebem as entradas realizadas via __teclado__ pelo usuário. A mais simples é chamada `raw_input()`. Ao executar esta função, o programa para e espera o usuário digitar alguma coisa. Quando o usuário finaliza a entrada de dados, ao pressionar a tecla [Enter], o programa prossegue e a função `raw_input()` retorna a digitação do usuário, <font color=\"red\">sempre como string</font>.\n",
    "\n",
    "Suponha a seguinte situação:\n",
    "> Uma aplicação com interface para usuário orientada a caracter (terminal) é escrita em Python, e precisa das credenciais de _login_ do usuário para funcionar:\n",
    "\n",
    "``` python\n",
    "usuario = input('login: ')\n",
    "senha   = input('senha: ')\n",
    "print('Olá, ' + usuario)\n",
    "```\n",
    "Ao ser executado no Python3 (computador em casa):\n",
    "\n",
    "#### Python3"
   ]
  },
  {
   "cell_type": "code",
   "execution_count": 1,
   "metadata": {
    "scrolled": true
   },
   "outputs": [
    {
     "name": "stdout",
     "output_type": "stream",
     "text": [
      "login: praxedes\n",
      "senha: orand\n",
      "Olá, praxedes\n"
     ]
    }
   ],
   "source": [
    "# Rodando no Python3\n",
    "usuario = input('login: ')\n",
    "senha   = input('senha: ')\n",
    "print('Olá, ' + usuario)"
   ]
  },
  {
   "cell_type": "markdown",
   "metadata": {},
   "source": [
    "> Conforme o esperado, exatamente o que é digitado é capturado para as variáveis `usuario` e `senha`!\n",
    "\n",
    "> Mas ao rodar o programa noutro computador (na empresa) com Python2, veja o que acontece:\n",
    "\n",
    "#### Python2"
   ]
  },
  {
   "cell_type": "code",
   "execution_count": 4,
   "metadata": {
    "scrolled": false
   },
   "outputs": [
    {
     "name": "stdout",
     "output_type": "stream",
     "text": [
      "login: praxedes\n"
     ]
    },
    {
     "ename": "NameError",
     "evalue": "name 'praxedes' is not defined",
     "output_type": "error",
     "traceback": [
      "\u001b[1;31m---------------------------------------------------------------------------\u001b[0m",
      "\u001b[1;31mNameError\u001b[0m                                 Traceback (most recent call last)",
      "\u001b[1;32m<ipython-input-4-3a9d953752b2>\u001b[0m in \u001b[0;36m<module>\u001b[1;34m()\u001b[0m\n\u001b[0;32m      1\u001b[0m \u001b[1;31m# Rodando no Python2\u001b[0m\u001b[1;33m\u001b[0m\u001b[1;33m\u001b[0m\u001b[0m\n\u001b[1;32m----> 2\u001b[1;33m \u001b[0musuario\u001b[0m \u001b[1;33m=\u001b[0m \u001b[0minput\u001b[0m\u001b[1;33m(\u001b[0m\u001b[1;34m'login: '\u001b[0m\u001b[1;33m)\u001b[0m\u001b[1;33m\u001b[0m\u001b[0m\n\u001b[0m\u001b[0;32m      3\u001b[0m \u001b[0msenha\u001b[0m   \u001b[1;33m=\u001b[0m \u001b[0minput\u001b[0m\u001b[1;33m(\u001b[0m\u001b[1;34m'senha: '\u001b[0m\u001b[1;33m)\u001b[0m\u001b[1;33m\u001b[0m\u001b[0m\n\u001b[0;32m      4\u001b[0m \u001b[1;32mprint\u001b[0m\u001b[1;33m(\u001b[0m\u001b[1;34m'Olá, '\u001b[0m \u001b[1;33m+\u001b[0m \u001b[0musuario\u001b[0m\u001b[1;33m)\u001b[0m     \u001b[1;31m# print ('Olá, ' + usuario)     ou    print 'Olá, ' + usuario\u001b[0m\u001b[1;33m\u001b[0m\u001b[0m\n",
      "\u001b[1;32mE:\\python\\python-2.7.15\\lib\\site-packages\\ipykernel\\ipkernel.pyc\u001b[0m in \u001b[0;36m<lambda>\u001b[1;34m(prompt)\u001b[0m\n\u001b[0;32m    174\u001b[0m             \u001b[0mself\u001b[0m\u001b[1;33m.\u001b[0m\u001b[0m_sys_eval_input\u001b[0m \u001b[1;33m=\u001b[0m \u001b[0mbuiltin_mod\u001b[0m\u001b[1;33m.\u001b[0m\u001b[0minput\u001b[0m\u001b[1;33m\u001b[0m\u001b[0m\n\u001b[0;32m    175\u001b[0m             \u001b[0mbuiltin_mod\u001b[0m\u001b[1;33m.\u001b[0m\u001b[0mraw_input\u001b[0m \u001b[1;33m=\u001b[0m \u001b[0mself\u001b[0m\u001b[1;33m.\u001b[0m\u001b[0mraw_input\u001b[0m\u001b[1;33m\u001b[0m\u001b[0m\n\u001b[1;32m--> 176\u001b[1;33m             \u001b[0mbuiltin_mod\u001b[0m\u001b[1;33m.\u001b[0m\u001b[0minput\u001b[0m \u001b[1;33m=\u001b[0m \u001b[1;32mlambda\u001b[0m \u001b[0mprompt\u001b[0m\u001b[1;33m=\u001b[0m\u001b[1;34m''\u001b[0m\u001b[1;33m:\u001b[0m \u001b[0meval\u001b[0m\u001b[1;33m(\u001b[0m\u001b[0mself\u001b[0m\u001b[1;33m.\u001b[0m\u001b[0mraw_input\u001b[0m\u001b[1;33m(\u001b[0m\u001b[0mprompt\u001b[0m\u001b[1;33m)\u001b[0m\u001b[1;33m)\u001b[0m\u001b[1;33m\u001b[0m\u001b[0m\n\u001b[0m\u001b[0;32m    177\u001b[0m         \u001b[0mself\u001b[0m\u001b[1;33m.\u001b[0m\u001b[0m_save_getpass\u001b[0m \u001b[1;33m=\u001b[0m \u001b[0mgetpass\u001b[0m\u001b[1;33m.\u001b[0m\u001b[0mgetpass\u001b[0m\u001b[1;33m\u001b[0m\u001b[0m\n\u001b[0;32m    178\u001b[0m         \u001b[0mgetpass\u001b[0m\u001b[1;33m.\u001b[0m\u001b[0mgetpass\u001b[0m \u001b[1;33m=\u001b[0m \u001b[0mself\u001b[0m\u001b[1;33m.\u001b[0m\u001b[0mgetpass\u001b[0m\u001b[1;33m\u001b[0m\u001b[0m\n",
      "\u001b[1;32mE:\\python\\python-2.7.15\\lib\\site-packages\\ipykernel\\ipkernel.pyc\u001b[0m in \u001b[0;36m<module>\u001b[1;34m()\u001b[0m\n",
      "\u001b[1;31mNameError\u001b[0m: name 'praxedes' is not defined"
     ]
    }
   ],
   "source": [
    "# Rodando no Python2\n",
    "usuario = input('login: ')\n",
    "senha   = input('senha: ')\n",
    "print('Olá ' + usuario + '!')     # print 'Olá ' + usuario + '!'"
   ]
  },
  {
   "cell_type": "markdown",
   "metadata": {},
   "source": [
    "<font color=red>Erro de Nome!</font> Variável `'praxedes'` não está definida - como assim? Variável `'praxedes'`?!?!?! \n",
    "```python\n",
    "NameError                                 Traceback (most recent call last)\n",
    "<ipython-input-1-4447c7e85205> in <module>()\n",
    "----> 1 usuario = input('login: ')\n",
    "...\n",
    "--> 176             builtin_mod.input = lambda prompt='': eval(self.raw_input(prompt))\n",
    "...\n",
    "NameError: name 'praxedes' is not defined```\n",
    "\n",
    "<u>Explicando</u>: esta exceção indica que se tentou usar uma variável não definida, nesse caso, `'praxedes'`. Mas 'praxedes' era pra ser uma _string_ com o nome do usuáro no login da aplicação, não uma variável. Porque o , então por que isso acontece?\n",
    "\n",
    "A resposta é que a função `input()`, no Python2, não transforma a entrada do usuário em _string_, mas tenta avaliar a informação fornecida pelo usuário como uma expressão:"
   ]
  },
  {
   "cell_type": "code",
   "execution_count": 5,
   "metadata": {},
   "outputs": [
    {
     "name": "stdout",
     "output_type": "stream",
     "text": [
      "Digite uma expressao aritmetica: 2+2\n",
      "4\n"
     ]
    }
   ],
   "source": [
    "entrada = input(\"Digite uma expressao aritmetica: \")\n",
    "print entrada"
   ]
  },
  {
   "cell_type": "code",
   "execution_count": 7,
   "metadata": {},
   "outputs": [
    {
     "name": "stdout",
     "output_type": "stream",
     "text": [
      "novo teste\n",
      "novo teste\n"
     ]
    }
   ],
   "source": [
    "entrada = raw_input()\n",
    "print entrada"
   ]
  },
  {
   "cell_type": "markdown",
   "metadata": {},
   "source": [
    "Antes de usar `raw_input()` é bom exibir uma mensagem para o usuário dizendo o que ele deve digitar... Esta mensagem informa ao usuário que tipo de informação que o programa está esperando (_prompt_):"
   ]
  },
  {
   "cell_type": "code",
   "execution_count": 1,
   "metadata": {
    "scrolled": true
   },
   "outputs": [
    {
     "ename": "NameError",
     "evalue": "name 'raw_input' is not defined",
     "output_type": "error",
     "traceback": [
      "\u001b[1;31m---------------------------------------------------------------------------\u001b[0m",
      "\u001b[1;31mNameError\u001b[0m                                 Traceback (most recent call last)",
      "\u001b[1;32m<ipython-input-1-fde3a10a397e>\u001b[0m in \u001b[0;36m<module>\u001b[1;34m\u001b[0m\n\u001b[1;32m----> 1\u001b[1;33m \u001b[0mnome\u001b[0m \u001b[1;33m=\u001b[0m \u001b[0mraw_input\u001b[0m\u001b[1;33m(\u001b[0m\u001b[1;34m\"Qual é o seu nome? \"\u001b[0m\u001b[1;33m)\u001b[0m\u001b[1;33m\u001b[0m\u001b[1;33m\u001b[0m\u001b[0m\n\u001b[0m",
      "\u001b[1;31mNameError\u001b[0m: name 'raw_input' is not defined"
     ]
    }
   ],
   "source": [
    "nome = raw_input(\"Qual é o seu nome? \")\n",
    "print nome"
   ]
  },
  {
   "cell_type": "markdown",
   "metadata": {},
   "source": [
    "Se a entrada esperada for um valor numérico inteiro, então podemos usar a função `input()`.\n",
    "\n",
    "A função `input()` do Python2 lê dados em arquivos e também lê dados informados pelo usuário via teclado. Se a informação a ser entrada pelo usuário for uma _string_ então a informação deve ser digitada com os delimitadores de _string_ (par de aspas ou apostrofes), mas se a informação for numérica então nenhum delimitador será necessário."
   ]
  },
  {
   "cell_type": "code",
   "execution_count": 2,
   "metadata": {},
   "outputs": [
    {
     "name": "stdout",
     "output_type": "stream",
     "text": [
      "Digite o seu sobrenome: fleury\n",
      "Digite a sua idade: 33\n",
      "fleury tem 33 anos.\n"
     ]
    }
   ],
   "source": [
    "nome = input('Digite o seu sobrenome: ')\n",
    "idade = input('Digite a sua idade: ')\n",
    "print(nome, 'tem', idade, 'anos.')"
   ]
  },
  {
   "cell_type": "markdown",
   "metadata": {},
   "source": [
    "Atente-se para o fato de que dados do tipo _string_ devem ser delimitadas por aspas (\") ou apóstrofos (') na entrada de dados com a função `input()` no Python2."
   ]
  },
  {
   "cell_type": "code",
   "execution_count": 3,
   "metadata": {},
   "outputs": [
    {
     "name": "stdout",
     "output_type": "stream",
     "text": [
      "Velocidade de percurso (km/h): 80\n"
     ]
    }
   ],
   "source": [
    "pergunta = \"Velocidade de percurso (km/h): \"\n",
    "velocidade = input(pergunta)"
   ]
  },
  {
   "cell_type": "markdown",
   "metadata": {},
   "source": [
    "Se o usuário digitar uma _string_ contendo dígitos, ela será convertida num inteiro/real e atribuída à variável velocidade. Infelizmente, se o usuário digitar um caractere que não seja um dígito numérico, o programa vai parar:"
   ]
  },
  {
   "cell_type": "code",
   "execution_count": 4,
   "metadata": {},
   "outputs": [
    {
     "name": "stdout",
     "output_type": "stream",
     "text": [
      "Velocidade de percurso (km/h): 80 km/h\n"
     ]
    }
   ],
   "source": [
    "velocidade = input(pergunta)"
   ]
  },
  {
   "cell_type": "markdown",
   "metadata": {},
   "source": [
    "Para evitar esse tipo de erro, geralmente usa-se `raw_input()` para receber uma _string_ e, então, usar funções de conversão para outros tipos de dados: `int(), float(), long()`."
   ]
  },
  {
   "cell_type": "markdown",
   "metadata": {},
   "source": [
    "A função `input()` no Python2 não transforma a entrada do usuário em _string_, mas tenta avaliar a informação fornecida pelo usuário, como se fosse um comando ao interpretador:"
   ]
  },
  {
   "cell_type": "code",
   "execution_count": 13,
   "metadata": {},
   "outputs": [],
   "source": [
    "# rodando no Python2\n",
    "import sys\n",
    "versao = sys.version                # versão do interpretador (kernel) em uso\n",
    "if versao[0] == '2': help(input)"
   ]
  },
  {
   "cell_type": "code",
   "execution_count": 5,
   "metadata": {},
   "outputs": [
    {
     "name": "stdout",
     "output_type": "stream",
     "text": [
      "Digite uma expressao aritmética: 2+3\n",
      "2+3\n",
      "5\n"
     ]
    }
   ],
   "source": [
    "expressao = input('Digite uma expressao aritmética: ')\n",
    "print(expressao)\n",
    "print(eval(expressao))"
   ]
  },
  {
   "cell_type": "markdown",
   "metadata": {},
   "source": [
    "Então quando tentamos mandar o usuário `'praxedes'` para a função `input()`, ela trata a informação como se fosse uma variável. Como essa variável não foi declarada, então recebemos o erro <font color=red>NameError</font>. Atente-se para o fato de que _strings_ devem ser delimitadas por aspas (\") ou apóstrofos (') na entrada de dados com a função `input()` no Python2.\n",
    "\n",
    "Por conta do pouco uso desse comportamento, ele foi removido no Python3.\n",
    "No Python 2, em vez da função `input()`, utilizamos a função `raw_input()` para pegar a entrada do usuário como _string_ e não como comando ou expressão:"
   ]
  },
  {
   "cell_type": "code",
   "execution_count": 1,
   "metadata": {},
   "outputs": [
    {
     "name": "stdout",
     "output_type": "stream",
     "text": [
      "login: praxedes\n",
      "senha: orand\n",
      "Olá, praxedes\n"
     ]
    }
   ],
   "source": [
    "# Rodando no Python2\n",
    "usuario = raw_input('login: ')\n",
    "senha   = raw_input('senha: ')\n",
    "print('Olá ' + usuario + '!')      # print 'Olá ' + usuario + '!' "
   ]
  },
  {
   "cell_type": "markdown",
   "metadata": {},
   "source": [
    "Como você deve ter percebido, há uma inconsistência na entrada de dados via teclado: se quisermos capturar uma entrada como _string_, não há um código único que simplesmente satisfaça ambas as versões do Python, 2.x e 3.x.\n",
    "Uma forma de resolver isso é checando a versão do Python através do atributo `version_info.major` do módulo `sys`:"
   ]
  },
  {
   "cell_type": "code",
   "execution_count": 6,
   "metadata": {},
   "outputs": [
    {
     "name": "stdout",
     "output_type": "stream",
     "text": [
      "login: praxedes\n",
      "Olá praxedes!\n"
     ]
    }
   ],
   "source": [
    "import sys\n",
    "if sys.version_info.major == 2:\n",
    "    usuario = raw_input('login: ')\n",
    "elif sys.version_info.major == 3:\n",
    "    usuario = input('login: ')\n",
    "print('Olá ' + usuario + '!')"
   ]
  },
  {
   "cell_type": "markdown",
   "metadata": {},
   "source": [
    "Fonte: https://blog.alura.com.br/a-diferenca-das-funcoes-input-e-raw_input-no-python/"
   ]
  },
  {
   "cell_type": "markdown",
   "metadata": {},
   "source": [
    "<p style=\"text-align:right;\"><a href=\"#topo\">Volta ao topo</a>"
   ]
  },
  {
   "cell_type": "markdown",
   "metadata": {},
   "source": [
    "<a id=\"10.\"></a>\n",
    "## 10.\tControle de Fluxo de Execução\n",
    "\n",
    "### Condicional\n",
    "Para poder escrever programas úteis, quase sempre precisamos de uma forma de verificar condições e mudar o comportamento do programa de acordo com elas. As instruções condicionais oferecem essa habilidade. A forma mais simples é a instrução `if` (se):\n",
    "\n",
    "```python\n",
    "   if x > 0:\n",
    "     print(x, \"é positivo\")\n",
    "```\n",
    "A expressão booleana depois da instrução `if` é a condição a ser verificada. Se ela for verdadeira (`True`), então a(s) instrução(ões) indentada(s) é(são) executada(s). Se for falsa (`False`), nada acontece, e o fluxo de execução segue com o comando após o `if`."
   ]
  },
  {
   "cell_type": "markdown",
   "metadata": {},
   "source": [
    "As instruções compostas (mais de um comando = bloco de comandos) em Python são constituídas de um cabeçalho e de um conjunto de comandos separados por um caracter ':' como mostrado a seguir:\n",
    "\n",
    "> INSTRUÇÃO-COMPOSTA:  \n",
    "> > PRIMEIRO COMANDO  \n",
    "> > ...  \n",
    "> > ULTIMO COMANDO  \n",
    "COMANDO APÓS INSTRUÇÃO-COMPOSTA  \n",
    "\n",
    "A primeira instrução não indentada marca o final do bloco, ou seja, o bloco de comandos é indicado apenas pela indentação de seus comandos, e finalizado pelo primeiro comando não indentado.\n",
    "\n",
    "Não existe limite para a quantidade de instruções que podem aparecer aninhadas numa instrução `if`. Ocasionalmente, é útil ter uma parte do programa sem nenhuma instrução (apenas reservando espaço para um trecho de código que você ainda vai escrever!). Nesse caso, você pode usar o comando `pass`, que indica ao interpretador: “passe por aqui sem fazer nada” ou \"siga em frente...\".\n",
    "```python\n",
    "if a < b:\n",
    "   pass\n",
    "print a, b\n",
    "...```"
   ]
  },
  {
   "cell_type": "markdown",
   "metadata": {},
   "source": [
    "### Estruturas Alternativas\n",
    "\n",
    "#### Simples\n",
    "```python\n",
    "if condição:\n",
    "   comando(s)\t\t\t# executados se condição é True\n",
    "```\n",
    "#### Composta\n",
    "```python\n",
    "if condição:\n",
    "   comando(s)\t\t\t# executados se condição é True\n",
    "else:\n",
    "   comando(s)\t\t\t# executados se condição é False\n",
    "```"
   ]
  },
  {
   "cell_type": "markdown",
   "metadata": {},
   "source": [
    "#### Encadeada\n",
    "```python\n",
    "if condição1:\n",
    "   comando(s)\t\t\t# executados se condição1 é True\n",
    "elif condição2:\n",
    "   comando(s)\t\t\t# executados se condição2 é True\n",
    "...\n",
    "elif condiçãoN:\n",
    "   comando(s)\t\t\t# executados se condiçãoN é False\n",
    "else:\n",
    "   comando(s)\t\t\t# executados se todas as condição são False\n",
    "```\n",
    "\n",
    "Exemplo:\n",
    "```python\n",
    "if a < b:\n",
    "  print(a, \" é menor que\", b)\n",
    "elif a > b:\n",
    "  print(a, \" é maior que\", b)\n",
    "else:\n",
    "  print(a, \" e\", b, \" são iguais\")\n",
    "```"
   ]
  },
  {
   "cell_type": "code",
   "execution_count": 16,
   "metadata": {},
   "outputs": [
    {
     "name": "stdout",
     "output_type": "stream",
     "text": [
      "Digite o lado A: 45\n",
      "Digite o lado B: 2\n",
      "Digite o lado C: 2\n",
      "Os valores que você colocou não correspondem a um triângulo.\n"
     ]
    }
   ],
   "source": [
    "a = float(input('Digite o lado A: '))\n",
    "b = float(input('Digite o lado B: '))\n",
    "c = float(input('Digite o lado C: '))\n",
    "\n",
    "if (a < b + c and b < a + c and c < a + b):\n",
    "    print('Seu triângulo possui os lados',a, b, c)\n",
    "else:\n",
    "\n",
    "    print('Os valores que você colocou não correspondem a um triângulo.')"
   ]
  },
  {
   "cell_type": "markdown",
   "metadata": {},
   "source": [
    "A expressão `elif` é uma abreviação de `else if` (“senão se”). No Python não existe uma instrução do tipo escolha/caso, como `switch/case/default` da ling. C/C++, mas pode-se usar:\n",
    "```python\n",
    "if escolha == 'A':\n",
    "  funcao_A()\n",
    "elif escolha == 'B':\n",
    "  funcao_B()\n",
    "elif escolha == 'C':\n",
    "  funcao_C()\n",
    "else:\n",
    "  print(\"Escolha não disponível.\")\n",
    "```"
   ]
  },
  {
   "cell_type": "markdown",
   "metadata": {},
   "source": [
    "### Estruturas de Repetição\n",
    "\n",
    "Em geral, as instruções são executadas sequencialmente, uma a uma, da primeira instrução à última. Nas situações em que você precise executar um bloco de comandos várias vezes, as linguagens de programação fornecem algumas estruturas de controle do fluxo de execução que permitem lógicas mais complexas.\n",
    "\n",
    "Uma dessas estrutura de repetição apresenta a verificação da condição de manutenção de repetição no início da estrutura, conhecida por estrutura `while` (enquanto). \n",
    "\n",
    "Nesse caso o bloco de comandos (podendo ter um ou mais comandos) a ser repetido é colocado de forma indentada após o caractere ':' que aparece após a condição. O bloco de comandos pode ser executado nenhuma ou várias vezes, sendo repetido enquanto a condição for verdadeira (`True`).\n",
    "```python\n",
    "Inicialização\n",
    "while condição:       # enquanto a condição for verdadeira bloco de comando(s) será executado\n",
    "   comando(s)\n",
    "```\n",
    "No Python, a estrutura `while` executa repetidamente, um ou mais comandos indentados, enquanto a condição for avaliada como verdadeira. A condição pode ser qualquer expressão (obs.: a constante booelana `True` é qualquer valor diferente de zero).  \n",
    "Exemplo:"
   ]
  },
  {
   "cell_type": "code",
   "execution_count": 3,
   "metadata": {},
   "outputs": [
    {
     "name": "stdout",
     "output_type": "stream",
     "text": [
      "P   y   t   h   o   n   \b\b\n"
     ]
    }
   ],
   "source": [
    "curso = 'Python'\n",
    "indice = 0\n",
    "while indice < len(curso):\n",
    "    letra = curso[indice]\n",
    "    print(letra, end='   ')\n",
    "    indice = indice + 1\n",
    "print(2*'\\b')"
   ]
  },
  {
   "cell_type": "code",
   "execution_count": 26,
   "metadata": {},
   "outputs": [
    {
     "name": "stdout",
     "output_type": "stream",
     "text": [
      "n   o   h   t   y   P   "
     ]
    }
   ],
   "source": [
    "curso = 'Python'\n",
    "indice = len(curso)-1\n",
    "while indice >= 0:\n",
    "    letra = curso[indice]\n",
    "    print(letra, end='   ')\n",
    "    indice = indice - 1"
   ]
  },
  {
   "cell_type": "markdown",
   "metadata": {},
   "source": [
    "O uso de um índice para percorrer um conjunto de valores é uma tarefa muito comum em programação, de modo que a linguagem Python oferece uma sintaxe alternativa simplificada - a estrutura de repetição for:"
   ]
  },
  {
   "cell_type": "code",
   "execution_count": 31,
   "metadata": {},
   "outputs": [
    {
     "name": "stdout",
     "output_type": "stream",
     "text": [
      "nohtyP\n",
      "n   o   h   t   y   P   \b\b\n"
     ]
    }
   ],
   "source": [
    "curso = 'Python'\n",
    "print(curso[::-1])\n",
    "\n",
    "reverso = curso[::-1]\n",
    "for letra in reverso:        # lê-se: para cada 'letra' em 'curso'\n",
    "    print(letra, end='   ')\n",
    "print(2*'\\b')"
   ]
  },
  {
   "cell_type": "markdown",
   "metadata": {},
   "source": [
    "<p style=\"text-align:right;\"><a href=\"#topo\">Volta ao topo</a>"
   ]
  },
  {
   "cell_type": "markdown",
   "metadata": {},
   "source": [
    "<a id=\"11.\"></a>\n",
    "## 11.\tFunções Incorporadas\n",
    "\n",
    "### Definição\n",
    "O interpretador Python possui várias funções incorporadas que estão sempre disponíveis – não dependem de importações (carga prévia). Elas estão listadas em ordem alfabética a seguir:\n",
    "\n",
    "<style type=\"text/css\">\n",
    ".tg  {border-collapse:collapse;border-spacing:0;}\n",
    ".tg td{font-family:Arial, sans-serif;font-size:14px;padding:10px 5px;border-style:solid;border-width:1px;overflow:hidden;word-break:normal;border-color:black;}\n",
    ".tg th{font-family:Arial, sans-serif;font-size:14px;font-weight:normal;padding:10px 5px;border-style:solid;border-width:1px;overflow:hidden;word-break:normal;border-color:black;}\n",
    ".tg .tg-c3ow{border-color:inherit;text-align:center;vertical-align:top}\n",
    ".tg .tg-uys7{border-color:inherit;text-align:center}\n",
    ".tg .tg-p8sp{font-size:20px;border-color:inherit;text-align:center;vertical-align:top}\n",
    "</style>\n",
    "<table class=\"tg\">\n",
    "  <tr>\n",
    "    <th class=\"tg-p8sp\" colspan=\"5\">Funções Incorporadas</th>\n",
    "  </tr>\n",
    "  <tr>\n",
    "    <td class=\"tg-uys7\"><br>&nbsp;&nbsp;abs()<br>&nbsp;&nbsp;</td>\n",
    "    <td class=\"tg-uys7\"><br>&nbsp;&nbsp;divmod()<br>&nbsp;&nbsp;</td>\n",
    "    <td class=\"tg-uys7\"><br>&nbsp;&nbsp;input()<br>&nbsp;&nbsp;</td>\n",
    "    <td class=\"tg-uys7\"><br>&nbsp;&nbsp;open()<br>&nbsp;&nbsp;</td>\n",
    "    <td class=\"tg-uys7\"><br>&nbsp;&nbsp;staticmethod()<br>&nbsp;&nbsp;</td>\n",
    "  </tr>\n",
    "  <tr>\n",
    "    <td class=\"tg-uys7\"><br>&nbsp;&nbsp;all()<br>&nbsp;&nbsp;</td>\n",
    "      <td class=\"tg-uys7\"><br>&nbsp;&nbsp;<a href=\"#enumerate\">enumerate()</a><br>&nbsp;&nbsp;</td>\n",
    "    <td class=\"tg-uys7\"><br>&nbsp;&nbsp;int()<br>&nbsp;&nbsp;</td>\n",
    "    <td class=\"tg-uys7\"><br>&nbsp;&nbsp;ord()<br>&nbsp;&nbsp;</td>\n",
    "    <td class=\"tg-uys7\"><br>&nbsp;&nbsp;str()<br>&nbsp;&nbsp;</td>\n",
    "  </tr>\n",
    "  <tr>\n",
    "    <td class=\"tg-uys7\"><br>&nbsp;&nbsp;any()<br>&nbsp;&nbsp;</td>\n",
    "    <td class=\"tg-uys7\"><br>&nbsp;&nbsp;eval()<br>&nbsp;&nbsp;</td>\n",
    "    <td class=\"tg-uys7\"><br>&nbsp;&nbsp;isinstance()<br>&nbsp;&nbsp;</td>\n",
    "    <td class=\"tg-uys7\"><br>&nbsp;&nbsp;pow()<br>&nbsp;&nbsp;</td>\n",
    "    <td class=\"tg-uys7\"><br>&nbsp;&nbsp;sum()<br>&nbsp;&nbsp;</td>\n",
    "  </tr>\n",
    "  <tr>\n",
    "    <td class=\"tg-uys7\"><br>&nbsp;&nbsp;basestring()<br>&nbsp;&nbsp;</td>\n",
    "    <td class=\"tg-uys7\"><br>&nbsp;&nbsp;execfile()<br>&nbsp;&nbsp;</td>\n",
    "    <td class=\"tg-uys7\"><br>&nbsp;&nbsp;issubclass()<br>&nbsp;&nbsp;</td>\n",
    "    <td class=\"tg-uys7\"><br>&nbsp;&nbsp;print()<br>&nbsp;&nbsp;</td>\n",
    "    <td class=\"tg-uys7\"><br>&nbsp;&nbsp;super()<br>&nbsp;&nbsp;</td>\n",
    "  </tr>\n",
    "  <tr>\n",
    "    <td class=\"tg-uys7\"><br>&nbsp;&nbsp;bin()<br>&nbsp;&nbsp;</td>\n",
    "    <td class=\"tg-uys7\"><br>&nbsp;&nbsp;file()<br>&nbsp;&nbsp;</td>\n",
    "    <td class=\"tg-uys7\"><br>&nbsp;&nbsp;iter()<br>&nbsp;&nbsp;</td>\n",
    "    <td class=\"tg-uys7\"><br>&nbsp;&nbsp;property()<br>&nbsp;&nbsp;</td>\n",
    "    <td class=\"tg-uys7\"><br>&nbsp;&nbsp;tuple()<br>&nbsp;&nbsp;</td>\n",
    "  </tr>\n",
    "  <tr>\n",
    "    <td class=\"tg-uys7\"><br>&nbsp;&nbsp;bool()<br>&nbsp;&nbsp;</td>\n",
    "    <td class=\"tg-uys7\"><br>&nbsp;&nbsp;filter()<br>&nbsp;&nbsp;</td>\n",
    "    <td class=\"tg-uys7\"><br>&nbsp;&nbsp;len()<br>&nbsp;&nbsp;</td>\n",
    "    <td class=\"tg-uys7\"><br>&nbsp;&nbsp;range()<br>&nbsp;&nbsp;</td>\n",
    "    <td class=\"tg-uys7\"><br>&nbsp;&nbsp;type()<br>&nbsp;&nbsp;</td>\n",
    "  </tr>\n",
    "  <tr>\n",
    "    <td class=\"tg-uys7\"><br>&nbsp;&nbsp;bytearray()<br>&nbsp;&nbsp;</td>\n",
    "    <td class=\"tg-uys7\"><br>&nbsp;&nbsp;float()<br>&nbsp;&nbsp;</td>\n",
    "    <td class=\"tg-uys7\"><br>&nbsp;&nbsp;list()<br>&nbsp;&nbsp;</td>\n",
    "    <td class=\"tg-uys7\"><br>&nbsp;&nbsp;raw_input()<br>&nbsp;&nbsp;</td>\n",
    "    <td class=\"tg-uys7\"><br>&nbsp;&nbsp;unichr()<br>&nbsp;&nbsp;</td>\n",
    "  </tr>\n",
    "  <tr>\n",
    "    <td class=\"tg-uys7\"><br>&nbsp;&nbsp;callable()<br>&nbsp;&nbsp;</td>\n",
    "    <td class=\"tg-uys7\"><br>&nbsp;&nbsp;format()<br>&nbsp;&nbsp;</td>\n",
    "    <td class=\"tg-uys7\"><br>&nbsp;&nbsp;locals()<br>&nbsp;&nbsp;</td>\n",
    "    <td class=\"tg-uys7\"><br>&nbsp;&nbsp;reduce()<br>&nbsp;&nbsp;</td>\n",
    "    <td class=\"tg-uys7\"><br>&nbsp;&nbsp;unicode()<br>&nbsp;&nbsp;</td>\n",
    "  </tr>\n",
    "  <tr>\n",
    "    <td class=\"tg-uys7\"><br>&nbsp;&nbsp;chr()<br>&nbsp;&nbsp;</td>\n",
    "    <td class=\"tg-uys7\"><br>&nbsp;&nbsp;frozenset()<br>&nbsp;&nbsp;</td>\n",
    "    <td class=\"tg-uys7\"><br>&nbsp;&nbsp;long()<br>&nbsp;&nbsp;</td>\n",
    "    <td class=\"tg-uys7\"><br>&nbsp;&nbsp;reload()<br>&nbsp;&nbsp;</td>\n",
    "    <td class=\"tg-uys7\"><br>&nbsp;&nbsp;vars()<br>&nbsp;&nbsp;</td>\n",
    "  </tr>\n",
    "  <tr>\n",
    "    <td class=\"tg-uys7\"><br>&nbsp;&nbsp;classmethod()<br>&nbsp;&nbsp;</td>\n",
    "    <td class=\"tg-uys7\"><br>&nbsp;&nbsp;getattr()<br>&nbsp;&nbsp;</td>\n",
    "    <td class=\"tg-uys7\"><br>&nbsp;&nbsp;map()<br>&nbsp;&nbsp;</td>\n",
    "    <td class=\"tg-uys7\"><br>&nbsp;&nbsp;repr()<br>&nbsp;&nbsp;</td>\n",
    "    <td class=\"tg-uys7\"><br>&nbsp;&nbsp;xrange()<br>&nbsp;&nbsp;</td>\n",
    "  </tr>\n",
    "  <tr>\n",
    "    <td class=\"tg-uys7\"><br>&nbsp;&nbsp;cmp()<br>&nbsp;&nbsp;</td>\n",
    "    <td class=\"tg-uys7\"><br>&nbsp;&nbsp;globals()<br>&nbsp;&nbsp;</td>\n",
    "    <td class=\"tg-uys7\"><br>&nbsp;&nbsp;max()<br>&nbsp;&nbsp;</td>\n",
    "    <td class=\"tg-uys7\"><br>&nbsp;&nbsp;reversed()<br>&nbsp;&nbsp;</td>\n",
    "      <td class=\"tg-uys7\"><br>&nbsp;&nbsp;<a href=\"#zip\">zip()</a><br>&nbsp;&nbsp;</td>\n",
    "  </tr>\n",
    "  <tr>\n",
    "    <td class=\"tg-uys7\"><br>&nbsp;&nbsp;compile()<br>&nbsp;&nbsp;</td>\n",
    "    <td class=\"tg-uys7\"><br>&nbsp;&nbsp;hasattr()<br>&nbsp;&nbsp;</td>\n",
    "    <td class=\"tg-uys7\"><br>&nbsp;&nbsp;memoryview()<br>&nbsp;&nbsp;</td>\n",
    "    <td class=\"tg-uys7\"><br>&nbsp;&nbsp;round()<br>&nbsp;&nbsp;</td>\n",
    "    <td class=\"tg-uys7\"><br>&nbsp;&nbsp;__import__()<br>&nbsp;&nbsp;</td>\n",
    "  </tr>\n",
    "  <tr>\n",
    "    <td class=\"tg-uys7\"><br>&nbsp;&nbsp;complex()<br>&nbsp;&nbsp;</td>\n",
    "    <td class=\"tg-uys7\"><br>&nbsp;&nbsp;hash()<br>&nbsp;&nbsp;</td>\n",
    "    <td class=\"tg-uys7\"><br>&nbsp;&nbsp;min()<br>&nbsp;&nbsp;</td>\n",
    "    <td class=\"tg-uys7\"><br>&nbsp;&nbsp;set()<br>&nbsp;&nbsp;</td>\n",
    "    <td class=\"tg-uys7\"></td>\n",
    "  </tr>\n",
    "  <tr>\n",
    "    <td class=\"tg-uys7\"><br>&nbsp;&nbsp;delattr()<br>&nbsp;&nbsp;</td>\n",
    "    <td class=\"tg-uys7\"><br>&nbsp;&nbsp;help()<br>&nbsp;&nbsp;</td>\n",
    "    <td class=\"tg-uys7\"><br>&nbsp;&nbsp;next()<br>&nbsp;&nbsp;</td>\n",
    "    <td class=\"tg-uys7\"><br>&nbsp;&nbsp;setattr()<br>&nbsp;&nbsp;</td>\n",
    "    <td class=\"tg-uys7\"></td>\n",
    "  </tr>\n",
    "  <tr>\n",
    "    <td class=\"tg-c3ow\"><br>&nbsp;&nbsp;dict()<br>&nbsp;&nbsp;</td>\n",
    "    <td class=\"tg-c3ow\"><br>&nbsp;&nbsp;hex()<br>&nbsp;&nbsp;</td>\n",
    "    <td class=\"tg-c3ow\"><br>&nbsp;&nbsp;object()<br>&nbsp;&nbsp;</td>\n",
    "    <td class=\"tg-c3ow\"><br>&nbsp;&nbsp;slice()<br>&nbsp;&nbsp;</td>\n",
    "    <td class=\"tg-c3ow\"></td>\n",
    "  </tr>\n",
    "  <tr>\n",
    "    <td class=\"tg-c3ow\"><br>&nbsp;&nbsp;dir()<br>&nbsp;&nbsp;</td>\n",
    "    <td class=\"tg-c3ow\"><br>&nbsp;&nbsp;id()<br>&nbsp;&nbsp;</td>\n",
    "    <td class=\"tg-c3ow\"><br>&nbsp;&nbsp;oct()<br>&nbsp;&nbsp;</td>\n",
    "    <td class=\"tg-c3ow\"><br>&nbsp;&nbsp;sorted()<br>&nbsp;&nbsp;</td>\n",
    "    <td class=\"tg-c3ow\"></td>\n",
    "  </tr>\n",
    "</table>"
   ]
  },
  {
   "cell_type": "markdown",
   "metadata": {},
   "source": [
    "### Funções Interessantes"
   ]
  },
  {
   "cell_type": "markdown",
   "metadata": {},
   "source": [
    "<a id=\"#enumerate\"></a>\n",
    "#### <tt style=\"color:#c00000; font-size:18px\">enumerate(iteravel, inicio=0)</tt>\n",
    "Retorna um objeto do tipo enumerado. O parâmetro `iteravel` pode ser uma sequência, um iterador ou algum outro objeto que suporte iteração. O método `next()` do iterador retornado por `enumerate()` retorna uma tupla contendo uma contagem a partir do início (parâmetro `inicio`, cujo valor padrão é 0) e os valores obtidos da iteração na sequência `iteravel`:"
   ]
  },
  {
   "cell_type": "code",
   "execution_count": 3,
   "metadata": {},
   "outputs": [
    {
     "name": "stdout",
     "output_type": "stream",
     "text": [
      "[(0, 'Primavera'), (1, 'Verao'), (2, 'Outono'), (3, 'Inverno')]\n",
      "[(5, 'Primavera'), (6, 'Verao'), (7, 'Outono'), (8, 'Inverno')]\n"
     ]
    }
   ],
   "source": [
    "estacoes = ['Primavera', 'Verao', 'Outono', 'Inverno']\n",
    "print(list(enumerate(estacoes)))\n",
    "print(list(enumerate(estacoes,5)))"
   ]
  },
  {
   "cell_type": "markdown",
   "metadata": {},
   "source": [
    "Equivalente à seguinte função do usuário:\n",
    "```python\n",
    "def enumerate(iteravel, inicio=0):\n",
    "    n = inicio\n",
    "    for elem in iteravel:\n",
    "        yield n, elem\n",
    "        n += 1\n",
    "```\n",
    "Outro exemplo de uso da função incorporada `enumerate()`:"
   ]
  },
  {
   "cell_type": "code",
   "execution_count": 17,
   "metadata": {},
   "outputs": [
    {
     "name": "stdout",
     "output_type": "stream",
     "text": [
      "Fruta 10: manga\n",
      "Fruta 11: banana\n",
      "Fruta 12: laranja\n",
      "Fruta 13: uva\n",
      "Fruta 14: ata\n",
      "Fruta 15: abacaxi\n"
     ]
    }
   ],
   "source": [
    "frutas = ('manga', 'banana', 'laranja', 'uva', 'ata', 'abacaxi')\n",
    "for cont, fruta in enumerate(frutas,10):\n",
    "    print(\"Fruta %d: %s\" % (cont,fruta))"
   ]
  },
  {
   "cell_type": "markdown",
   "metadata": {},
   "source": [
    "**Iteração**: _substantivo feminino_. \n",
    "1. _ato de iterar; repetição_. \n",
    "2. ÁLGEBRA: _processo de resolução de uma equação mediante operações em que sucessivamente o objeto de cada uma é o resultado da que a precede_. \n",
    "3. COMPUT.: _é o processo de repetição de uma ou mais ações; cada iteração se refere a apenas uma instância da ação._"
   ]
  },
  {
   "cell_type": "markdown",
   "metadata": {},
   "source": [
    "Mais um exemplo:"
   ]
  },
  {
   "cell_type": "code",
   "execution_count": 20,
   "metadata": {
    "scrolled": true
   },
   "outputs": [
    {
     "name": "stdout",
     "output_type": "stream",
     "text": [
      "Segunda-feira é o 1o. dia útil da semana\n",
      "Terça-feira é o 2o. dia útil da semana\n",
      "Quarta-feira é o 3o. dia útil da semana\n",
      "Quinta-feira é o 4o. dia útil da semana\n",
      "Sexta-feira é o 5o. dia útil da semana\n"
     ]
    }
   ],
   "source": [
    "diasSemana = [\"Segunda\", \"Terça\", \"Quarta\", \"Quinta\", \"Sexta\", \"Sábado\", \"Domingo\"]\n",
    "for i, bdia in enumerate(diasSemana,1):\n",
    "    print(\"{}-feira é o {}o. dia útil da semana\".format(dia, i))\n",
    "    if i >= 5:\n",
    "        break"
   ]
  },
  {
   "cell_type": "code",
   "execution_count": 6,
   "metadata": {},
   "outputs": [
    {
     "name": "stdout",
     "output_type": "stream",
     "text": [
      "11-joão\n",
      "22-maria\n",
      "33-josé\n"
     ]
    }
   ],
   "source": [
    "alunos = ('joão','maria','josé')\n",
    "for i,aluno in enumerate(alunos,1):\n",
    "    print(\"%d-%s\" % (i*11, aluno))"
   ]
  },
  {
   "cell_type": "markdown",
   "metadata": {},
   "source": [
    "#### <tt style=\"color:#c00000; font-size:18px\">Operador/Função lambda</tt>\n",
    "Um operador `lambda`, ou uma função `lambda`, é usado para criar objetos de **função anônima**, pequena e composta apenas de expressões (argumentos e comandos). As funções _lambda_ são escritas numa única linha, e podem ter o resultado atribuído a uma variável. Funções _lambda_ são muito usadas em programação funcional.\n",
    "\n",
    "Sintaxe:  \n",
    "\n",
    "```python\n",
    "lambda argumentos : expressão\n",
    "```\n",
    "Vejamos um exemplo de aplicação do operador _lambda_: o nome da função definida pelo usuário é `soma()`, ela espera dois argumentos `x` e `y`, e retorna a soma deles:"
   ]
  },
  {
   "cell_type": "code",
   "execution_count": 31,
   "metadata": {},
   "outputs": [
    {
     "name": "stdout",
     "output_type": "stream",
     "text": [
      "5\n"
     ]
    }
   ],
   "source": [
    "def soma(x, y): \n",
    "    return x + y\n",
    "  \n",
    "# chamada à função 'soma'\n",
    "print(soma(2,3))"
   ]
  },
  {
   "cell_type": "markdown",
   "metadata": {},
   "source": [
    "Vamos ver como converter a função `soma()` numa função _lambda_:"
   ]
  },
  {
   "cell_type": "code",
   "execution_count": 33,
   "metadata": {},
   "outputs": [
    {
     "name": "stdout",
     "output_type": "stream",
     "text": [
      "11\n"
     ]
    }
   ],
   "source": [
    "soma_lambda = lambda x, y : x + y \n",
    "print(soma_lambda(4, 7))"
   ]
  },
  {
   "cell_type": "markdown",
   "metadata": {},
   "source": [
    "Na construção `lambda x, y: x + y`; `x` e `y` são argumentos para a função e `x + y` é a expressão que é executada e seu valor é retornado como saída. \n",
    "\n",
    "O operador `lambda x, y: x + y` retorna um objeto função que pode ser atribuído a qualquer variável, neste caso, o objeto função foi atribuído à variável `soma_lambda`."
   ]
  },
  {
   "cell_type": "markdown",
   "metadata": {},
   "source": [
    "No exemplo da função `filter()` (ver logo adiante) tivemos que definir uma função do usuário, `positivo()`, para ser usada somente como parâmetro da função `filter()`, sendo invocada para cada elemento filtrado. Ao invés de definir uma função de usuário com a instrução `def`, podemos definir uma função válida somente enquanto durar a execução da função `filter()`. Não é necessário nem nomear tal função, sendo, portanto chamada de função anônima ou função `lambda`. \n",
    "\n",
    "Considere o exemplo seguinte:"
   ]
  },
  {
   "cell_type": "code",
   "execution_count": 9,
   "metadata": {},
   "outputs": [
    {
     "name": "stdout",
     "output_type": "stream",
     "text": [
      "[10, 4, 3, 5]\n",
      "[10, 4]\n"
     ]
    }
   ],
   "source": [
    "valores = [10, 4, -1, 3, 5, -9, -11,-20]\n",
    "print(list(filter(lambda x: x > 0, valores)))\n",
    "print(list(filter(lambda x: x>0 and x%2 == 0, valores)))"
   ]
  },
  {
   "cell_type": "markdown",
   "metadata": {},
   "source": [
    "Definimos uma função anônima que recebe um parâmetro de entrada `x` e retorna o resultado da operação relacional `x > 0: True` ou `False`.\n",
    "\n",
    "Também podemos usar uma função `lambda` no exemplo mostrado para a função `reduce()`:"
   ]
  },
  {
   "cell_type": "code",
   "execution_count": 1,
   "metadata": {},
   "outputs": [
    {
     "name": "stdout",
     "output_type": "stream",
     "text": [
      "15\n"
     ]
    }
   ],
   "source": [
    "import functools                       # python3\n",
    "cinco = [1, 2, 3, 4, 5]\n",
    "soma =  functools.reduce(lambda x, y: x + y, cinco)\n",
    "print(soma)"
   ]
  },
  {
   "cell_type": "markdown",
   "metadata": {},
   "source": [
    "No código acima, definimos uma função anônima que recebe dois parâmetros de entrada e retorna a soma deles."
   ]
  },
  {
   "cell_type": "markdown",
   "metadata": {},
   "source": [
    "#### <tt style=\"color:#c00000; font-size:18px\">map(funcao, iteravel_1, iteravel_2,...)</tt>\n",
    "Aplica o objeto `funcao` a cada item do `iteravel_1` e retorna uma **lista** dos elementos modificados pelo objeto `funcao`. \n",
    "\n",
    "O mapeamento consiste em aplicar uma função a todos os itens de uma sequência (lista, dicionário, tupla, conjunto etc.) gerando outra lista com os resultados e com o mesmo tamanho da sequência original.  \n",
    "\n",
    "Se os argumentos iteráveis adicionais forem indicados, a função deve tomar tantos quantos argumentos que serão aplicados aos itens de todos os iteráveis em paralelo. Se um iterável for menor que outro, então ele será estendido com itens `None`. Se a função não for especificada (`None`) então a função `identity()` é assumida; se houver vários argumentos `map()` retorna uma lista que consiste de tuplas contendo os itens correspondentes a todos os iteráveis informados (um tipo de operação de transposição).  \n",
    "\n",
    "Os argumentos iteráveis podem ser sequência ou qualquer objeto iterável; **o resultado é sempre uma lista**."
   ]
  },
  {
   "cell_type": "code",
   "execution_count": 11,
   "metadata": {},
   "outputs": [
    {
     "name": "stdout",
     "output_type": "stream",
     "text": [
      "[1.0, 2.0, 3.0, 4.0, 5.0]\n"
     ]
    }
   ],
   "source": [
    "#### <tt style=\"color:#c00000; font-size:18px\">\n",
    "import math\n",
    "quadrados = [1, 4, 9, 16, 25]\n",
    "resultado = map(math.sqrt, quadrados)\n",
    "print(list(resultado))"
   ]
  },
  {
   "cell_type": "markdown",
   "metadata": {},
   "source": [
    "No Python3, a função `map()` retorna um iterador ou objeto `map` que é <u>avaliado preguiçosamente</u>.\n",
    "> Avaliação Preguiçosa (_Lazy Evaluation_), ou chamada por necessidade (_call-by-need_), é uma estratégia de avaliação que retarda a avaliação de uma expressão até que seu valor seja necessário e que também evite avaliações repetidas.\n",
    "\n",
    "Não podemos acessar os elementos do objeto `map` com índice, e nem podemos usar `len()` para encontrar o tamanho do objeto `map`. Podemos, no entanto, forçar a conversão da saída da função `map()`, ou seja, o objeto `map`, para listar como mostrado a seguir:"
   ]
  },
  {
   "cell_type": "code",
   "execution_count": 27,
   "metadata": {},
   "outputs": [
    {
     "name": "stdout",
     "output_type": "stream",
     "text": [
      "[1.0, 2.0, 3.0, 4.0, 5.0]\n"
     ]
    }
   ],
   "source": [
    "print(list(resultado))"
   ]
  },
  {
   "cell_type": "markdown",
   "metadata": {},
   "source": [
    "Exemplo de uso da função `map()` com dois iteráveis:"
   ]
  },
  {
   "cell_type": "code",
   "execution_count": 12,
   "metadata": {},
   "outputs": [
    {
     "data": {
      "text/plain": [
       "[11, 22, 33]"
      ]
     },
     "execution_count": 12,
     "metadata": {},
     "output_type": "execute_result"
    }
   ],
   "source": [
    "# Aqui, cada elemento do 'a' e 'b' será passado como argumento para a função lambda.\n",
    "a = [1, 2, 3]\n",
    "b = [10, 20, 30]\n",
    "list(map(lambda x, y: x + y, a, b))     # Resultado: [11, 22, 33]"
   ]
  },
  {
   "cell_type": "markdown",
   "metadata": {},
   "source": [
    "Ao chamar a função `map(math.sqrt, quadrados)` estamos solicitando ao interpretador que execute a função `math.sqrt()` (_square root_, do inglês: raiz quadrada) usando como entrada cada um dos elementos da lista `quadrados`, e inserindo o resultado na lista retornada pela função `map()`, nesse caso, a lista `resultado`.\n",
    "\n",
    "Podemos facilmente substituir uma chamada `map()` por uma <font color=blue>_list comprehension_</font>.  \n",
    "O código anterior poderia ser substituído por:"
   ]
  },
  {
   "cell_type": "code",
   "execution_count": 23,
   "metadata": {},
   "outputs": [
    {
     "name": "stdout",
     "output_type": "stream",
     "text": [
      "[1.0, 2.0, 3.0, 4.0, 5.0]\n"
     ]
    }
   ],
   "source": [
    "result = [math.sqrt(x) for x in quadrados]\n",
    "print(result)"
   ]
  },
  {
   "cell_type": "markdown",
   "metadata": {},
   "source": [
    "Outro exemplo:"
   ]
  },
  {
   "cell_type": "code",
   "execution_count": 13,
   "metadata": {
    "scrolled": true
   },
   "outputs": [
    {
     "data": {
      "text/plain": [
       "[1, 4, 9, 16]"
      ]
     },
     "execution_count": 13,
     "metadata": {},
     "output_type": "execute_result"
    }
   ],
   "source": [
    "list(map(lambda x : x**2, [1, 2, 3, 4]))   # Resultado: [1, 4, 9, 16]"
   ]
  },
  {
   "cell_type": "markdown",
   "metadata": {},
   "source": [
    "#### <tt style=\"color:#c00000; font-size:18px\">filter(funcao, iteravel)</tt>\n",
    "Semelhante à função `map()`, a função `filter()` no Python3 retorna um objeto `filter` ou o iterador que é avaliado um a um.\n",
    "\n",
    "A função `filter()` <font color=red>cria uma lista</font> a partir dos elementos da estrutura de dados **iteravel**, para os quais a aplicação da **funcao** retorna `True`. O parâmetro **iteravel** pode ser uma sequência, um contêiner que suporta iteração ou um iterador. Se **iteravel** for uma _string_ ou uma tupla, o resultado também será do mesmo tipo do **iteravel**; caso contrário, será uma lista. Se o parâmetro **funcao** não for especificado ou for **None**, a função **identity()** é assumida, ou seja, todos os elementos do **iteravel** que forem `False` não serão considerados.\n",
    "\n",
    "A função `filter()` é equivalente à seguinte _list comprehension_:\n",
    "- Com parâmetro funcao especificado: \t\t\n",
    "```python \n",
    "[item for item in iteravel if funcao(item)]```\n",
    "- Com parâmetro funcao não especificado: \t\n",
    "```python \n",
    "[item for item in iteravel if item]```"
   ]
  },
  {
   "cell_type": "code",
   "execution_count": 8,
   "metadata": {},
   "outputs": [
    {
     "name": "stdout",
     "output_type": "stream",
     "text": [
      "[8, 9, 3, 5, 2, 5, 91, 5, 10, 93]\n",
      "[-1, -3, -5, -4, -4, -11, -75]\n"
     ]
    }
   ],
   "source": [
    "lista = [8, 9, -1, -3, 3, -5, -4, 5, -4, 2, 5, 91, -11, 5, 10, 93, -75]\n",
    "positivos = []\n",
    "for item in lista:\n",
    "   if item > 0:\n",
    "      positivos.append(item)\n",
    "print(positivos)\n",
    "negativos = [x for x in lista if x < 0]\n",
    "print(negativos)"
   ]
  },
  {
   "cell_type": "markdown",
   "metadata": {},
   "source": [
    "Agora vamos mostrar o jeito 'Pythonico' de se programar, fazendo a mesma coisa de forma mais compacta, usando uma função definida pelo usuário e denominada `positivo()`:"
   ]
  },
  {
   "cell_type": "code",
   "execution_count": 16,
   "metadata": {},
   "outputs": [
    {
     "name": "stdout",
     "output_type": "stream",
     "text": [
      "[8, 9, 3, 5, 2, 5, 91, 5, 10, 93]\n",
      "[-1, -3, -5, -4, -4, -11, -75]\n"
     ]
    }
   ],
   "source": [
    "lista = [8, 9, -1, -3, 3, -5, -4, 5, -4, 2, 5, 91, -11, 5, 10, 93, -75]\n",
    "def positivo(x):       # retorna True para x positivo\n",
    "    return x > 0\n",
    "\n",
    "positivos = filter(positivo, lista)\n",
    "print(list(positivos))\n",
    "print(list(filter(lambda x : x < 0,lista)))"
   ]
  },
  {
   "cell_type": "markdown",
   "metadata": {},
   "source": [
    "#### <tt style=\"color:#c00000; font-size:18px\">reduce()</tt>\n",
    "A função `reduce()` aceita uma função e uma sequência, e retorna um único valor calculado da seguinte maneira: Inicialmente, a função é chamada com os dois primeiros itens da sequência e o resultado é retornado. A função é então chamada novamente com o resultado obtido na etapa anterior e o próximo valor na sequência. Esse processo continua se repetindo até que não tenha mais item na sequência.\n",
    "\n",
    "A sintaxe da função `reduce()`:\n",
    "\n",
    "```python\n",
    "valor = reduce(funcao, sequencia [, inicial])\n",
    "```\n",
    "Quando o valor inicial é fornecido a função é chamada com esse valor inicial e o primeiro item da sequência.  \n",
    "\n",
    "No Python 2, `reduce()` é uma função incorporada. No entanto, no Python 3, ela foi movida para o módulo `functools`. Portanto, para usá-lo, você deve primeiro importá-lo da seguinte maneira:\n",
    "\n",
    "```python\n",
    "from functools import reduce # only in Python 3\n",
    "```\n",
    "\n",
    "Exemplo:\n",
    "\n",
    "```python\n",
    "reduce(lambda x, y: x + y, [1,2,3,4,5]) --> faz o seguinte cálculo ((((1+2)+3)+4)+5) = 15. \n",
    "```\n",
    "O argumento da esquerda, `x`, é o valor acumulado e o argumento da direita, `y`, é o valor de atualização do iterável. Se `inicial` (argumento opcional) estiver presente, ele será colocado antes dos itens do iterável no cálculo e servirá como padrão quando o iterável estiver vazio. Se `inicial` não for fornecido e iterável contiver apenas um item, o primeiro item será retornado. Aproximadamente se equivale a:\n",
    "\n",
    "```python\n",
    "def reduce(funcao, iteravel, inicial=None):\n",
    "    it = iter(iteravel)\n",
    "    if inicial is None:\n",
    "        try:\n",
    "            inicial = next(it)               # primeiro valor do iterável\n",
    "        except StopIteration:\n",
    "            raise TypeError('reduce() de sequência vazia e sem valor inicial')\n",
    "    acumulador = inicial\n",
    "    for x in it:\n",
    "        acumulador = funcao(acumulador, x)\n",
    "    return acumulador\n",
    "```"
   ]
  },
  {
   "cell_type": "code",
   "execution_count": 17,
   "metadata": {},
   "outputs": [
    {
     "data": {
      "text/plain": [
       "24"
      ]
     },
     "execution_count": 17,
     "metadata": {},
     "output_type": "execute_result"
    }
   ],
   "source": [
    "from functools import reduce        # python3\n",
    "def faz_mult(x1, x2): \n",
    "    return x1 * x2\n",
    "\n",
    "reduce(faz_mult, [1, 2, 3, 4])"
   ]
  },
  {
   "cell_type": "markdown",
   "metadata": {},
   "source": [
    "A chamada à função `reduce()` no exemplo anterior é funcionalmente equivalente a:"
   ]
  },
  {
   "cell_type": "code",
   "execution_count": 7,
   "metadata": {},
   "outputs": [
    {
     "data": {
      "text/plain": [
       "10"
      ]
     },
     "execution_count": 7,
     "metadata": {},
     "output_type": "execute_result"
    }
   ],
   "source": [
    "def minha_reduce(func, seq, inicio=0):\n",
    "    primeiro = seq[inicio]\n",
    "    for i in seq[1:]:\n",
    "        primeiro = func(primeiro, i)\n",
    "    return primeiro\n",
    "\n",
    "minha_reduce(faz_soma, [1, 2, 3, 4])"
   ]
  },
  {
   "cell_type": "markdown",
   "metadata": {},
   "source": [
    "A função `reduce()` pode ser usada para calcular o fatorial de um valor `n`:"
   ]
  },
  {
   "cell_type": "code",
   "execution_count": 8,
   "metadata": {},
   "outputs": [
    {
     "name": "stdout",
     "output_type": "stream",
     "text": [
      "720\n"
     ]
    }
   ],
   "source": [
    "# Calcula o fatorial de n\n",
    "def fatorial(n):\n",
    "    return reduce(lambda x,y: x*y, range(1,n+1))\n",
    "print(fatorial(6))"
   ]
  },
  {
   "cell_type": "markdown",
   "metadata": {},
   "source": [
    "<a id=\"#zip\"></a>\n",
    "#### <tt style=\"color:#c00000; font-size:18px\">zip(*iteravel)</tt>\n",
    "A função `zip()` recebe iteráveis (pode ser zero ou mais) e executa um iterador que agrega elementos baseados nos iteráveis recebidos como parâmetros e retorna um iterador de tuplas. O i-ésimo elemento da tupla é criado usando o i-ésimo elemento de cada um dos iteráveis passados como argumentos.\n",
    "\n",
    "A sintaxe da função `zip()\":\n",
    "\n",
    "```python\n",
    "zip(*iteraveis)\n",
    "```\n",
    "A função `zip()` recebe `iteraveis` - podem ser iteráveis internos, como: `list, string, tuple, dict` ou iteráveis definidos pelo usuário: objeto de classe que implementa o método __iter__.\n",
    "\n",
    "A função `zip()` retorna um iterador de tuplas baseada no(s) objeto(s) iterável(eis) recebido(s) como argumento(s). \n",
    "- Se nenhum parâmetro for passado, `zip()` retorna um iterador vazio. \n",
    "- Se um único iterável for passado, `zip()` retorna um iterador de tupla 1D (a qtde. de elementos em cada tupla é 1). \n",
    "- Se `n` iteráveis forem passados, `zip()` retorna um iterador de tupla nD (cada tupla contém `n` elementos). Suponha que dois iteráveis são passados; um iterável contendo 3 elementos e outro contendo 5. Então, o iterador retornado terá 3 tuplas (a menor qtde). Isto acontece porque o iterador finaliza quando o menor iterável é exaurido."
   ]
  },
  {
   "cell_type": "code",
   "execution_count": 36,
   "metadata": {},
   "outputs": [
    {
     "name": "stdout",
     "output_type": "stream",
     "text": [
      "[]\n",
      "{(3, 'três'), (1, 'um'), (2, 'dois')}\n"
     ]
    }
   ],
   "source": [
    "numeros   = [1, 2, 3]\n",
    "extenso   = ['um', 'dois', 'três']\n",
    "resultado = zip()                  # nenhum iteravel é passado\n",
    "lista1    = list(resultado)\n",
    "print(lista1)\n",
    "\n",
    "resultado = zip(numeros, extenso)  # dois iteráveis são passados\n",
    "conjunto  = set(resultado)\n",
    "print(conjunto)"
   ]
  },
  {
   "cell_type": "code",
   "execution_count": 39,
   "metadata": {},
   "outputs": [
    {
     "name": "stdout",
     "output_type": "stream",
     "text": [
      "{(3, 'TRES'), (2, 'DOIS'), (1, 'UM')}\n",
      "{(2, 'DOIS', 'dois'), (1, 'UM', 'um')}\n"
     ]
    }
   ],
   "source": [
    "listaNum  = [1, 2, 3]\n",
    "tuplaNum  = ('UM', 'DOIS', 'TRES', 'QUATRO')\n",
    "extenso   = ['um', 'dois']\n",
    "resultado = zip(listaNum, tuplaNum)  # dois iteráveis de comprimentos diferentes são passados\n",
    "print(set(resultado))\n",
    "resultado = zip(listaNum, tuplaNum, extenso)  # três iteráveis de compr.s diferentes são passados\n",
    "print(set(resultado))"
   ]
  },
  {
   "cell_type": "markdown",
   "metadata": {},
   "source": [
    "O operador `*` pode ser usado com a função `zip()` para descompactar uma lista de tuplas.  \n",
    "Exemplo:"
   ]
  },
  {
   "cell_type": "code",
   "execution_count": 40,
   "metadata": {},
   "outputs": [
    {
     "name": "stdout",
     "output_type": "stream",
     "text": [
      "[('x', 3), ('y', 4), ('z', 5)]\n",
      "Coordenadas:  ('x', 'y', 'z')\n",
      "Valores:      (3, 4, 5)\n"
     ]
    }
   ],
   "source": [
    "coordenada = ['x', 'y', 'z']\n",
    "valor = [3, 4, 5, 0, 9]\n",
    "\n",
    "resultado = zip(coordenada, valor)\n",
    "listaResult = list(resultado)\n",
    "print(listaResult)\n",
    "\n",
    "c, v =  zip(*listaResult)\n",
    "print('Coordenadas: ', c)\n",
    "print('Valores:     ', v)"
   ]
  },
  {
   "cell_type": "markdown",
   "metadata": {},
   "source": [
    "Observe que, os elementos 0 e 9 da variável `valor` não estão na variável `v`. Isso ocorre porque os iteráveis compactados possuem diferentes números de elementos."
   ]
  },
  {
   "cell_type": "markdown",
   "metadata": {},
   "source": [
    "Como transformar o seu código em código pythônico, mais bonito e idiomático: \n",
    "\n",
    "Veja o vídeo de Raymond Hettinger: https://www.youtube.com/watch?v=OSGv2VnC0go"
   ]
  },
  {
   "cell_type": "markdown",
   "metadata": {},
   "source": [
    "### [Diferenças entre as Versões 2 e 3 do Python:](https://docs.python.org/3.0/whatsnew/3.0.html)\n",
    "\n",
    "<img src=img/diferencas.png width=500>"
   ]
  },
  {
   "cell_type": "markdown",
   "metadata": {},
   "source": [
    "<p style=\"text-align:right;\"><a href=\"#topo\">Volta ao topo</a>"
   ]
  },
  {
   "cell_type": "markdown",
   "metadata": {},
   "source": [
    "<a id=\"12.\"></a>\n",
    "## 12.\tFunção do Usuário\n",
    "\n",
    "### Definição\n",
    "Função é um grupo de instruções relacionadas que executam uma tarefa específica. As funções ajudam a dividir os programas em partes menores e modulares. À medida que o programa se torna maior, as funções o tornam mais organizado e gerenciável, além de evitar a repetição de comandos e gerar códigos reutilizáveis.\n",
    "\n",
    "```python\n",
    "def nome_funcao(parametros):\n",
    "\t\"\"\" string documental que descreve o que faz a funcao \"\"\"\n",
    "\tcomando(s)\n",
    "```\n",
    "A palavra-chave `def` define o nome da função bem como os parâmetros que ela deve receber para cumprir o seu papel dentro da lógica do programa. A primeira _string_ após o cabeçalho da função é chamada de **docstring**. Ela é usada para resumir o que faz a função. Embora opcional, a documentação é uma boa prática de programação. Geralmente, usamos aspas triplas para que a **docstring** possa se estender por várias linhas. Esta _string_ estará disponível ao usuário via atributo **\\_\\_doc\\_\\_** do objeto função.\n",
    "\n",
    "A instrução `return` é usada para encerrar a função e voltar para o local de onde foi chamada com o resultado da função.  \n",
    "\n",
    "Exemplo:"
   ]
  },
  {
   "cell_type": "code",
   "execution_count": 6,
   "metadata": {},
   "outputs": [
    {
     "ename": "TypeError",
     "evalue": "%c requires int or char",
     "output_type": "error",
     "traceback": [
      "\u001b[1;31m---------------------------------------------------------------------------\u001b[0m",
      "\u001b[1;31mTypeError\u001b[0m                                 Traceback (most recent call last)",
      "\u001b[1;32m<ipython-input-6-b45b5d5f7693>\u001b[0m in \u001b[0;36m<module>\u001b[1;34m\u001b[0m\n\u001b[0;32m      8\u001b[0m \u001b[1;33m\u001b[0m\u001b[0m\n\u001b[0;32m      9\u001b[0m \u001b[0mz\u001b[0m\u001b[1;33m,\u001b[0m \u001b[0mteta\u001b[0m \u001b[1;33m=\u001b[0m \u001b[0mpolar\u001b[0m\u001b[1;33m(\u001b[0m\u001b[1;36m4\u001b[0m\u001b[1;33m,\u001b[0m \u001b[1;36m4\u001b[0m\u001b[1;33m)\u001b[0m\u001b[1;33m\u001b[0m\u001b[1;33m\u001b[0m\u001b[0m\n\u001b[1;32m---> 10\u001b[1;33m \u001b[0mprint\u001b[0m\u001b[1;33m(\u001b[0m\u001b[1;34m\"%c = %.2f|_%.1f (grau)\"\u001b[0m \u001b[1;33m%\u001b[0m \u001b[1;33m(\u001b[0m\u001b[0mcomplex\u001b[0m\u001b[1;33m(\u001b[0m\u001b[1;36m4\u001b[0m\u001b[1;33m,\u001b[0m\u001b[1;36m4\u001b[0m\u001b[1;33m)\u001b[0m\u001b[1;33m,\u001b[0m \u001b[0mz\u001b[0m\u001b[1;33m,\u001b[0m \u001b[0mteta\u001b[0m\u001b[1;33m)\u001b[0m\u001b[1;33m)\u001b[0m\u001b[1;33m\u001b[0m\u001b[1;33m\u001b[0m\u001b[0m\n\u001b[0m\u001b[0;32m     11\u001b[0m \u001b[0mprint\u001b[0m\u001b[1;33m(\u001b[0m\u001b[1;34m'\\n'\u001b[0m\u001b[1;33m,\u001b[0m\u001b[0mpolar\u001b[0m\u001b[1;33m.\u001b[0m\u001b[0m__doc__\u001b[0m\u001b[1;33m,\u001b[0m\u001b[1;34m'\\n'\u001b[0m\u001b[1;33m,\u001b[0m\u001b[0msep\u001b[0m\u001b[1;33m=\u001b[0m\u001b[1;34m''\u001b[0m\u001b[1;33m)\u001b[0m\u001b[1;33m\u001b[0m\u001b[1;33m\u001b[0m\u001b[0m\n\u001b[0;32m     12\u001b[0m \u001b[0mhelp\u001b[0m\u001b[1;33m(\u001b[0m\u001b[0mpolar\u001b[0m\u001b[1;33m)\u001b[0m\u001b[1;33m\u001b[0m\u001b[1;33m\u001b[0m\u001b[0m\n",
      "\u001b[1;31mTypeError\u001b[0m: %c requires int or char"
     ]
    }
   ],
   "source": [
    "import math\n",
    "\n",
    "def polar(x, y):\n",
    "    \"\"\"Converte as coordenadas retangulares (x,y) em coordenadas polares (mod,fase).\"\"\"\n",
    "    mod = math.sqrt(x*x + y*y)\n",
    "    fase = math.atan2(y,x) * 180./math.pi       # ângulo em graus\n",
    "    return mod,fase\n",
    "\n",
    "z, teta = polar(4, 4)\n",
    "print(\"%c = %.2f|_%.1f (grau)\" % (complex(4,4), z, teta))\n",
    "print('\\n',polar.__doc__,'\\n',sep='')\n",
    "help(polar)"
   ]
  },
  {
   "cell_type": "markdown",
   "metadata": {},
   "source": [
    "Funções que definimos para executar determinada tarefa específica são chamadas de <tt>funções definidas pelo usuário</tt>. Funções prontas do Python são chamadas de <tt>funções internas</tt> ou <tt>funções incorporadas</tt>. \n",
    "\n",
    "Funções escritas por outras pessoas e disponibilizadas na forma de biblioteca são denominadas <tt>funções de biblioteca</tt> ou <tt>funções de módulos</tt>.\n",
    "\n",
    "### Funcionamento\n",
    "Depois de definida pelo usuário (declaração com o comando `def`) a função poderá ser chamada no _script_ sempre que necessário.\n",
    "\n",
    "<table><tr>\n",
    "    <td><img src='img/funcao.png' alt='figura - definição de função do usuário' style=\"float:right; padding:30px; border=1px solid blue\"></td>\n",
    "    <td><img src='img/funcao2.png' alt='figura - uso de função do usuário' width=250></td>\n",
    "</tr></table>\n"
   ]
  },
  {
   "cell_type": "markdown",
   "metadata": {},
   "source": [
    "### Escopo de Variáveis e Passagem de Parâmetros\n",
    "\n",
    "O escopo de uma variável se refere ao local num programa em que a variável é reconhecida. Parâmetros e variáveis definidos dentro de uma função não são visíveis fora dessa função. Por isso, diz-se que variáveis desse tipo têm __escopo local__. O Tempo de vida de uma variável é o período em que ela existe até ser apagada da memória. O tempo de vida de variáveis definidas numa função é o mesmo tempo que a função precisa para ser executada. Elas são destruídas quando a função é encerrada. Assim, uma função não consegue se 'lembrar' do valor de suas variáveis em chamadas anteriores.\n",
    "\n",
    "Exemplo:"
   ]
  },
  {
   "cell_type": "code",
   "execution_count": 12,
   "metadata": {},
   "outputs": [
    {
     "name": "stdout",
     "output_type": "stream",
     "text": [
      "Valor de 'x' dentro da funcao:  10\n",
      "Valor de 'x' fora da funcao:    20\n"
     ]
    }
   ],
   "source": [
    "def minha_funcao():\n",
    "    x = 10\n",
    "    print(\"Valor de 'x' dentro da funcao: \", x)\n",
    "\n",
    "x = 20\n",
    "minha_funcao()\n",
    "print(\"Valor de 'x' fora da funcao:   \", x)"
   ]
  },
  {
   "cell_type": "markdown",
   "metadata": {},
   "source": [
    "### Vantagens das Funções Definidas pelo Usuário\n",
    "\n",
    "- As funções definidas pelo usuário ajudam a decompor um programa grande em pequenos trechos de código, o que torna o programa mais fácil de se entender, manter e depurar. \n",
    "- Se ocorrer código repetido em um programa. A função pode ser usada para otimizar o código, sendo chamada sempre que for necessário. \n",
    "- Programadores de grandes projetos dividem a carga de trabalho criando diferentes funções."
   ]
  },
  {
   "cell_type": "code",
   "execution_count": 13,
   "metadata": {},
   "outputs": [
    {
     "name": "stdout",
     "output_type": "stream",
     "text": [
      "Elemento(s) Comum(ns) entre x e y:    [3, 4, 5]\n",
      "Elemento(s) Comum(ns) entre x, y e z: [5]\n"
     ]
    }
   ],
   "source": [
    "def comum(lista1, lista2):\n",
    "    '''Retorna uma lista com os elementos em comum.'''\n",
    "    A = set(lista1)\n",
    "    B = set(lista2)\n",
    "    return list(A & B)\n",
    "  \n",
    "x = [1,2,3,4,5]\n",
    "y = [3,4,5,6,7,9]\n",
    "z = range(0,50,5)\n",
    "print(\"Elemento(s) Comum(ns) entre x e y:   \", comum(x,y))\n",
    "print(\"Elemento(s) Comum(ns) entre x, y e z:\", comum(comum(x,y),z))"
   ]
  },
  {
   "cell_type": "markdown",
   "metadata": {},
   "source": [
    "### Exercícios:\n",
    "1.\tCalcule e mostre o mínimo múltiplo comum (mmc) de dois números (menor inteiro positivo que é perfeitamente divisível pelos dois números dados) usando uma função definida pelo usuário.\n",
    "2.\tCalcule e mostre o máximo divisor comum (mdc) de dois números (maior inteiro positivo que é perfeitamente divisível pelos dois números dados) usando uma função definida pelo usuário.\n",
    "1.\tDefina uma função Python `fibonacci(n)` para calcular e mostrar a série de Fibonacii com termos até `n`, usando expressões lambda e não usando."
   ]
  },
  {
   "cell_type": "code",
   "execution_count": 8,
   "metadata": {},
   "outputs": [
    {
     "name": "stdout",
     "output_type": "stream",
     "text": [
      "0, 1, 1, 2, 3, 5, 8, 13, \b\b\n",
      "1, 1, 1, 2, 3, 5, 8, 13, \b\b\n"
     ]
    }
   ],
   "source": [
    "def fibonacci(n):\n",
    "    a, b = 0, 1\n",
    "    termos = 1\n",
    "    while termos <= n+1:\n",
    "        print(a,end=\", \")\n",
    "        a, b = b, a+b\n",
    "        termos += 1\n",
    "    print(2*'\\b')\n",
    "fibonacci(7)\n",
    "\n",
    "# usanda função lambda recursiva para gerar o n-ésimo elemento da série de Fibonacci\n",
    "fib = lambda x: 1 if x <=2 else fib(x-1) + fib(x-2)\n",
    "\n",
    "for i in range(8):\n",
    "    print(fib(i),end=', ')\n",
    "print(2*'\\b')"
   ]
  },
  {
   "cell_type": "markdown",
   "metadata": {},
   "source": [
    "<p style=\"text-align:right;\"><a href=\"#topo\">Volta ao topo</a>"
   ]
  },
  {
   "cell_type": "markdown",
   "metadata": {},
   "source": [
    "<a id=\"13.\"></a>\n",
    "## 13.\tArquivos de E/S\n",
    "\n",
    "### Saída de Dados em Dispositivo Padrão (_stdout_)\n",
    "A maneira mais simples de se produzir uma saída na tela é usar a instrução `print` no Python2 ou a função `print()` no Python3, para a qual pode-se passar zero ou mais expressões separadas por vírgulas. Essa instrução/função converte as expressões numa _string_ e envia o resultado para a saída padrão, da seguinte forma:\n",
    "\n",
    "**Python2:** \n",
    "```python\n",
    "print \"Python é uma boa linguagem de programação, \", \"não é mesmo?\"\n",
    "```\n",
    "**Python3:**\n",
    "```python\n",
    "print(\"Python é uma boa linguagem de programação, \", \"não é mesmo?\")\n",
    "```\n",
    "Isso produz o seguinte resultado em seu dispositivo padrão de saída de dados (tela):\n",
    "\n",
    "> <tt>Python é uma boa linguagem de programação, não é mesmo?</tt>\n",
    "\n",
    "\n",
    "### Entrada de Dados em Dispositivo Padrão (_stdin_)\n",
    "O Python também fornece duas funções internas para leitura de uma linha de texto na entrada de dados padrão (teclado). Essas funções são: `raw_input()` e `input()` (apresentadas anteriormente).\n",
    "\n",
    "> - `raw_input([msg])`: lê uma linha da entrada padrão e a retorna como uma _string_, removendo o último caractere: linha nova (_new-line_).\n",
    "> - `input([msg])`: é equivalente a `raw_input()`, exceto pelo fato de assumir que a entrada é uma expressão válida do Python2 e retorna o resultado avaliado, ou seja, você pode usar constantes ou variáveis com informações numéricas ou strings.\n",
    "\n",
    "**Nota**:\n",
    "O Python2 possui duas versões de funções de entrada: `input()` e `raw_input()`. A função `input()` trata os dados recebidos como _string_ se estiverem incluídos entre aspas \"\" ou '', caso contrário, os dados serão tratados como números. No Python3, a função `raw_input()` foi descontinuada, ficando apenas a função `input()`, ou seja, os dados lidos são sempre tratados como _string_."
   ]
  },
  {
   "cell_type": "markdown",
   "metadata": {},
   "source": [
    "### E/S em Arquivos de Dados\n",
    "Até agora fizemos leituras e escritas em entrada e saída padrões, _stdin_ e _stdout_, respectivamente. Agora, vamos usar arquivos de dados do usuário. O Python fornece funções básicas e métodos necessários à manipulação de arquivos de dados. Podemos fazer a maior parte da manipulação de arquivos usando um objeto arquivo: `file`.\n",
    "\n",
    "#### Abertura do Arquivo\n",
    "Antes de se ler/escrever de/em um arquivo, é preciso abri-lo usando a função `open()` do Python. Essa função cria um objeto **file** que será utilizado na chamada de outros métodos associados a ele."
   ]
  },
  {
   "cell_type": "markdown",
   "metadata": {},
   "source": [
    "> Sintaxe:\n",
    "```python\n",
    "objeto_arq = open(nome_arq [, modo_accesso][, buffer])\n",
    "```\n",
    ">> <tt>nome_arq</tt>: _string_ com o caminho e o nome do arquivo a ser acessado.  \n",
    ">> <tt>modo_acesso</tt>: determina o modo de abertura do arquivo - leitura/escrita/anexação etc. Este parâmetro é opcional, sendo padrão o modo de acesso para leitura `'r'`.  \n",
    ">> <tt>buffer</tt>: se o valor do buffer for `0`, não existirá nenhum buffer; se o valor do buffer for `1` então o buffer de linha será criado ao acessar o arquivo; se o valor do buffer for um inteiro maior que `1`, a ação do buffer será executada com o tamanho do buffer indicado; se for negativo, o tamanho do buffer é o padrão do sistema (default)."
   ]
  },
  {
   "cell_type": "markdown",
   "metadata": {},
   "source": [
    "| Modo | Operação |\n",
    "|:----:|:--------|\n",
    "| r   | Abre um arquivo apenas para leitura. O ponteiro do arquivo é colocado no início do arquivo.   Este é o modo padrão.   |\n",
    "| rb  | Abre um arquivo para leitura somente em   formato binário. O ponteiro do arquivo é colocado no início do arquivo. Este   é o modo padrão.|\n",
    "| r+  | Abre um arquivo para leitura e gravação.   O ponteiro do arquivo colocado no início do arquivo.                       |\n",
    "| rb+ | Abre um arquivo para leitura e gravação   em formato binário. O ponteiro do arquivo colocado no início do arquivo.    |\n",
    "| w   | Abre um arquivo apenas para gravação.   Sobrescreve o arquivo se o arquivo existir. Se o arquivo não existir, cria um   novo arquivo para gravação.                                                                                                    |\n",
    "| wb  | Abre um arquivo para gravação somente em   formato binário. Sobrescreve o arquivo se o arquivo existir. Se o arquivo não   existir, cria um novo arquivo para gravação.                                                                                |\n",
    "| w+  | Abre um arquivo para escrita e leitura.   Sobrescreve o arquivo existente se o arquivo existir. Se o arquivo não   existir, cria um novo arquivo para leitura e gravação.                                                                              |\n",
    "| wb+ | Abre um arquivo para escrita e leitura em   formato binário. Sobrescreve o arquivo existente se o arquivo existir. Se o   arquivo não existir, cria um novo arquivo para leitura e gravação.                                                           |\n",
    "| a   | Abre um arquivo para anexar. O ponteiro   do arquivo está no final do arquivo, se o arquivo existir. Ou seja, o arquivo   está no modo de acréscimo. Se o arquivo não existir, ele criará um novo   arquivo para gravação.                             |\n",
    "| ab  | Abre um arquivo para anexar em formato   binário. O ponteiro do arquivo está no final do arquivo, se o arquivo   existir. Ou seja, o arquivo está no modo de acréscimo. Se o arquivo não   existir, ele criará um novo arquivo para gravação.          |\n",
    "| a+  | Abre um arquivo para anexar e ler. O   ponteiro do arquivo está no final do arquivo, se o arquivo existir. O arquivo   é aberto no modo de acréscimo. Se o arquivo não existir, ele cria um novo   arquivo para leitura e gravação.                    |\n",
    "| ab+ | Abre um arquivo para anexar e ler em   formato binário. O ponteiro do arquivo está no final do arquivo, se o arquivo   existir. O arquivo é aberto no modo de acréscimo. Se o arquivo não existir,   ele cria um novo arquivo para leitura e gravação. |"
   ]
  },
  {
   "cell_type": "markdown",
   "metadata": {},
   "source": [
    "#### Atributos do objeto `file`\n",
    "Depois que um arquivo é aberto pela função incorporada `open()` tem-se um objeto `file` pelo qual se obtém várias informações relacionadas ao arquivo aberto.\n",
    "\n",
    "> `obj_file.closed`: \tRetorna `True` se o arquivo for fechado, caso contrário, `False`.  \n",
    "`obj_file.mode`: \tRetorna o modo de acesso com o qual o arquivo foi aberto.  \n",
    "`obj_file.name`: \tRetorna o nome do arquivo.  \n",
    "`obj_file.softspace` (Python2): \tRetorna `False` se o espaço for explicitamente requerido pela `print`, `True` caso contrário."
   ]
  },
  {
   "cell_type": "markdown",
   "metadata": {},
   "source": [
    "#### Métodos da Classe `file:`\n",
    "- `close()` - libera qualquer informação não escrita e fecha o objeto `file`. Após a execução desse método nenhuma operação de escrita/gravação no arquivo poderá ser feita. O Python fecha automaticamente um arquivo quando o objeto de referência ao arquivo é reatribuído a outro arquivo. É uma boa prática usar o método `close()` para fechar um arquivo.  \n",
    "\n",
    "Sintaxe: <tt>objeto_arq.close()</tt>\n",
    "\n",
    "Exemplo:"
   ]
  },
  {
   "cell_type": "code",
   "execution_count": 6,
   "metadata": {
    "scrolled": true
   },
   "outputs": [
    {
     "name": "stdout",
     "output_type": "stream",
     "text": [
      "Nome do arquivo  :  qq.txt\n",
      "Fechado ou não   :  False\n",
      "Modo de abertura :  wb\n"
     ]
    }
   ],
   "source": [
    "# abertura/fechamento de um arquivo de dados\n",
    "fo = open(\"qq.txt\", \"wb\")                    # fo - file object\n",
    "print(\"Nome do arquivo  : \", fo.name)\n",
    "print(\"Fechado ou não   : \", fo.closed)\n",
    "print(\"Modo de abertura : \", fo.mode)\n",
    "fo.close()"
   ]
  },
  {
   "cell_type": "markdown",
   "metadata": {},
   "source": [
    "- `write()`: grava qualquer _string_ no arquivo aberto. É importante observar que as _strings_ Python podem ter dados binários e não apenas texto. Esse método não adiciona um caracter de 'nova linha' ('\\n') ao final da _string_.  \n",
    "\n",
    "Sintaxe: <tt>objeto_arq.write(string)</tt>\n",
    "\n",
    "Exemplo:"
   ]
  },
  {
   "cell_type": "code",
   "execution_count": 16,
   "metadata": {},
   "outputs": [],
   "source": [
    "# Python 2\n",
    "ag = open(\"qq.txt\", \"w\")                   # abre o arquivo 'qq.txt' para gravação --> manipulador 'ag' (arq. de gravação)\n",
    "ag.write(\"Python é uma boa linguagem.\\n\")\n",
    "ag.write(\" Não é mesmo?\")\n",
    "ag.close()                                 # fecha o arquivo aberto"
   ]
  },
  {
   "cell_type": "markdown",
   "metadata": {},
   "source": [
    "Usando um **Gerenciador de Contexto** (`'with'` - bloco de comandos que ao ser finalizado fecha automaticamente o arquivo):"
   ]
  },
  {
   "cell_type": "code",
   "execution_count": 25,
   "metadata": {},
   "outputs": [],
   "source": [
    "with open(\"qq.txt\", \"w\") as ag:         # abre o arquivo 'qq.txt' para gravação --> manipulador 'ag' (arq. de gravação)\n",
    "    ag.write(\"Python é uma boa linguagem.\\n\")\n",
    "    ag.write(\"Não é mesmo?\")\n",
    "# Não precisa usar o método close()!"
   ]
  },
  {
   "cell_type": "code",
   "execution_count": 18,
   "metadata": {},
   "outputs": [
    {
     "name": "stdout",
     "output_type": "stream",
     "text": [
      "Python Ã© uma boa linguagem.\n",
      "NÃ£o Ã© mesmo?\n"
     ]
    },
    {
     "name": "stderr",
     "output_type": "stream",
     "text": [
      "'cat' nÆo ‚ reconhecido como um comando interno\n",
      "ou externo, um programa oper vel ou um arquivo em lotes.\n"
     ]
    }
   ],
   "source": [
    "# visualizando na tela o conteúdo do arquivo recém-criado, usando um comando mágico para enviar comando ao S.O. \n",
    "# Windows:\n",
    "!type qq.txt\n",
    "# Linux:\n",
    "!cat qq.txt"
   ]
  },
  {
   "cell_type": "markdown",
   "metadata": {},
   "source": [
    "- `read()`: lê uma _string_ do arquivo aberto. É importante observar que as _strings_ Python podem ter dados binários, além dos dados de texto.  \n",
    "\n",
    "Sintaxe: <tt>varstr = objeto_arq.read(quantidade_bytes)  \n",
    "\n",
    "\n",
    "- `readline()`: lê a primeira linha de um arquivo, isto é, lê bytes até encontrar um caracter 'nova linha' (_newline_: `'\\n'`) ou um caracter EOF (_End-Of-File_) no caso do arquivo ter apenas uma linha, e retorna uma _string_.  \n",
    "\n",
    "Sintaxe: <tt> varstr = objeto_arq.readline(\\[quantidade_bytes\\])</tt>\n",
    "\n",
    "Exemplos:"
   ]
  },
  {
   "cell_type": "code",
   "execution_count": 20,
   "metadata": {},
   "outputs": [
    {
     "name": "stdout",
     "output_type": "stream",
     "text": [
      "Dados lidos:  Python é uma boa li\n"
     ]
    }
   ],
   "source": [
    "# Python 2\n",
    "ala = open(\"qq.txt\", \"r+\")      # abre o arquivo \"qq.txt\" p/ leitura e anexação\n",
    "msg = ala.read(20)\n",
    "print \"Dados lidos: \", msg\n",
    "ala.close()                     # fecha arquivo aberto"
   ]
  },
  {
   "cell_type": "code",
   "execution_count": 21,
   "metadata": {},
   "outputs": [
    {
     "name": "stdout",
     "output_type": "stream",
     "text": [
      "<open file 'qq.txt', mode 'r' at 0x0000000004638810>\n"
     ]
    }
   ],
   "source": [
    "# Python 2\n",
    "# mostra os atributos do objeto 'al'\n",
    "al = open(\"qq.txt\", 'r')\n",
    "print(al)"
   ]
  },
  {
   "cell_type": "code",
   "execution_count": 23,
   "metadata": {
    "scrolled": true
   },
   "outputs": [
    {
     "name": "stdout",
     "output_type": "stream",
     "text": [
      "Dados lidos: \n",
      "Python é uma boa linguagem.\n",
      "Não é mesmo?\n"
     ]
    }
   ],
   "source": [
    "# Python 2\n",
    "ala = open(\"qq.txt\", \"r+\")      # abre o arquivo \"qq.txt\" p/ leitura e anexação\n",
    "msg = ala.readline()\n",
    "print \"Dados lidos: \"\n",
    "while len(msg):\n",
    "    print msg,\n",
    "    msg = ala.readline()\n",
    "ala.close()                     # fecha arquivo aberto"
   ]
  },
  {
   "cell_type": "code",
   "execution_count": 24,
   "metadata": {},
   "outputs": [
    {
     "name": "stdout",
     "output_type": "stream",
     "text": [
      "Dados lidos: \n",
      "Python é uma boa linguagem.\n",
      "Não é mesmo?\n"
     ]
    }
   ],
   "source": [
    "# Python 2\n",
    "# usando gerenciador de contexto\n",
    "with open(\"qq.txt\", \"r+\") as ala:      # abre o arquivo \"qq.txt\" p/ leitura e anexação\n",
    "    msg = ala.readline()\n",
    "    print \"Dados lidos: \"\n",
    "    while len(msg):\n",
    "        print msg,\n",
    "        msg = ala.readline()"
   ]
  },
  {
   "cell_type": "markdown",
   "metadata": {},
   "source": [
    "- `tell()`: informa a posição atual do ponteiro de leitura/gravação no arquivo. Em outras palavras, a próxima leitura/gravação ocorrerá naquela quantidade de bytes a partir do início do arquivo.  \n",
    "\n",
    "\n",
    "- `seek(deslocamento [, referência])`: altera a posição atual do ponteiro de leitura/gravação do arquivo. O parâmetro `deslocamento` indica a quantidade de bytes a serem deslocados. O parâmetro `referência` especifica a posição de referência a partir da qual os bytes devem ser deslocados: `0` (padrão) significa início do arquivo como posição de referência; `1` significa posição atual como a posição de referência e; `2`, significa o final do arquivo.\n",
    "\n",
    "Sintaxe: <tt>objeto_arq.tell()</tt>  \n",
    "\n",
    "Sintaxe: <tt>objeto_arq.seek(100)</tt>  \n",
    "\n",
    "Exemplo:"
   ]
  },
  {
   "cell_type": "code",
   "execution_count": 26,
   "metadata": {},
   "outputs": [
    {
     "name": "stdout",
     "output_type": "stream",
     "text": [
      "Dados lidos a partir do início do arquivo:  Python é \n",
      "Posição corrente no arquivo:  10\n",
      "Dados lidos a partir do sexto caracter:  n é uma boa linguagem.\n",
      "Não é mesmo?\n"
     ]
    }
   ],
   "source": [
    "# Python 2\n",
    "ala = open(\"qq.txt\", \"r+\")\n",
    "msg = ala.read(10)                          # lê 10 bytes a partir do início do arquivo\n",
    "print \"Dados lidos a partir do início do arquivo: \", msg\n",
    "\n",
    "posicao = ala.tell()                        # lê a posição atual do ponteiro de operação (escrita ou leitura)\n",
    "print \"Posição corrente no arquivo: \", posicao\n",
    "\n",
    "posicao = ala.seek(5)                       # Reposiciona no sexto caracter a partir do início do arquivo\n",
    "msg = ala.read(50)\n",
    "print \"Dados lidos a partir do sexto caracter: \", msg"
   ]
  },
  {
   "cell_type": "code",
   "execution_count": 27,
   "metadata": {},
   "outputs": [
    {
     "name": "stdout",
     "output_type": "stream",
     "text": [
      "Posição a partir do início do arquivo: 10\n",
      "Dados lidos: uma b\n",
      "Posição a partir da posição corrente do ponteiro: 10\n",
      "Dados lidos: uma b\n"
     ]
    }
   ],
   "source": [
    "# Python 2\n",
    "ala.seek(10)\n",
    "posicao = ala.tell()\n",
    "print \"Posição a partir do início do arquivo:\", posicao\n",
    "print \"Dados lidos:\", ala.read(5)\n",
    "\n",
    "ala.seek(-5,1)\n",
    "posicao = ala.tell()\n",
    "print \"Posição a partir da posição corrente do ponteiro:\", posicao  # deve ser 10\n",
    "print \"Dados lidos:\", ala.read(5)"
   ]
  },
  {
   "cell_type": "code",
   "execution_count": 28,
   "metadata": {},
   "outputs": [
    {
     "name": "stdout",
     "output_type": "stream",
     "text": [
      "Dados lidos:  Python é uma boa linguagem.\n",
      "Não é mesmo? final.\n"
     ]
    }
   ],
   "source": [
    "# Python 2\n",
    "posicao = ala.seek(0,2)\n",
    "msg = ala.write(\" final.\")\n",
    "\n",
    "ala.seek(0)\n",
    "msg = ala.read(100)\n",
    "print \"Dados lidos: \", msg\n",
    "ala.close()                                 # fecha arquivo aberto"
   ]
  },
  {
   "cell_type": "markdown",
   "metadata": {},
   "source": [
    "#### Exemplo - Cópia de Arquivo\n",
    "Considere um arquivo chamado `'motivos.txt'` disponível no diretório `'arq'` com o seguinte conteúdo:  "
   ]
  },
  {
   "cell_type": "raw",
   "metadata": {},
   "source": [
    "Cinco motivos para se aprender Python:\n",
    "- Fácil aprendizagem, principalmente para iniciantes\n",
    "- Versatilidade\n",
    "- Multiplataforma\n",
    "- Comunidade crescente\n",
    "- Mercado de trabalho"
   ]
  },
  {
   "cell_type": "code",
   "execution_count": 9,
   "metadata": {},
   "outputs": [
    {
     "name": "stdout",
     "output_type": "stream",
     "text": [
      " O volume na unidade E ‚ Dados\n",
      " O N£mero de S‚rie do Volume ‚ 6026-232F\n",
      "\n",
      " Pasta de E:\\python\\curso_ifg\\jun19\\1_Basic\\arq\n",
      "\n",
      "29/06/2019  08:58    <DIR>          .\n",
      "29/06/2019  08:58    <DIR>          ..\n",
      "29/06/2019  08:55               175 motivos.txt\n",
      "29/06/2019  08:58               175 motivos2.txt\n",
      "               2 arquivo(s)            350 bytes\n",
      "               2 pasta(s)   14.321.639.424 bytes dispon¡veis\n"
     ]
    }
   ],
   "source": [
    "# usando o comando mágico \"!\" para mostrar o arquivo 'motivos.txt' no diretório 'arq'\n",
    "!dir arq"
   ]
  },
  {
   "cell_type": "code",
   "execution_count": 10,
   "metadata": {},
   "outputs": [
    {
     "name": "stdout",
     "output_type": "stream",
     "text": [
      "Cinco motivos para se aprender Python:\n",
      "- Fácil aprendizagem, principalmente para iniciantes\n",
      "- Versatilidade\n",
      "- Multiplataforma\n",
      "- Comunidade crescente\n",
      "- Mercado de trabalho\n"
     ]
    }
   ],
   "source": [
    "# usando o comando mágico \"!\" para mostrar o conteúdo do arquivo 'motivos.txt' no diretório 'arq'\n",
    "!type arq\\motivos.txt"
   ]
  },
  {
   "cell_type": "markdown",
   "metadata": {},
   "source": [
    "Pode-se copiar esse arquivo usando o seguinte _script_, usando gerenciadores de contexto:"
   ]
  },
  {
   "cell_type": "code",
   "execution_count": 29,
   "metadata": {},
   "outputs": [
    {
     "name": "stdout",
     "output_type": "stream",
     "text": [
      "Arquivo copiado!\n"
     ]
    }
   ],
   "source": [
    "# Python 2 ou 3\n",
    "with open('arq/motivos.txt','r') as al:          # arquivo de leitura: al\n",
    "    with open('arq/motivos2.txt','w') as ac:     # arquivo cópia: ac\n",
    "        for linha in al:\n",
    "            ac.write(linha)\n",
    "print('Arquivo copiado!')"
   ]
  },
  {
   "cell_type": "code",
   "execution_count": 8,
   "metadata": {
    "scrolled": true
   },
   "outputs": [
    {
     "name": "stdout",
     "output_type": "stream",
     "text": [
      " O volume na unidade E ‚ Dados\n",
      " O N£mero de S‚rie do Volume ‚ 6026-232F\n",
      "\n",
      " Pasta de E:\\python\\curso_ifg\\jun19\\1_Basic\\arq\n",
      "\n",
      "29/06/2019  08:58    <DIR>          .\n",
      "29/06/2019  08:58    <DIR>          ..\n",
      "29/06/2019  08:55               175 motivos.txt\n",
      "29/06/2019  08:58               175 motivos2.txt\n",
      "               2 arquivo(s)            350 bytes\n",
      "               2 pasta(s)   14.321.639.424 bytes dispon¡veis\n"
     ]
    }
   ],
   "source": [
    "# Visualizando o diretório após a cópia do arquivo...\n",
    "!dir arq"
   ]
  },
  {
   "cell_type": "code",
   "execution_count": 30,
   "metadata": {},
   "outputs": [
    {
     "name": "stdout",
     "output_type": "stream",
     "text": [
      "Cinco motivos para se aprender Python:\n",
      "- Fácil aprendizagem, principalmente para iniciantes\n",
      "- Versatilidade\n",
      "- Multiplataforma\n",
      "- Comunidade crescente\n",
      "- Mercado de trabalho\n",
      "- - - - - - - - - - - - - - - - - - - - - - - - - - - - - - \n",
      "Cinco motivos para se aprender Python:\n",
      "- F�cil aprendizagem, principalmente para iniciantes\n",
      "- Versatilidade\n",
      "- Multiplataforma\n",
      "- Comunidade crescente\n",
      "- Mercado de trabalho\n"
     ]
    }
   ],
   "source": [
    "# Podemos visualizar o conteúdo do arquivo copiado, 'motivos2.txt', com um comando mágico:\n",
    "!type arq\\motivos2.txt\n",
    "print(30*'- ')\n",
    "\n",
    "# ou com o seguinte script:\n",
    "with open('arq/motivos2.txt','r') as al: print(al.read())"
   ]
  },
  {
   "cell_type": "markdown",
   "metadata": {},
   "source": [
    "#### <font color=red> Exercícios</font>\n",
    "1.  Faça um _script_ para copiar o arquivo imagem `'apolloLM.jpg'` disponível no diretório `'img'`. **Dica**: as informações de um arquivo imagem são do tipo <tt>'byte'</tt> e portanto os arquivos devem ser abertos com modos `'rb'` e `'wb'`.\n",
    "2.\tFaça um _script_ para criar uma agenda de compromissos, para a qual as seguintes informações: <tt>evento, dia, horário, local, obs</tt> devem ser cadastradas para cada compromisso. O usuário deve conseguir **inserir, alterar, excluir** compromissos (um a um) e **visualizar** compromisso(s) do dia, da semana e do mês.\n",
    "3.\tFaça um _script_ para cadastrar ofertas de produtos de um supermercado, armazenando as seguintes informações: loja, produto (categoria, descrição, quantidade, unidade de medida, preços (compra, venda), oferta (data, pr_venda). Usuário deve inserir, alterar, excluir e visualizar oferta(s) do dia, classificadas por categoria."
   ]
  },
  {
   "cell_type": "markdown",
   "metadata": {},
   "source": [
    "<p style=\"text-align:right;\"><a href=\"#topo\">Volta ao topo</a>"
   ]
  },
  {
   "cell_type": "markdown",
   "metadata": {},
   "source": [
    "<a id=\"14.\"></a>\n",
    "## 14. Exceções\te Afirmações\n",
    "Existem pelo menos dois tipos de erros no ambiente Python: **erro de sintaxe** e **exceção**. \n",
    "O **erro de sintaxe** (ou erros de análise de comandos) é talvez o tipo mais comum de queixa que você emite enquanto ainda está aprendendo Python... \n",
    "\n",
    "Exemplo:"
   ]
  },
  {
   "cell_type": "code",
   "execution_count": 32,
   "metadata": {},
   "outputs": [
    {
     "ename": "SyntaxError",
     "evalue": "invalid syntax (<ipython-input-32-87563a47f7ef>, line 1)",
     "output_type": "error",
     "traceback": [
      "\u001b[1;36m  File \u001b[1;32m\"<ipython-input-32-87563a47f7ef>\"\u001b[1;36m, line \u001b[1;32m1\u001b[0m\n\u001b[1;33m    while True print 'Hello world'\u001b[0m\n\u001b[1;37m                   ^\u001b[0m\n\u001b[1;31mSyntaxError\u001b[0m\u001b[1;31m:\u001b[0m invalid syntax\n"
     ]
    }
   ],
   "source": [
    "while True print 'Hello world'"
   ]
  },
  {
   "cell_type": "markdown",
   "metadata": {},
   "source": [
    "No exemplo anterior, foi detectado um erro de sintaxe na palavra-chave `print`, pois está faltando o caracter obrigatório na finalização do comando `while`, dois pontos `':'`, depois da constante booleana `True`.\n",
    "\n",
    "Mesmo estando sintaticamente correta, uma instrução, ou expressão, poderá causar um erro quando for executada. Erros detectados durante a execução são chamados de **exceções** e não são obrigatoriamente fatais, ou seja, é plenamente possível contorna o problema causador da exceção e continuar com o _script_ sem a interrupção do mesmo. A maioria das exceções não é tratada pelos programas, e resultam em mensagens de erro:"
   ]
  },
  {
   "cell_type": "code",
   "execution_count": 33,
   "metadata": {},
   "outputs": [
    {
     "ename": "ZeroDivisionError",
     "evalue": "integer division or modulo by zero",
     "output_type": "error",
     "traceback": [
      "\u001b[1;31m---------------------------------------------------------------------------\u001b[0m",
      "\u001b[1;31mZeroDivisionError\u001b[0m                         Traceback (most recent call last)",
      "\u001b[1;32m<ipython-input-33-0b280f36835c>\u001b[0m in \u001b[0;36m<module>\u001b[1;34m()\u001b[0m\n\u001b[1;32m----> 1\u001b[1;33m \u001b[1;36m10\u001b[0m \u001b[1;33m*\u001b[0m \u001b[1;33m(\u001b[0m\u001b[1;36m1\u001b[0m\u001b[1;33m/\u001b[0m\u001b[1;36m0\u001b[0m\u001b[1;33m)\u001b[0m\u001b[1;33m\u001b[0m\u001b[0m\n\u001b[0m",
      "\u001b[1;31mZeroDivisionError\u001b[0m: integer division or modulo by zero"
     ]
    }
   ],
   "source": [
    "10 * (1/0)"
   ]
  },
  {
   "cell_type": "code",
   "execution_count": 34,
   "metadata": {},
   "outputs": [
    {
     "ename": "NameError",
     "evalue": "name 'spam' is not defined",
     "output_type": "error",
     "traceback": [
      "\u001b[1;31m---------------------------------------------------------------------------\u001b[0m",
      "\u001b[1;31mNameError\u001b[0m                                 Traceback (most recent call last)",
      "\u001b[1;32m<ipython-input-34-c98bb92cdcac>\u001b[0m in \u001b[0;36m<module>\u001b[1;34m()\u001b[0m\n\u001b[1;32m----> 1\u001b[1;33m \u001b[1;36m4\u001b[0m \u001b[1;33m+\u001b[0m \u001b[0mspam\u001b[0m\u001b[1;33m*\u001b[0m\u001b[1;36m3\u001b[0m\u001b[1;33m\u001b[0m\u001b[0m\n\u001b[0m",
      "\u001b[1;31mNameError\u001b[0m: name 'spam' is not defined"
     ]
    }
   ],
   "source": [
    "4 + spam*3"
   ]
  },
  {
   "cell_type": "code",
   "execution_count": 35,
   "metadata": {},
   "outputs": [
    {
     "ename": "TypeError",
     "evalue": "cannot concatenate 'str' and 'int' objects",
     "output_type": "error",
     "traceback": [
      "\u001b[1;31m---------------------------------------------------------------------------\u001b[0m",
      "\u001b[1;31mTypeError\u001b[0m                                 Traceback (most recent call last)",
      "\u001b[1;32m<ipython-input-35-d2b23a1db757>\u001b[0m in \u001b[0;36m<module>\u001b[1;34m()\u001b[0m\n\u001b[1;32m----> 1\u001b[1;33m \u001b[1;34m'2'\u001b[0m \u001b[1;33m+\u001b[0m \u001b[1;36m2\u001b[0m\u001b[1;33m\u001b[0m\u001b[0m\n\u001b[0m",
      "\u001b[1;31mTypeError\u001b[0m: cannot concatenate 'str' and 'int' objects"
     ]
    }
   ],
   "source": [
    "'2' + 2"
   ]
  },
  {
   "cell_type": "markdown",
   "metadata": {},
   "source": [
    "O Python fornece dois recursos para lidar com situações de erro nos seus programas e para incluir comandos de depuração neles.\n",
    "- Manipulação de Exceção (***exception handling***) \n",
    "- Afirmações (***assertions***)"
   ]
  },
  {
   "cell_type": "markdown",
   "metadata": {},
   "source": [
    "### Exceção em Python\n",
    "<u>É um evento que ocorre durante a execução de um programa e que interrompe o fluxo normal de execução das instruções do programa</u>. \n",
    "\n",
    "Em geral, quando o interpretador Python encontra uma situação com a qual ele não consegue resolver, ele gera uma exceção. Uma **exceção** é um **objeto Python** que representa um erro. Quando um _script_ Python provoca uma exceção, ele deve tratar a exceção imediatamente, pois caso contrário, ele será encerrado e o _prompt_ do interpretador será mostrado.\n",
    "\n",
    "### Tratando uma Exceção \n",
    "Se o seu _script_ tiver algum código que possa provocar uma exceção, então você pode preparar seu programa para não ser interrompindo pela exceção, você deve colocar o código suspeito num bloco `try:`. Depois desse bloco inclua uma instrução `except:`, seguida por um bloco de código de tratamento do problema (contorna o problema) da maneira mais elegante possível.\n",
    "\n",
    "Sintaxe:  \n",
    "```python\n",
    "try:\n",
    "    código suspeito de provocar erro(s)  \n",
    "    ...  \n",
    "except Exception1:  \n",
    "    se existir Exception1, então execute este bloco.  \n",
    "    ...  \n",
    "except Exception2:  \n",
    "    se existir Exception2, então execute este bloco.  \n",
    "    ...  \n",
    "else:  \n",
    "    se não for nenhuma das exceções anteriores, então execute este bloco.  \n",
    "    ...\n",
    "\n",
    "```"
   ]
  },
  {
   "cell_type": "markdown",
   "metadata": {},
   "source": [
    "A instrução **try** funciona da seguinte maneira: \n",
    "- Os comandos da cláusula **try** (as sentenças entre as palavras-chave **try** e **except**) são executados. \n",
    "- Se não  ocorrer nenhuma exceção, as cláusulas **except/else** são ignoradas e a instrução **try** é concluída. \n",
    "- Se ocorrer uma exceção durante a execução da cláusula **try**, os comandos restantes da cláusula serão ignorados. Se o tipo da exceção corresponder à exceção nomeada após a palavra-chave **except**, a cláusula é executada e a cláusula **try** é encerrada. \n",
    "- Se ocorrer uma exceção que não corresponda à(s) exceção(ões) nomeadas na(s) cláusula(s) **except**, a execução é passada para as instruções **try** externas (se existirem); se nenhum manipulador for encontrado, então será considerada como exceção não tratada e a execução será interrompida com uma mensagem do interpretador.\n",
    "\n",
    "Exemplo:"
   ]
  },
  {
   "cell_type": "code",
   "execution_count": 2,
   "metadata": {},
   "outputs": [
    {
     "name": "stdout",
     "output_type": "stream",
     "text": [
      "Entre um valor numerico inteiro: 456.44\n",
      "Oops!  Isso nao e um número inteiro.  Tente novamente...\n",
      "Entre um valor numerico inteiro: 45q\n",
      "Oops!  Isso nao e um número inteiro.  Tente novamente...\n",
      "Entre um valor numerico inteiro: 45\n"
     ]
    }
   ],
   "source": [
    "# Python 2\n",
    "while True:\n",
    "    try:\n",
    "        x = int(raw_input(\"Entre um valor numerico inteiro: \"))\n",
    "        break\n",
    "    except ValueError:\n",
    "        print \"Oops!  Isso nao e um número inteiro.  Tente novamente...\""
   ]
  },
  {
   "cell_type": "code",
   "execution_count": 1,
   "metadata": {},
   "outputs": [
    {
     "name": "stdout",
     "output_type": "stream",
     "text": [
      "Entre um valor numérico inteiro: ola\n",
      "Oops!  Isso não é um número inteiro.  Tente novamente...\n",
      "Entre um valor numérico inteiro: 45.55\n",
      "Oops!  Isso não é um número inteiro.  Tente novamente...\n",
      "Entre um valor numérico inteiro: 45\n",
      "Parabéns!\n",
      "Segue o baile...\n"
     ]
    }
   ],
   "source": [
    "# Python 3\n",
    "while True:\n",
    "    try:\n",
    "        x = int(input(\"Entre um valor numérico inteiro: \"))\n",
    "        print(\"Parabéns!\")\n",
    "        break\n",
    "    except ValueError:\n",
    "        print(\"Oops!  Isso não é um número inteiro.  Tente novamente...\")\n",
    "print(\"Segue o baile...\")"
   ]
  },
  {
   "cell_type": "markdown",
   "metadata": {},
   "source": [
    "Exemplo: \n",
    "\n",
    "Abre um arquivo, grava algum conteúdo e sai corretamente, de modo que não haja qualquer problema."
   ]
  },
  {
   "cell_type": "code",
   "execution_count": 2,
   "metadata": {},
   "outputs": [
    {
     "name": "stdout",
     "output_type": "stream",
     "text": [
      "Conteúdo escrito no arquivo com sucesso.\n"
     ]
    }
   ],
   "source": [
    "# Python 3\n",
    "try:\n",
    "    ag = open(\"arqteste.txt\", \"w\")\n",
    "    ag.write(\"Arquivo teste para tratamento de exceção!!\")\n",
    "except IOError:\n",
    "    print(\"Erro: não pode encontrar arquivo, ou os dados de leitura.\")\n",
    "else:\n",
    "    print(\"Conteúdo escrito no arquivo com sucesso.\")\n",
    "ag.close()"
   ]
  },
  {
   "cell_type": "markdown",
   "metadata": {},
   "source": [
    "Exemplo:  \n",
    "\n",
    "Tentativa de abrir um arquivo inexistente para leitura, para gerar uma exceção."
   ]
  },
  {
   "cell_type": "code",
   "execution_count": 6,
   "metadata": {},
   "outputs": [
    {
     "name": "stdout",
     "output_type": "stream",
     "text": [
      "Erro: não se pode encontrar arquivo ou os dados de leitura.\n"
     ]
    }
   ],
   "source": [
    "try:\n",
    "    al = open(\"arqfantasma.txt\", \"r\")\n",
    "    al.read(10)\n",
    "    al.close()\n",
    "except IOError:\n",
    "    print(\"Erro: não se pode encontrar arquivo ou os dados de leitura.\")\n",
    "else:\n",
    "    print(\"Outro tipo de erro na manipulação do arquivo...\")"
   ]
  },
  {
   "cell_type": "markdown",
   "metadata": {},
   "source": [
    "Pode-se também usar a instrução except sem exceções definidas:\n",
    "\n",
    "```python\n",
    "try:\n",
    "    operação suspeita do seu script\n",
    "    ...\n",
    "except:\n",
    "    se existir alguma exceção, então execute este bloco.\n",
    "    ...\n",
    "else:\n",
    "    se não existir exceção então execute este bloco.\n",
    "    ...\n",
    "```\n",
    "Esse tipo de instrução **try-except** captura todas as exceções que ocorrem. O uso desse tipo de instrução não é considerada uma boa prática de programação, justamente por ela capturar todas as exceções, e não ajudar o programador a identificar a causa do problema que está ocorrendo...\n",
    "\n",
    "Outra possibilidade para a instrução except é usar várias exceções numa única cláusula:\n",
    "\n",
    "```python\n",
    "try:\n",
    "    operação suspeita do seu script\n",
    "    ...\n",
    "except (Excecao1[, Excecao2[, ... ExcecaoN]]]):\n",
    "    se for uma das exceções da lista, então execute este bloco.\n",
    "    ...\n",
    "else:\n",
    "    se não existir exceção então execute este bloco.\n",
    "    ...\n",
    "```\n",
    "\n",
    "Você pode usar um bloco de comandos da sub-cláusula **finally** da cláusula **try**. No bloco **finally** coloca-se qualquer código que deve ser executado de qualquer forma, quer o bloco de teste (**try**) tenha gerado uma exceção ou não."
   ]
  },
  {
   "cell_type": "code",
   "execution_count": 7,
   "metadata": {},
   "outputs": [
    {
     "name": "stdout",
     "output_type": "stream",
     "text": [
      "Erro: arquivo ou dados não localizados!!\n"
     ]
    }
   ],
   "source": [
    "# Python 3\n",
    "try:\n",
    "    ag = open(\"arqteste.txt\", \"w\")\n",
    "    ag.write(\"Teste de gravação em arquivo p/ tratamento de exceção!!\")\n",
    "finally:\n",
    "   print(\"Erro: arquivo ou dados não localizados!!\")"
   ]
  },
  {
   "cell_type": "markdown",
   "metadata": {},
   "source": [
    "Quando uma exceção é gerada por uma instrução dentro do bloco **try**, a execução passa imediatamente para o bloco **finally** e depois a exceção é levantada novamente e tratada nas instruções **except**, se presentes na próxima camada superior da instrução **try-except**."
   ]
  },
  {
   "cell_type": "code",
   "execution_count": 10,
   "metadata": {},
   "outputs": [
    {
     "name": "stdout",
     "output_type": "stream",
     "text": [
      "Fechando o arquivo...\n"
     ]
    }
   ],
   "source": [
    "# Python 3\n",
    "try:\n",
    "    ag = open(\"arqteste.txt\", \"w\")\n",
    "    try:\n",
    "        ag.write(\"Teste de gravação em arquivo, para tratamento de exceção!!\")\n",
    "    finally:\n",
    "        print(\"Fechando o arquivo...\")\n",
    "        ag.close()\n",
    "except IOError:\n",
    "    print(\"Erro: não se pode encontrar arquivo ou os dados de leitura.\")"
   ]
  },
  {
   "cell_type": "markdown",
   "metadata": {},
   "source": [
    "Você pode gerar exceções arbitrariamente, ou seja, quando precisar e de várias maneiras, usando a instrução `raise`.  \n",
    "\n",
    "Sintaxe: `raise [exc [, args [, traceback]]]`  \n",
    "\n",
    "onde: \n",
    "> `exc` - é o tipo de exceção (por exemplo, `NameError`) \n",
    "> `args` - são os possíveis argumentos da exceção (opcionais - se não forem fornecidos será assumido como `None`). \n",
    "> `traceback` - também é opcional (e raramente usado na prática) - se presente, será o objeto `traceback` usado na exceção.  \n",
    "\n",
    "Exemplo:  \n",
    "\n",
    "Uma exceção pode ser uma string, uma classe ou um objeto. A maioria das exceções que o núcleo do Python gera são classes, com um argumento que é uma instância da classe. Definir novas exceções é muito fácil e pode ser feito da seguinte maneira:"
   ]
  },
  {
   "cell_type": "code",
   "execution_count": 11,
   "metadata": {},
   "outputs": [
    {
     "ename": "Exception",
     "evalue": "Nível não permitido!",
     "output_type": "error",
     "traceback": [
      "\u001b[1;31m---------------------------------------------------------------------------\u001b[0m",
      "\u001b[1;31mException\u001b[0m                                 Traceback (most recent call last)",
      "\u001b[1;32m<ipython-input-11-1a9dd6819a69>\u001b[0m in \u001b[0;36m<module>\u001b[1;34m\u001b[0m\n\u001b[0;32m      4\u001b[0m \u001b[1;31m# O código abaixo desse trecho não será executado se a exceção for gerada\u001b[0m\u001b[1;33m\u001b[0m\u001b[1;33m\u001b[0m\u001b[1;33m\u001b[0m\u001b[0m\n\u001b[0;32m      5\u001b[0m \u001b[1;33m\u001b[0m\u001b[0m\n\u001b[1;32m----> 6\u001b[1;33m \u001b[0mnomeFuncao\u001b[0m\u001b[1;33m(\u001b[0m\u001b[1;33m-\u001b[0m\u001b[1;36m2\u001b[0m\u001b[1;33m)\u001b[0m\u001b[1;33m\u001b[0m\u001b[1;33m\u001b[0m\u001b[0m\n\u001b[0m",
      "\u001b[1;32m<ipython-input-11-1a9dd6819a69>\u001b[0m in \u001b[0;36mnomeFuncao\u001b[1;34m(nivel)\u001b[0m\n\u001b[0;32m      1\u001b[0m \u001b[1;32mdef\u001b[0m \u001b[0mnomeFuncao\u001b[0m\u001b[1;33m(\u001b[0m\u001b[0mnivel\u001b[0m\u001b[1;33m)\u001b[0m\u001b[1;33m:\u001b[0m\u001b[1;33m\u001b[0m\u001b[1;33m\u001b[0m\u001b[0m\n\u001b[0;32m      2\u001b[0m     \u001b[1;32mif\u001b[0m \u001b[0mnivel\u001b[0m \u001b[1;33m<\u001b[0m \u001b[1;36m1\u001b[0m\u001b[1;33m:\u001b[0m\u001b[1;33m\u001b[0m\u001b[1;33m\u001b[0m\u001b[0m\n\u001b[1;32m----> 3\u001b[1;33m         \u001b[1;32mraise\u001b[0m \u001b[0mException\u001b[0m\u001b[1;33m(\u001b[0m\u001b[1;34m\"Nível não permitido!\"\u001b[0m\u001b[1;33m)\u001b[0m\u001b[1;33m\u001b[0m\u001b[1;33m\u001b[0m\u001b[0m\n\u001b[0m\u001b[0;32m      4\u001b[0m \u001b[1;31m# O código abaixo desse trecho não será executado se a exceção for gerada\u001b[0m\u001b[1;33m\u001b[0m\u001b[1;33m\u001b[0m\u001b[1;33m\u001b[0m\u001b[0m\n\u001b[0;32m      5\u001b[0m \u001b[1;33m\u001b[0m\u001b[0m\n",
      "\u001b[1;31mException\u001b[0m: Nível não permitido!"
     ]
    }
   ],
   "source": [
    "def nomeFuncao(nivel):\n",
    "    if nivel < 1:\n",
    "        raise Exception(\"Nível não permitido!\")\n",
    "# O código abaixo desse trecho não será executado se a exceção for gerada\n",
    "\n",
    "nomeFuncao(-2)"
   ]
  },
  {
   "cell_type": "markdown",
   "metadata": {},
   "source": [
    "**Obs**: Para capturar uma exceção, uma cláusula **except** deve referir-se à mesma exceção lançada como objeto de classe ou _string_. Por exemplo, para capturar a exceção definida acima, devemos escrever a cláusula **except** da seguinte forma:\n",
    "\n",
    "```python\n",
    "try:\n",
    "    comandos suspeitos\n",
    "    ....\n",
    "except Exception(\"Nível não permitido!\"):\n",
    "    tratamento da exceção aqui...\n",
    "else:\n",
    "    resto do código aqui...\n",
    "```"
   ]
  },
  {
   "cell_type": "markdown",
   "metadata": {},
   "source": [
    "### Exceções padronizadas no Python\n",
    "|    N.    |    Exceção                |    Motivo da Ocorrência                                                          |\n",
    "|----------|---------------------------|----------------------------------------------------------------------------------|\n",
    "|    1     |    Exception              |    Classe base para todas   as exceções                                          |\n",
    "|    2     |    StopIteration          |    O método next() de um iterador não aponta para   nenhum objeto.               |\n",
    "|    3     |    SystemExit             |    Função sys.exit().                                                            |\n",
    "|    4     |    StandardError          |    Classe base para todas   as exceções internas, exceto StopIteration   e SystemExit.|\n",
    "|    5     |    ArithmeticError        |    Classe base para todos   os erros que ocorrem no cálculo numérico.            |\n",
    "|    6     |    OverflowError          |    Um cálculo excede o   limite máximo de um tipo numérico.                      |\n",
    "|    7     |    FloatingPointError     |    Um cálculo de ponto   flutuante falha.                                        |\n",
    "|    8     |    ZeroDivisionError      |    Uma divisão ou módulo   por zero (para todos os tipos numéricos).             |\n",
    "|    9     |    AssertionError         |    Em caso de falha da   declaração do Assert.                                   |\n",
    "|    10    |    AttributeError         |    Em caso de falha de   referência a atributo.                                  |\n",
    "|    11    |    EOFError               |    Não há entrada para   função raw_input() ou input() e o final do arquivo é   atingido.|\n",
    "|    12    |    ImportError            |    Uma declaração de   importação falha.                                         |\n",
    "|    13    |    KeyboardInterrupt      |    O usuário interrompe a   execução do programa: [Ctrl]+[C].                    |\n",
    "|    14    |    LookupError            |    Classe base para todos   os erros de pesquisa.                                |\n",
    "|    15    |    IndexError             |    Um índice não é   encontrado em uma sequência.                                |\n",
    "|    16    |    KeyError               |    A chave especificada   não é encontrada no dicionário.                        |\n",
    "|    17    |    NameError              |    Um identificador não é   encontrado no espaço de nomes local/global.          |\n",
    "|    18    |    UnboundLocalError      |    Ao tentar acessar uma   variável local em uma função ou método, mas nenhum valor foi atribuído a ela.|\n",
    "|    19    |    EnvironmentError       |    Classe base p/ todas   exceções que ocorrem fora do ambiente Python.          |\n",
    "|    20    |    IOError                |    Uma operação de   entrada/saída falha, como a instrução print   ou a função open() ao tentar abrir   um arquivo que não existe.       |\n",
    "|    21    |    IOError                |    Por erros relacionados   ao sistema operacional.                              |\n",
    "|    22    |    SyntaxError            |    Há um erro na sintaxe   do Python.                                            |\n",
    "|    23    |    IndentationError       |    O recuo não é   especificado corretamente.                                    |\n",
    "|    24    |    SystemError            |    O interpretador   encontra um problema interno, mas quando esse erro é encontrado, o   interpretador Python não sai.                  |\n",
    "|    25    |    SystemExit             |    O interpretador Python   é encerrado usando a função sys.exit().   Se não for tratado no código, faz com que o intérprete saia.       |\n",
    "|    26    |    TypeError              |    Uma operação/função   tentada é inválida para o tipo de dado indicado         |\n",
    "|    27    |    ValueError             |    A função interna de um   tipo de dado possui o tipo válido de argumentos, mas os argumentos têm   valores inválidos especificados.    |\n",
    "|    28    |    RuntimeError           |    Um erro gerado não se   enquadra em nenhuma categoria.                        |\n",
    "|    29    |    NotImplementedError    |    Um método abstrato de uma   classe herdada não foi implementado.              |"
   ]
  },
  {
   "cell_type": "markdown",
   "metadata": {},
   "source": [
    "### Afirmações \n",
    "Uma afirmação <u>é uma verificação de sanidade do seu _script_, que você ativa durante o desenvolvimento do programa e desativa quando terminar de testar o programa</u>.  \n",
    "\n",
    "A maneira mais fácil de pensar numa afirmação é compará-la a uma declaração `raise-if` (gera - se) ou, para ser mais preciso, a uma declaração `raise-if-not` (gera - se - não). Uma expressão é testada e se o resultado for falso, então uma exceção é gerada (_raised_, do inglês: levantada). \n",
    "\n",
    "As afirmações são executadas pela instrução **assert**, a mais nova palavra-chave para o Python, introduzida na versão 1.5. Os programadores costumam colocar afirmações no início de uma função para verificar se há uma entrada válida e depois de uma chamada de função para verificar se a saída é válida.\n",
    "\n",
    "Sintaxe:  <tt> assert expressao[, argumentos]</tt>\n",
    "\n",
    "Quando uma declaração de afirmação é encontrada, o Python avalia sua expressão (espera-se que o resultado dessa avaliação seja verdadeira para que o fluxo de execução siga seu curso normalmente). Se a expressão for falsa, o Python gerará a exceção **AssertionError**.\n",
    "\n",
    "Essas exceções podem ser capturadas e tratadas como qualquer outra exceção usando a instrução **try-except**, mas se não forem tratadas, elas encerrarão o programa e produzirão um *traceback*.\n",
    "\n",
    "Exemplo:  \n",
    "\n",
    "Dado uma função que converte temperatura em Kelvin para graus Fahrenheit. Como zero Kelvin é definido como a temperatura mais baixa possível, a função não deve aceitar uma temperatura negativa."
   ]
  },
  {
   "cell_type": "code",
   "execution_count": 13,
   "metadata": {},
   "outputs": [
    {
     "name": "stdout",
     "output_type": "stream",
     "text": [
      "32.0\n",
      "451\n"
     ]
    },
    {
     "ename": "AssertionError",
     "evalue": "Mais frio que o zero absoluto?!",
     "output_type": "error",
     "traceback": [
      "\u001b[1;31m---------------------------------------------------------------------------\u001b[0m",
      "\u001b[1;31mAssertionError\u001b[0m                            Traceback (most recent call last)",
      "\u001b[1;32m<ipython-input-13-25fdfc1faba4>\u001b[0m in \u001b[0;36m<module>\u001b[1;34m\u001b[0m\n\u001b[0;32m      5\u001b[0m \u001b[0mprint\u001b[0m\u001b[1;33m(\u001b[0m\u001b[0mKelvin2Fahrenheit\u001b[0m\u001b[1;33m(\u001b[0m\u001b[1;36m273\u001b[0m\u001b[1;33m)\u001b[0m\u001b[1;33m)\u001b[0m\u001b[1;33m\u001b[0m\u001b[1;33m\u001b[0m\u001b[0m\n\u001b[0;32m      6\u001b[0m \u001b[0mprint\u001b[0m\u001b[1;33m(\u001b[0m\u001b[0mint\u001b[0m\u001b[1;33m(\u001b[0m\u001b[0mKelvin2Fahrenheit\u001b[0m\u001b[1;33m(\u001b[0m\u001b[1;36m505.78\u001b[0m\u001b[1;33m)\u001b[0m\u001b[1;33m)\u001b[0m\u001b[1;33m)\u001b[0m\u001b[1;33m\u001b[0m\u001b[1;33m\u001b[0m\u001b[0m\n\u001b[1;32m----> 7\u001b[1;33m \u001b[0mprint\u001b[0m\u001b[1;33m(\u001b[0m\u001b[0mKelvin2Fahrenheit\u001b[0m\u001b[1;33m(\u001b[0m\u001b[1;33m-\u001b[0m\u001b[1;36m5\u001b[0m\u001b[1;33m)\u001b[0m\u001b[1;33m)\u001b[0m\u001b[1;33m\u001b[0m\u001b[1;33m\u001b[0m\u001b[0m\n\u001b[0m",
      "\u001b[1;32m<ipython-input-13-25fdfc1faba4>\u001b[0m in \u001b[0;36mKelvin2Fahrenheit\u001b[1;34m(Temperature)\u001b[0m\n\u001b[0;32m      1\u001b[0m \u001b[1;32mdef\u001b[0m \u001b[0mKelvin2Fahrenheit\u001b[0m\u001b[1;33m(\u001b[0m\u001b[0mTemperature\u001b[0m\u001b[1;33m)\u001b[0m\u001b[1;33m:\u001b[0m\u001b[1;33m\u001b[0m\u001b[1;33m\u001b[0m\u001b[0m\n\u001b[1;32m----> 2\u001b[1;33m     \u001b[1;32massert\u001b[0m \u001b[1;33m(\u001b[0m\u001b[0mTemperature\u001b[0m \u001b[1;33m>=\u001b[0m \u001b[1;36m0\u001b[0m\u001b[1;33m)\u001b[0m\u001b[1;33m,\u001b[0m \u001b[1;34m\"Mais frio que o zero absoluto?!\"\u001b[0m\u001b[1;33m\u001b[0m\u001b[1;33m\u001b[0m\u001b[0m\n\u001b[0m\u001b[0;32m      3\u001b[0m     \u001b[1;32mreturn\u001b[0m \u001b[1;33m(\u001b[0m\u001b[1;33m(\u001b[0m\u001b[0mTemperature\u001b[0m\u001b[1;33m-\u001b[0m\u001b[1;36m273\u001b[0m\u001b[1;33m)\u001b[0m \u001b[1;33m*\u001b[0m \u001b[1;36m1.8\u001b[0m\u001b[1;33m)\u001b[0m \u001b[1;33m+\u001b[0m \u001b[1;36m32\u001b[0m\u001b[1;33m\u001b[0m\u001b[1;33m\u001b[0m\u001b[0m\n\u001b[0;32m      4\u001b[0m \u001b[1;33m\u001b[0m\u001b[0m\n\u001b[0;32m      5\u001b[0m \u001b[0mprint\u001b[0m\u001b[1;33m(\u001b[0m\u001b[0mKelvin2Fahrenheit\u001b[0m\u001b[1;33m(\u001b[0m\u001b[1;36m273\u001b[0m\u001b[1;33m)\u001b[0m\u001b[1;33m)\u001b[0m\u001b[1;33m\u001b[0m\u001b[1;33m\u001b[0m\u001b[0m\n",
      "\u001b[1;31mAssertionError\u001b[0m: Mais frio que o zero absoluto?!"
     ]
    }
   ],
   "source": [
    "def Kelvin2Fahrenheit(Temperature):\n",
    "    assert (Temperature >= 0), \"Mais frio que o zero absoluto?!\"\n",
    "    return ((Temperature-273) * 1.8) + 32\n",
    "\n",
    "print(Kelvin2Fahrenheit(273))\n",
    "print(int(Kelvin2Fahrenheit(505.78)))\n",
    "print(Kelvin2Fahrenheit(-5))"
   ]
  },
  {
   "cell_type": "markdown",
   "metadata": {},
   "source": [
    "Uso da instrução **assert** em Python:\n",
    "- Na verificação de tipos e de entrada válida. \n",
    "- Na verificação de valores de argumentos. \n",
    "- Verificação de saídas de funções. \n",
    "- Como um depurador para interromper o programa onde ocorre um erro. \n",
    "- No teste do código. \n",
    "\n",
    "Exemplo:"
   ]
  },
  {
   "cell_type": "code",
   "execution_count": 15,
   "metadata": {},
   "outputs": [
    {
     "data": {
      "text/plain": [
       "0.6666666666666666"
      ]
     },
     "execution_count": 15,
     "metadata": {},
     "output_type": "execute_result"
    }
   ],
   "source": [
    "def div(p,q):\n",
    "    assert q!=0, \"Dividindo por zero! Como é isso?\"\n",
    "    return p/q\n",
    "\n",
    "div(2,3)"
   ]
  },
  {
   "cell_type": "code",
   "execution_count": 16,
   "metadata": {},
   "outputs": [
    {
     "ename": "AssertionError",
     "evalue": "Dividindo por zero! Como é isso?",
     "output_type": "error",
     "traceback": [
      "\u001b[1;31m---------------------------------------------------------------------------\u001b[0m",
      "\u001b[1;31mAssertionError\u001b[0m                            Traceback (most recent call last)",
      "\u001b[1;32m<ipython-input-16-05e0cf01e79e>\u001b[0m in \u001b[0;36m<module>\u001b[1;34m\u001b[0m\n\u001b[1;32m----> 1\u001b[1;33m \u001b[0mdiv\u001b[0m\u001b[1;33m(\u001b[0m\u001b[1;36m2\u001b[0m\u001b[1;33m,\u001b[0m\u001b[1;36m0\u001b[0m\u001b[1;33m)\u001b[0m\u001b[1;33m\u001b[0m\u001b[1;33m\u001b[0m\u001b[0m\n\u001b[0m",
      "\u001b[1;32m<ipython-input-15-86fa2ebb4f89>\u001b[0m in \u001b[0;36mdiv\u001b[1;34m(p, q)\u001b[0m\n\u001b[0;32m      1\u001b[0m \u001b[1;32mdef\u001b[0m \u001b[0mdiv\u001b[0m\u001b[1;33m(\u001b[0m\u001b[0mp\u001b[0m\u001b[1;33m,\u001b[0m\u001b[0mq\u001b[0m\u001b[1;33m)\u001b[0m\u001b[1;33m:\u001b[0m\u001b[1;33m\u001b[0m\u001b[1;33m\u001b[0m\u001b[0m\n\u001b[1;32m----> 2\u001b[1;33m     \u001b[1;32massert\u001b[0m \u001b[0mq\u001b[0m\u001b[1;33m!=\u001b[0m\u001b[1;36m0\u001b[0m\u001b[1;33m,\u001b[0m \u001b[1;34m\"Dividindo por zero! Como é isso?\"\u001b[0m\u001b[1;33m\u001b[0m\u001b[1;33m\u001b[0m\u001b[0m\n\u001b[0m\u001b[0;32m      3\u001b[0m     \u001b[1;32mreturn\u001b[0m \u001b[0mp\u001b[0m\u001b[1;33m/\u001b[0m\u001b[0mq\u001b[0m\u001b[1;33m\u001b[0m\u001b[1;33m\u001b[0m\u001b[0m\n\u001b[0;32m      4\u001b[0m \u001b[1;33m\u001b[0m\u001b[0m\n\u001b[0;32m      5\u001b[0m \u001b[0mdiv\u001b[0m\u001b[1;33m(\u001b[0m\u001b[1;36m2\u001b[0m\u001b[1;33m,\u001b[0m\u001b[1;36m3\u001b[0m\u001b[1;33m)\u001b[0m\u001b[1;33m\u001b[0m\u001b[1;33m\u001b[0m\u001b[0m\n",
      "\u001b[1;31mAssertionError\u001b[0m: Dividindo por zero! Como é isso?"
     ]
    }
   ],
   "source": [
    "div(2,0)"
   ]
  },
  {
   "cell_type": "markdown",
   "metadata": {},
   "source": [
    "Exercícios:\n",
    "\n",
    "1.\tCrie uma função que converta temperaturas em Kelvin para Celsius, tal como no exemplo anterior.\n",
    "\n",
    "2.\tCrie uma função que calcule a velocidade média de um automóvel, dados a distância (m) e o tempo (s) gasto para percorrê-la. Use afirmação.\n"
   ]
  },
  {
   "cell_type": "markdown",
   "metadata": {},
   "source": [
    "<p style=\"text-align:right;\"><a href=\"#topo\">Volta ao topo</a>"
   ]
  },
  {
   "cell_type": "markdown",
   "metadata": {},
   "source": [
    "## Modelo de Dados\n",
    "### Objetos, Valores e Tipos \n",
    "Objetos são abstrações do Python para armazenar dados. Todos os dados num programa Python são representados por objetos ou por relações entre objetos. Todo objeto tem uma __identidade__, um __tipo__ e um __valor__. A identidade de um objeto nunca muda depois de criada. Pode-se pensar nisso como sendo o endereço do objeto na memória. O operador `is` compara a identidade de dois objetos e a função `id()` retorna um inteiro representando a identidade do objeto.\n",
    "\n",
    "O tipo de um objeto determina as operações que o objeto suporta (por exemplo, \"ele tem um comprimento?\") E também define os valores possíveis para objetos desse tipo. A função type () retorna o tipo de objeto (que é um objeto em si). Como sua identidade, o tipo de objeto também é imutável. 1 "
   ]
  },
  {
   "cell_type": "markdown",
   "metadata": {},
   "source": [
    "O valor de alguns objetos pode mudar. Objetos cujo valor pode mudar são considerados mutáveis; objetos cujo valor é imutável depois de criados são chamados de imutáveis. (O valor de um objeto contêiner imutável que contém uma referência a um objeto mutável pode mudar quando o valor deste é alterado; no entanto, o contêiner ainda é considerado imutável, porque a coleção de objetos que ele contém não pode ser alterada. o mesmo que ter um valor imutável, é mais sutil.) A mutabilidade de um objeto é determinada por seu tipo; por exemplo, números, strings e tuplas são imutáveis, enquanto dicionários e listas são mutáveis. \n",
    "\n",
    "Objetos nunca são explicitamente destruídos; no entanto, quando eles se tornam inacessíveis, eles podem ser coletados como lixo. Uma implementação tem permissão para adiar a coleta de lixo ou omiti-la completamente - é uma questão de qualidade da implementação como a coleta de lixo é implementada, desde que nenhum objeto seja coletado e que ainda esteja acessível."
   ]
  },
  {
   "cell_type": "markdown",
   "metadata": {},
   "source": [
    "<p style=\"text-align:right;\"><a href=\"#topo\">Volta ao topo</a>"
   ]
  },
  {
   "cell_type": "markdown",
   "metadata": {},
   "source": [
    "### Gabaritos"
   ]
  },
  {
   "cell_type": "code",
   "execution_count": 16,
   "metadata": {},
   "outputs": [
    {
     "name": "stdout",
     "output_type": "stream",
     "text": [
      " O volume na unidade E ‚ Dados\n",
      " O N£mero de S‚rie do Volume ‚ 6026-232F\n",
      "\n",
      " Pasta de E:\\python\\curso_ifg\\jun19\\1_Basic\\img\n",
      "\n",
      "29/06/2019  09:23    <DIR>          .\n",
      "29/06/2019  09:23    <DIR>          ..\n",
      "29/06/2019  09:23           128.843 apolloLM.jpg\n",
      "23/06/2019  00:41            16.423 diferencas.png\n",
      "21/06/2019  15:47             5.547 funcao.png\n",
      "21/06/2019  15:47            52.311 funcao2.png\n",
      "19/06/2019  12:01             5.404 matriz_esparsa.png\n",
      "14/06/2019  15:00            15.643 range(6).png\n",
      "25/05/2019  20:35             4.821 string.png\n",
      "               7 arquivo(s)        228.992 bytes\n",
      "               2 pasta(s)   14.321.500.160 bytes dispon¡veis\n",
      " O volume na unidade E ‚ Dados\n",
      " O N£mero de S‚rie do Volume ‚ 6026-232F\n",
      "\n",
      " Pasta de E:\\python\\curso_ifg\\jun19\\1_Basic\\img\n",
      "\n",
      "29/06/2019  09:28    <DIR>          .\n",
      "29/06/2019  09:28    <DIR>          ..\n",
      "29/06/2019  09:23           128.843 apolloLM.jpg\n",
      "29/06/2019  09:28           128.843 apolloLM2.jpg\n",
      "23/06/2019  00:41            16.423 diferencas.png\n",
      "21/06/2019  15:47             5.547 funcao.png\n",
      "21/06/2019  15:47            52.311 funcao2.png\n",
      "19/06/2019  12:01             5.404 matriz_esparsa.png\n",
      "14/06/2019  15:00            15.643 range(6).png\n",
      "25/05/2019  20:35             4.821 string.png\n",
      "               8 arquivo(s)        357.835 bytes\n",
      "               2 pasta(s)   14.321.369.088 bytes dispon¡veis\n"
     ]
    }
   ],
   "source": [
    "!dir img\n",
    "with open('img/apolloLM.jpg','rb') as al:          # arquivo de leitura: al\n",
    "    with open('img/apolloLM2.jpg','wb') as ac:     # arquivo cópia: ac\n",
    "        for linha in al:\n",
    "            ac.write(linha)\n",
    "!dir img"
   ]
  },
  {
   "cell_type": "code",
   "execution_count": 23,
   "metadata": {},
   "outputs": [
    {
     "name": "stdout",
     "output_type": "stream",
     "text": [
      " O volume na unidade E ‚ Dados\n",
      " O N£mero de S‚rie do Volume ‚ 6026-232F\n",
      "\n",
      " Pasta de E:\\python\\curso_ifg\\jun19\\1_Basic\\img\n",
      "\n",
      "29/06/2019  09:45    <DIR>          .\n",
      "29/06/2019  09:45    <DIR>          ..\n",
      "29/06/2019  09:23           128.843 apolloLM.jpg\n",
      "23/06/2019  00:41            16.423 diferencas.png\n",
      "21/06/2019  15:47             5.547 funcao.png\n",
      "21/06/2019  15:47            52.311 funcao2.png\n",
      "19/06/2019  12:01             5.404 matriz_esparsa.png\n",
      "14/06/2019  15:00            15.643 range(6).png\n",
      "25/05/2019  20:35             4.821 string.png\n",
      "               7 arquivo(s)        228.992 bytes\n",
      "               2 pasta(s)   14.321.479.680 bytes dispon¡veis\n",
      " O volume na unidade E ‚ Dados\n",
      " O N£mero de S‚rie do Volume ‚ 6026-232F\n",
      "\n",
      " Pasta de E:\\python\\curso_ifg\\jun19\\1_Basic\\img\n",
      "\n",
      "29/06/2019  09:45    <DIR>          .\n",
      "29/06/2019  09:45    <DIR>          ..\n",
      "29/06/2019  09:23           128.843 apolloLM.jpg\n",
      "29/06/2019  09:45           128.843 apolloLM2.jpg\n",
      "23/06/2019  00:41            16.423 diferencas.png\n",
      "21/06/2019  15:47             5.547 funcao.png\n",
      "21/06/2019  15:47            52.311 funcao2.png\n",
      "19/06/2019  12:01             5.404 matriz_esparsa.png\n",
      "14/06/2019  15:00            15.643 range(6).png\n",
      "25/05/2019  20:35             4.821 string.png\n",
      "               8 arquivo(s)        357.835 bytes\n",
      "               2 pasta(s)   14.321.348.608 bytes dispon¡veis\n"
     ]
    },
    {
     "data": {
      "image/jpeg": "[encoded data removed]",
      "text/plain": [
       "<IPython.core.display.Image object>"
      ]
     },
     "metadata": {},
     "output_type": "display_data"
    }
   ],
   "source": [
    "!del img\\apolloLM2.jpg\n",
    "!dir img\n",
    "# copiando pedaços do arquivo e não linhas! (não faz sentido falar em linhas num arquivo imagem)\n",
    "tamanhoPedaco = 1024\n",
    "with open('img/apolloLM.jpg','rb') as al:          # arquivo de leitura: al\n",
    "    with open('img/apolloLM2.jpg','wb') as ac:     # arquivo cópia: ac\n",
    "        pedaco = al.read(tamanhoPedaco)\n",
    "        while len(pedaco) > 0:\n",
    "            ac.write(pedaco)\n",
    "            pedaco = al.read(tamanhoPedaco)\n",
    "!dir img\n",
    "# mostrando o arquivo imagem copiado:\n",
    "from IPython.display import display, Image\n",
    "display(Image('img/apolloLM2.jpg'))"
   ]
  },
  {
   "cell_type": "markdown",
   "metadata": {
    "collapsed": true
   },
   "source": [
    "Fontes: \n",
    "1. E:\\python\\bibliografia\\Scipy_Lectures\n",
    "2. https://pythonacademy.com.br/blog/list-comprehensions-no-python#list-comprehensions-com-v%C3%A1rios-ifs\n",
    "3. https://www.programiz.com/python-programming/methods/built-in/zip\n",
    "3. https://thepythonguru.com/python-builtin-functions/reduce/\n",
    "3. https://medium.com/better-programming/lambda-map-and-filter-in-python-4935f248593\n",
    "3. https://blog.usejournal.com/zip-in-python-48cb4f70d013\n",
    "3. https://docs.python.org/3/reference/datamodel.html"
   ]
  },
  {
   "cell_type": "code",
   "execution_count": null,
   "metadata": {},
   "outputs": [],
   "source": []
  }
 ],
 "metadata": {
  "kernelspec": {
   "display_name": "Python 3",
   "language": "python",
   "name": "python3"
  },
  "language_info": {
   "codemirror_mode": {
    "name": "ipython",
    "version": 3
   },
   "file_extension": ".py",
   "mimetype": "text/x-python",
   "name": "python",
   "nbconvert_exporter": "python",
   "pygments_lexer": "ipython3",
   "version": "3.7.3"
  }
 },
 "nbformat": 4,
 "nbformat_minor": 2
}
